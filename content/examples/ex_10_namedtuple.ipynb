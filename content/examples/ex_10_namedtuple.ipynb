{
 "cells": [
  {
   "cell_type": "markdown",
   "id": "b96222eb-c6d6-4a99-8345-71f324bfd283",
   "metadata": {},
   "source": [
    "# collections.namedtuple\n",
    "\n",
    "A lightweight class that acts like a tuple with a type name and attributes."
   ]
  },
  {
   "cell_type": "code",
   "execution_count": 1,
   "id": "bd3a527a-9438-47e8-ac0e-19a252a5e02a",
   "metadata": {},
   "outputs": [],
   "source": [
    "from collections import namedtuple"
   ]
  },
  {
   "cell_type": "markdown",
   "id": "bfc59467-b978-4da6-a719-69dd13624fbb",
   "metadata": {},
   "source": [
    "Define a \"class\" with a name and attributes."
   ]
  },
  {
   "cell_type": "code",
   "execution_count": 2,
   "id": "81e30457-2fb8-4931-9155-7d4ef56e7c60",
   "metadata": {},
   "outputs": [],
   "source": [
    "Coords = namedtuple(\"Location\", \"name lat lon\")"
   ]
  },
  {
   "cell_type": "markdown",
   "id": "f85c368a-c984-414b-94d6-88a3ed512afd",
   "metadata": {},
   "source": [
    "Create an \"instance\" of the class."
   ]
  },
  {
   "cell_type": "code",
   "execution_count": 3,
   "id": "7725a970-2681-473b-a3a3-be6d871f0262",
   "metadata": {},
   "outputs": [
    {
     "data": {
      "text/plain": [
       "Location(name='London', lat=42.99, lon=-81.243)"
      ]
     },
     "execution_count": 3,
     "metadata": {},
     "output_type": "execute_result"
    }
   ],
   "source": [
    "c = Coords('London', 42.99, -81.243)\n",
    "c"
   ]
  },
  {
   "cell_type": "markdown",
   "id": "3c9ece39-b54c-4fc0-9f2e-6abd9b6ecec2",
   "metadata": {},
   "source": [
    "You can interact with the instance as if it were a tuple."
   ]
  },
  {
   "cell_type": "code",
   "execution_count": 4,
   "id": "3f451a6d-e07f-46b0-803c-d018259fdc52",
   "metadata": {},
   "outputs": [
    {
     "data": {
      "text/plain": [
       "'London'"
      ]
     },
     "execution_count": 4,
     "metadata": {},
     "output_type": "execute_result"
    }
   ],
   "source": [
    "c[0]"
   ]
  },
  {
   "cell_type": "markdown",
   "id": "ce85f872-3615-4edf-9428-3478dd7c9931",
   "metadata": {},
   "source": [
    "You can also access the named attributes."
   ]
  },
  {
   "cell_type": "code",
   "execution_count": 5,
   "id": "783fb82b-3017-424d-bfa9-52ebc801888f",
   "metadata": {},
   "outputs": [
    {
     "data": {
      "text/plain": [
       "'London'"
      ]
     },
     "execution_count": 5,
     "metadata": {},
     "output_type": "execute_result"
    }
   ],
   "source": [
    "c.name"
   ]
  },
  {
   "cell_type": "code",
   "execution_count": 6,
   "id": "a7d94b61-2579-4d1b-80a7-fff1aac4b85d",
   "metadata": {},
   "outputs": [
    {
     "data": {
      "text/plain": [
       "42.99"
      ]
     },
     "execution_count": 6,
     "metadata": {},
     "output_type": "execute_result"
    }
   ],
   "source": [
    "c.lat"
   ]
  },
  {
   "cell_type": "code",
   "execution_count": 7,
   "id": "93396285-b89b-4395-91aa-2680656111b2",
   "metadata": {},
   "outputs": [
    {
     "data": {
      "text/plain": [
       "__main__.Location"
      ]
     },
     "execution_count": 7,
     "metadata": {},
     "output_type": "execute_result"
    }
   ],
   "source": [
    "type(c)"
   ]
  }
 ],
 "metadata": {
  "kernelspec": {
   "display_name": "Python 3 (ipykernel)",
   "language": "python",
   "name": "python3"
  },
  "language_info": {
   "codemirror_mode": {
    "name": "ipython",
    "version": 3
   },
   "file_extension": ".py",
   "mimetype": "text/x-python",
   "name": "python",
   "nbconvert_exporter": "python",
   "pygments_lexer": "ipython3",
   "version": "3.11.4"
  }
 },
 "nbformat": 4,
 "nbformat_minor": 5
}
