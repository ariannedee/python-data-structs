{
 "cells": [
  {
   "cell_type": "markdown",
   "id": "6b83fc31",
   "metadata": {},
   "source": [
    "# Dicts\n",
    "Dictionaries are a type of key-value mapping object.\n",
    "\n",
    "Instead of accessing items by index (position), we get them through via keys.\n",
    "## Creating dicts"
   ]
  },
  {
   "cell_type": "code",
   "execution_count": 1,
   "id": "20050765",
   "metadata": {},
   "outputs": [
    {
     "data": {
      "text/plain": [
       "{}"
      ]
     },
     "execution_count": 1,
     "metadata": {},
     "output_type": "execute_result"
    }
   ],
   "source": [
    "dict()"
   ]
  },
  {
   "cell_type": "code",
   "execution_count": 2,
   "id": "89571c1d",
   "metadata": {},
   "outputs": [
    {
     "data": {
      "text/plain": [
       "{'a': 1, 'b': 2}"
      ]
     },
     "execution_count": 2,
     "metadata": {},
     "output_type": "execute_result"
    }
   ],
   "source": [
    "{'a': 1, 'b': 2}"
   ]
  },
  {
   "cell_type": "code",
   "execution_count": 3,
   "id": "d9c8c7ea",
   "metadata": {},
   "outputs": [
    {
     "data": {
      "text/plain": [
       "{1: 2, 3: 4}"
      ]
     },
     "execution_count": 3,
     "metadata": {},
     "output_type": "execute_result"
    }
   ],
   "source": [
    "dict(((1, 2), [3, 4]))  # Must be a sequence of 2-item lists/tuples"
   ]
  },
  {
   "cell_type": "markdown",
   "id": "fb5837a1",
   "metadata": {},
   "source": [
    "You can also build dicts using **dict comprehensions**"
   ]
  },
  {
   "cell_type": "code",
   "execution_count": 4,
   "id": "eb58a1fe",
   "metadata": {},
   "outputs": [
    {
     "data": {
      "text/plain": [
       "{0: 1, 2: 4, 4: 16, 6: 64, 8: 256}"
      ]
     },
     "execution_count": 4,
     "metadata": {},
     "output_type": "execute_result"
    }
   ],
   "source": [
    "{i: 2 ** i for i in range(0, 10, 2)}"
   ]
  },
  {
   "cell_type": "markdown",
   "id": "1fecacc6",
   "metadata": {},
   "source": [
    "We will look more at dict comprehensions in the second hour of the class."
   ]
  },
  {
   "cell_type": "markdown",
   "id": "e1076b1a",
   "metadata": {},
   "source": [
    "### Valid dict types\n",
    "`dict` **values** can be anything.\n",
    "\n",
    "`dict` **keys** must be __hashable__. Basically, if it's a builtin type, it can't be mutable (like `list`, `dict` or `set`). If it's a custom class, it must implement a special method for hashing and checking equality.\n",
    "\n",
    "Keys use `==` to determine key equality. So `1`, `1.0` and `True` all map to the same key."
   ]
  },
  {
   "cell_type": "code",
   "execution_count": 5,
   "id": "95754405",
   "metadata": {
    "scrolled": true
   },
   "outputs": [
    {
     "data": {
      "text/plain": [
       "{'a': True, 1: 'float', None: {}, (1, 2): 'tuple'}"
      ]
     },
     "execution_count": 5,
     "metadata": {},
     "output_type": "execute_result"
    }
   ],
   "source": [
    "{\n",
    "    'a': True, \n",
    "    1: ['a', 2,],\n",
    "    True: False,\n",
    "    None: {}, \n",
    "    1.0: 'float',\n",
    "    (1, 2): 'tuple',\n",
    "}"
   ]
  },
  {
   "cell_type": "code",
   "execution_count": 6,
   "id": "c57f46af",
   "metadata": {},
   "outputs": [
    {
     "name": "stdout",
     "output_type": "stream",
     "text": [
      "TypeError(\"unhashable type: 'list'\")\n"
     ]
    }
   ],
   "source": [
    "try:\n",
    "    {[1, 2]: 'list'}\n",
    "except Exception as e:\n",
    "    print(repr(e))"
   ]
  },
  {
   "cell_type": "markdown",
   "id": "259ca28d",
   "metadata": {},
   "source": [
    "## Getting and updating contents"
   ]
  },
  {
   "cell_type": "code",
   "execution_count": 7,
   "id": "508e4225",
   "metadata": {},
   "outputs": [],
   "source": [
    "d = {'a': 1, 'b': 2}"
   ]
  },
  {
   "cell_type": "markdown",
   "id": "934bad7a",
   "metadata": {},
   "source": [
    "### Getting values\n",
    "We get items by key and not index (even if it's an int)"
   ]
  },
  {
   "cell_type": "code",
   "execution_count": 8,
   "id": "36734377",
   "metadata": {},
   "outputs": [
    {
     "data": {
      "text/plain": [
       "1"
      ]
     },
     "execution_count": 8,
     "metadata": {},
     "output_type": "execute_result"
    }
   ],
   "source": [
    "d['a']"
   ]
  },
  {
   "cell_type": "code",
   "execution_count": 9,
   "id": "a4955c73",
   "metadata": {},
   "outputs": [
    {
     "name": "stdout",
     "output_type": "stream",
     "text": [
      "KeyError('c')\n"
     ]
    }
   ],
   "source": [
    "try:\n",
    "    print(d['c'])  # Key doesn't exist\n",
    "except Exception as e:\n",
    "    print(repr(e))"
   ]
  },
  {
   "cell_type": "code",
   "execution_count": 10,
   "id": "c62918b6",
   "metadata": {},
   "outputs": [
    {
     "data": {
      "text/plain": [
       "1"
      ]
     },
     "execution_count": 10,
     "metadata": {},
     "output_type": "execute_result"
    }
   ],
   "source": [
    "d.get('a')"
   ]
  },
  {
   "cell_type": "code",
   "execution_count": 11,
   "id": "c4ec0ef2",
   "metadata": {},
   "outputs": [
    {
     "name": "stdout",
     "output_type": "stream",
     "text": [
      "None\n"
     ]
    }
   ],
   "source": [
    "print(d.get('c'))  # Key doesn't exist"
   ]
  },
  {
   "cell_type": "code",
   "execution_count": 12,
   "id": "2c52527c",
   "metadata": {},
   "outputs": [
    {
     "data": {
      "text/plain": [
       "'Not found'"
      ]
     },
     "execution_count": 12,
     "metadata": {},
     "output_type": "execute_result"
    }
   ],
   "source": [
    "d.get('c', 'Not found')  # Can provide default value"
   ]
  },
  {
   "cell_type": "markdown",
   "id": "e2babede",
   "metadata": {},
   "source": [
    "### Updating values"
   ]
  },
  {
   "cell_type": "code",
   "execution_count": 13,
   "id": "bcb3946a",
   "metadata": {},
   "outputs": [
    {
     "data": {
      "text/plain": [
       "{'a': 'new', 'b': 2}"
      ]
     },
     "execution_count": 13,
     "metadata": {},
     "output_type": "execute_result"
    }
   ],
   "source": [
    "d['a'] = 'new'  # update existing item\n",
    "d"
   ]
  },
  {
   "cell_type": "code",
   "execution_count": 14,
   "id": "07c67cd7",
   "metadata": {},
   "outputs": [
    {
     "data": {
      "text/plain": [
       "{'a': 'new', 'b': 2, 'c': 3}"
      ]
     },
     "execution_count": 14,
     "metadata": {},
     "output_type": "execute_result"
    }
   ],
   "source": [
    "d['c'] = 3  # add item a new item\n",
    "d"
   ]
  },
  {
   "cell_type": "code",
   "execution_count": 15,
   "id": "2e2069a1",
   "metadata": {},
   "outputs": [
    {
     "data": {
      "text/plain": [
       "{'a': 'new', 'c': 3}"
      ]
     },
     "execution_count": 15,
     "metadata": {},
     "output_type": "execute_result"
    }
   ],
   "source": [
    "del d['b']  # deleting by key\n",
    "d"
   ]
  },
  {
   "cell_type": "markdown",
   "id": "3633ab62",
   "metadata": {},
   "source": [
    "## Checking containment\n",
    "Checks keys, not values"
   ]
  },
  {
   "cell_type": "code",
   "execution_count": 16,
   "id": "9eb0ccc0",
   "metadata": {},
   "outputs": [
    {
     "data": {
      "text/plain": [
       "True"
      ]
     },
     "execution_count": 16,
     "metadata": {},
     "output_type": "execute_result"
    }
   ],
   "source": [
    "'a' in d"
   ]
  },
  {
   "cell_type": "code",
   "execution_count": 17,
   "id": "b1fb52e5",
   "metadata": {},
   "outputs": [
    {
     "data": {
      "text/plain": [
       "False"
      ]
     },
     "execution_count": 17,
     "metadata": {},
     "output_type": "execute_result"
    }
   ],
   "source": [
    "'e' in d"
   ]
  },
  {
   "cell_type": "markdown",
   "id": "f248ba85",
   "metadata": {},
   "source": [
    "## Looping\n",
    "Basic loop is over keys"
   ]
  },
  {
   "cell_type": "code",
   "execution_count": 18,
   "id": "c3bc2dfd",
   "metadata": {
    "scrolled": true
   },
   "outputs": [
    {
     "name": "stdout",
     "output_type": "stream",
     "text": [
      "a\n",
      "c\n"
     ]
    }
   ],
   "source": [
    "for key in d:\n",
    "    print(key)"
   ]
  },
  {
   "cell_type": "markdown",
   "id": "b4aa30a7",
   "metadata": {},
   "source": [
    "It's recommended to use `.keys()`, `.values()` or `.items()` to be explicit about what you're looping over."
   ]
  },
  {
   "cell_type": "code",
   "execution_count": 19,
   "id": "1cff03f2",
   "metadata": {},
   "outputs": [
    {
     "name": "stdout",
     "output_type": "stream",
     "text": [
      "a: new\n",
      "c: 3\n"
     ]
    }
   ],
   "source": [
    "for key, value in d.items():\n",
    "    print(f\"{key}: {value}\")"
   ]
  }
 ],
 "metadata": {
  "jupytext": {
   "cell_metadata_filter": "-all",
   "formats": "auto:light,ipynb",
   "notebook_metadata_filter": "-all"
  },
  "kernelspec": {
   "display_name": "Python 3 (ipykernel)",
   "language": "python",
   "name": "python3"
  },
  "language_info": {
   "codemirror_mode": {
    "name": "ipython",
    "version": 3
   },
   "file_extension": ".py",
   "mimetype": "text/x-python",
   "name": "python",
   "nbconvert_exporter": "python",
   "pygments_lexer": "ipython3",
   "version": "3.11.4"
  }
 },
 "nbformat": 4,
 "nbformat_minor": 5
}
