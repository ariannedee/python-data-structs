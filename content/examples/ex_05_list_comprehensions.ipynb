{
 "cells": [
  {
   "cell_type": "markdown",
   "id": "f543ec26",
   "metadata": {},
   "source": [
    "# List Comprehensions\n",
    "General format:\n",
    "`new_list = [expression for member in iterable]`\n",
    "## Basic comprehensions"
   ]
  },
  {
   "cell_type": "code",
   "execution_count": 1,
   "id": "7050d902",
   "metadata": {},
   "outputs": [
    {
     "data": {
      "text/plain": [
       "[0, 1, 4, 9, 16, 25, 36, 49, 64, 81]"
      ]
     },
     "execution_count": 1,
     "metadata": {},
     "output_type": "execute_result"
    }
   ],
   "source": [
    "squares = [i ** 2 for i in range(10)]\n",
    "squares"
   ]
  },
  {
   "cell_type": "markdown",
   "id": "64b1e11b",
   "metadata": {},
   "source": [
    "### As for-loop"
   ]
  },
  {
   "cell_type": "code",
   "execution_count": 2,
   "id": "f84bfad1",
   "metadata": {},
   "outputs": [
    {
     "data": {
      "text/plain": [
       "[0, 1, 4, 9, 16, 25, 36, 49, 64, 81]"
      ]
     },
     "execution_count": 2,
     "metadata": {},
     "output_type": "execute_result"
    }
   ],
   "source": [
    "squares = []\n",
    "for i in range(10):\n",
    "    squares.append(i ** 2)\n",
    "\n",
    "squares"
   ]
  },
  {
   "cell_type": "markdown",
   "id": "cdeb630f",
   "metadata": {},
   "source": [
    "## Using conditionals\n",
    "Generalized:\n",
    "`new_list = [expression for member in iterable if condition]`"
   ]
  },
  {
   "cell_type": "code",
   "execution_count": 3,
   "id": "c43ed6d9",
   "metadata": {},
   "outputs": [
    {
     "data": {
      "text/plain": [
       "[0, 2, 4, 6, 8]"
      ]
     },
     "execution_count": 3,
     "metadata": {},
     "output_type": "execute_result"
    }
   ],
   "source": [
    "evens = [i for i in range(10) if i % 2 == 0]\n",
    "evens"
   ]
  },
  {
   "cell_type": "markdown",
   "id": "b518132b",
   "metadata": {},
   "source": [
    "### As for-loop"
   ]
  },
  {
   "cell_type": "code",
   "execution_count": 4,
   "id": "6413bcd7",
   "metadata": {},
   "outputs": [
    {
     "data": {
      "text/plain": [
       "[0, 2, 4, 6, 8]"
      ]
     },
     "execution_count": 4,
     "metadata": {},
     "output_type": "execute_result"
    }
   ],
   "source": [
    "evens = []\n",
    "\n",
    "for i in range(10):\n",
    "    if i % 2 == 0:\n",
    "        evens.append(i)\n",
    "evens"
   ]
  },
  {
   "cell_type": "markdown",
   "id": "6be879c5",
   "metadata": {},
   "source": [
    "## With ternary operator"
   ]
  },
  {
   "cell_type": "code",
   "execution_count": 5,
   "id": "e1cd81ae",
   "metadata": {},
   "outputs": [],
   "source": [
    "x = 'a' if True else 'b'\n",
    "\n",
    "if True:\n",
    "    x = 'a'\n",
    "else:\n",
    "    x = 'b'"
   ]
  },
  {
   "cell_type": "code",
   "execution_count": 6,
   "id": "f2fc59fb",
   "metadata": {},
   "outputs": [
    {
     "data": {
      "text/plain": [
       "[True, False, True, False, True, False, True, False, True, False]"
      ]
     },
     "execution_count": 6,
     "metadata": {},
     "output_type": "execute_result"
    }
   ],
   "source": [
    "is_even = [True if i % 2 == 0 else False for i in range(10)]\n",
    "is_even"
   ]
  },
  {
   "cell_type": "code",
   "execution_count": 7,
   "id": "edf960a1",
   "metadata": {},
   "outputs": [
    {
     "data": {
      "text/plain": [
       "[True, False, True, False, True, False, True, False, True, False]"
      ]
     },
     "execution_count": 7,
     "metadata": {},
     "output_type": "execute_result"
    }
   ],
   "source": [
    "is_even = []\n",
    "for i in range(10):\n",
    "    if i % 2 == 0:\n",
    "        is_even.append(True)\n",
    "    else:\n",
    "        is_even.append(False)\n",
    "is_even"
   ]
  },
  {
   "cell_type": "markdown",
   "id": "457028c1",
   "metadata": {},
   "source": [
    "## Nested comprehensions\n",
    "### Nested lists"
   ]
  },
  {
   "cell_type": "code",
   "execution_count": 8,
   "id": "4578f0e5",
   "metadata": {},
   "outputs": [
    {
     "data": {
      "text/plain": [
       "[[(0, 0), (0, 1), (0, 2)], [(1, 0), (1, 1), (1, 2)], [(2, 0), (2, 1), (2, 2)]]"
      ]
     },
     "execution_count": 8,
     "metadata": {},
     "output_type": "execute_result"
    }
   ],
   "source": [
    "coords = [\n",
    "    [(x, y) for y in range(3)] \n",
    "    for x in range(3)\n",
    "]\n",
    "coords"
   ]
  },
  {
   "cell_type": "markdown",
   "id": "764387aa",
   "metadata": {},
   "source": [
    "### Looping over coords"
   ]
  },
  {
   "cell_type": "code",
   "execution_count": 9,
   "id": "4b8123d8",
   "metadata": {},
   "outputs": [
    {
     "name": "stdout",
     "output_type": "stream",
     "text": [
      "[(0, 0), (0, 1), (0, 2)]\n",
      "[(1, 0), (1, 1), (1, 2)]\n",
      "[(2, 0), (2, 1), (2, 2)]\n"
     ]
    }
   ],
   "source": [
    "for row in coords:\n",
    "    print(row)"
   ]
  },
  {
   "cell_type": "markdown",
   "id": "0eb7db93",
   "metadata": {},
   "source": [
    "### As for-loop"
   ]
  },
  {
   "cell_type": "code",
   "execution_count": 10,
   "id": "f07cde34",
   "metadata": {},
   "outputs": [
    {
     "data": {
      "text/plain": [
       "[[(0, 0), (0, 1), (0, 2)], [(1, 0), (1, 1), (1, 2)], [(2, 0), (2, 1), (2, 2)]]"
      ]
     },
     "execution_count": 10,
     "metadata": {},
     "output_type": "execute_result"
    }
   ],
   "source": [
    "coords = []\n",
    "for x in range(3):\n",
    "    row = []\n",
    "    for y in range(3):\n",
    "        row.append((x, y))\n",
    "    coords.append(row)\n",
    "coords"
   ]
  },
  {
   "cell_type": "markdown",
   "id": "9f92e0c7",
   "metadata": {},
   "source": [
    "### Flattened list"
   ]
  },
  {
   "cell_type": "code",
   "execution_count": 11,
   "id": "b0f7c04c",
   "metadata": {},
   "outputs": [
    {
     "data": {
      "text/plain": [
       "[(0, 0), (0, 1), (0, 2), (1, 0), (1, 1), (1, 2), (2, 0), (2, 1), (2, 2)]"
      ]
     },
     "execution_count": 11,
     "metadata": {},
     "output_type": "execute_result"
    }
   ],
   "source": [
    "coords = [(x, y) for x in range(3) for y in range(3)]\n",
    "coords"
   ]
  },
  {
   "cell_type": "markdown",
   "id": "6813bd50",
   "metadata": {},
   "source": [
    "### As for-loop"
   ]
  },
  {
   "cell_type": "code",
   "execution_count": 12,
   "id": "b6a77da4",
   "metadata": {},
   "outputs": [
    {
     "data": {
      "text/plain": [
       "[(0, 0), (0, 1), (0, 2), (1, 0), (1, 1), (1, 2), (2, 0), (2, 1), (2, 2)]"
      ]
     },
     "execution_count": 12,
     "metadata": {},
     "output_type": "execute_result"
    }
   ],
   "source": [
    "coords = []\n",
    "for x in range(3):\n",
    "    for y in range(3):\n",
    "        coords.append((x, y))\n",
    "coords"
   ]
  },
  {
   "cell_type": "code",
   "execution_count": 13,
   "id": "4b027b05",
   "metadata": {},
   "outputs": [
    {
     "data": {
      "text/plain": [
       "[7, 2, 6, 1, 4, 5, -2, 8, 0]"
      ]
     },
     "execution_count": 13,
     "metadata": {},
     "output_type": "execute_result"
    }
   ],
   "source": [
    "num_lists = [[7, 2], [6], [1, 4, 5], [-2, 8, 0]]\n",
    "nums = [num for num_list in num_lists for num in num_list]\n",
    "nums"
   ]
  },
  {
   "cell_type": "markdown",
   "id": "f3e5e103",
   "metadata": {},
   "source": [
    "## Complex comprehension example"
   ]
  },
  {
   "cell_type": "code",
   "execution_count": 14,
   "id": "c5f822c9",
   "metadata": {},
   "outputs": [],
   "source": [
    "num_lists = [[7, 2], [6], [1, 4, 5], [-2, 8, 0]]"
   ]
  },
  {
   "cell_type": "code",
   "execution_count": 15,
   "id": "aaef81cd",
   "metadata": {},
   "outputs": [
    {
     "data": {
      "text/plain": [
       "[2, 1, 4, -2, 0]"
      ]
     },
     "execution_count": 15,
     "metadata": {},
     "output_type": "execute_result"
    }
   ],
   "source": [
    "small_nums = [num\n",
    "    for nums in num_lists\n",
    "    for num in nums\n",
    "    if num < 5]\n",
    "small_nums"
   ]
  },
  {
   "cell_type": "markdown",
   "id": "3293f88b",
   "metadata": {},
   "source": [
    "### As for-loop"
   ]
  },
  {
   "cell_type": "code",
   "execution_count": 16,
   "id": "db12cc4b",
   "metadata": {},
   "outputs": [
    {
     "data": {
      "text/plain": [
       "[2, 1, 4, -2, 0]"
      ]
     },
     "execution_count": 16,
     "metadata": {},
     "output_type": "execute_result"
    }
   ],
   "source": [
    "small_nums = []\n",
    "for nums in num_lists:\n",
    "    for num in nums:\n",
    "        if num < 5:\n",
    "            small_nums.append(num)\n",
    "small_nums"
   ]
  },
  {
   "cell_type": "markdown",
   "id": "073bee82",
   "metadata": {},
   "source": [
    "## Very complex example"
   ]
  },
  {
   "cell_type": "code",
   "execution_count": 17,
   "id": "578809da",
   "metadata": {},
   "outputs": [],
   "source": [
    "num_lists = [[7, 2], [6], [1, 4, 5], [-2, 8, 0]]"
   ]
  },
  {
   "cell_type": "code",
   "execution_count": 18,
   "id": "14744fb2",
   "metadata": {},
   "outputs": [
    {
     "data": {
      "text/plain": [
       "[7, -1, 5]"
      ]
     },
     "execution_count": 18,
     "metadata": {},
     "output_type": "execute_result"
    }
   ],
   "source": [
    "a_list = [num if num > 3 else -num\n",
    "    for nums in num_lists\n",
    "    if len(nums) > 1\n",
    "    for num in nums\n",
    "    if num % 2 == 1]\n",
    "a_list"
   ]
  },
  {
   "cell_type": "markdown",
   "id": "a2723ca8",
   "metadata": {},
   "source": [
    "### As for-loop"
   ]
  },
  {
   "cell_type": "code",
   "execution_count": 19,
   "id": "b426f8a3",
   "metadata": {},
   "outputs": [
    {
     "data": {
      "text/plain": [
       "[7, -1, 5]"
      ]
     },
     "execution_count": 19,
     "metadata": {},
     "output_type": "execute_result"
    }
   ],
   "source": [
    "a_list = []\n",
    "for nums in num_lists:\n",
    "    if len(nums) > 1:\n",
    "        for num in nums:\n",
    "            if num % 2 == 1:\n",
    "                if num > 3:\n",
    "                    a_list.append(num)\n",
    "                else:\n",
    "                    a_list.append(-num)\n",
    "a_list"
   ]
  },
  {
   "cell_type": "markdown",
   "id": "5131b533",
   "metadata": {},
   "source": [
    "### Functionally, with map/filter/sum"
   ]
  },
  {
   "cell_type": "code",
   "execution_count": 20,
   "id": "23ac8f10",
   "metadata": {},
   "outputs": [
    {
     "data": {
      "text/plain": [
       "[7, -1, 5]"
      ]
     },
     "execution_count": 20,
     "metadata": {},
     "output_type": "execute_result"
    }
   ],
   "source": [
    "SMALL_NUM = 3\n",
    "multiple_nums = filter(lambda nums: len(nums) > 1, num_lists)\n",
    "flattened = sum(multiple_nums, [])\n",
    "odds = filter(lambda num: num % 2 == 1, flattened)\n",
    "small_becomes_negative = map(lambda num: -num if num < SMALL_NUM else num, odds)\n",
    "a_list = list(small_becomes_negative)\n",
    "a_list"
   ]
  }
 ],
 "metadata": {
  "jupytext": {
   "cell_metadata_filter": "-all",
   "formats": "auto:light,ipynb",
   "main_language": "python",
   "notebook_metadata_filter": "-all"
  },
  "kernelspec": {
   "display_name": "Python 3 (ipykernel)",
   "language": "python",
   "name": "python3"
  },
  "language_info": {
   "codemirror_mode": {
    "name": "ipython",
    "version": 3
   },
   "file_extension": ".py",
   "mimetype": "text/x-python",
   "name": "python",
   "nbconvert_exporter": "python",
   "pygments_lexer": "ipython3",
   "version": "3.11.4"
  }
 },
 "nbformat": 4,
 "nbformat_minor": 5
}
