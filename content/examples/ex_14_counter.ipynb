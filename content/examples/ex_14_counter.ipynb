{
 "cells": [
  {
   "cell_type": "markdown",
   "id": "46dad6c9",
   "metadata": {},
   "source": [
    "# collections.Counter\n",
    "Also called a multiset or bag, `Counter` keeps track of how many times an element is included in a set."
   ]
  },
  {
   "cell_type": "code",
   "execution_count": 1,
   "id": "8686ecc2",
   "metadata": {},
   "outputs": [],
   "source": [
    "from collections import Counter"
   ]
  },
  {
   "cell_type": "code",
   "execution_count": 2,
   "id": "366d6f6d",
   "metadata": {},
   "outputs": [
    {
     "data": {
      "text/plain": [
       "Counter({'silver': 4, 'gold': 1, 'copper': 4})"
      ]
     },
     "execution_count": 2,
     "metadata": {},
     "output_type": "execute_result"
    }
   ],
   "source": [
    "coins = Counter()\n",
    "coins.update(['silver', 'silver', 'gold'])\n",
    "coins.update({'copper': 4, 'silver': 2})\n",
    "coins"
   ]
  },
  {
   "cell_type": "markdown",
   "id": "778e4e86",
   "metadata": {},
   "source": [
    "It's like a specialized `dict`, where the **key** is an element and the **value** is an integer of counts.\n",
    "## Creating counters \n",
    "### From a sequence\n",
    "If the sequence can contain duplicates, like `list` or `tuple`, it will keep track of item counts"
   ]
  },
  {
   "cell_type": "code",
   "execution_count": 3,
   "id": "7e1c9fc6",
   "metadata": {},
   "outputs": [
    {
     "data": {
      "text/plain": [
       "Counter({1: 4, 3: 2, 2: 1, 4: 1})"
      ]
     },
     "execution_count": 3,
     "metadata": {},
     "output_type": "execute_result"
    }
   ],
   "source": [
    "a = Counter([1, 1, 3, 2, 1, 3, 4, 1])\n",
    "a"
   ]
  },
  {
   "cell_type": "markdown",
   "id": "d3226a07",
   "metadata": {},
   "source": [
    "Sets remove duplicates when created, each count will be 1."
   ]
  },
  {
   "cell_type": "code",
   "execution_count": 4,
   "id": "718b5a0d",
   "metadata": {},
   "outputs": [
    {
     "data": {
      "text/plain": [
       "Counter({1: 1, 2: 1, 3: 1, 4: 1})"
      ]
     },
     "execution_count": 4,
     "metadata": {},
     "output_type": "execute_result"
    }
   ],
   "source": [
    "b = Counter({1, 1, 3, 2, 1, 3, 4, 1})\n",
    "b"
   ]
  },
  {
   "cell_type": "markdown",
   "id": "83c0ebd6",
   "metadata": {},
   "source": [
    "### From a dictionary\n",
    "It will treat `{key: value}` as `{element: count}`"
   ]
  },
  {
   "cell_type": "code",
   "execution_count": 5,
   "id": "314ed85b",
   "metadata": {},
   "outputs": [
    {
     "data": {
      "text/plain": [
       "Counter({'a': 2, 'b': 5, 'c': 1})"
      ]
     },
     "execution_count": 5,
     "metadata": {},
     "output_type": "execute_result"
    }
   ],
   "source": [
    "c = Counter({'a': 2, 'b': 5, 'c': 1})\n",
    "c"
   ]
  },
  {
   "cell_type": "markdown",
   "id": "1b4f513d",
   "metadata": {},
   "source": [
    "If your dictionary _values_ are not all `int`s, some methods will work, and others will give you errors."
   ]
  },
  {
   "cell_type": "code",
   "execution_count": 6,
   "id": "d0332bf0",
   "metadata": {},
   "outputs": [
    {
     "data": {
      "text/plain": [
       "Counter({'a': 2, 'b': 'hi', 'c': 2.0})"
      ]
     },
     "execution_count": 6,
     "metadata": {},
     "output_type": "execute_result"
    }
   ],
   "source": [
    "d = Counter({'a': 2, 'b': 'hi', 'c': 1.})\n",
    "d.update('c')\n",
    "d"
   ]
  },
  {
   "cell_type": "code",
   "execution_count": 7,
   "id": "086a15c9",
   "metadata": {},
   "outputs": [
    {
     "name": "stdout",
     "output_type": "stream",
     "text": [
      "TypeError('can only concatenate str (not \"int\") to str')\n"
     ]
    }
   ],
   "source": [
    "try:\n",
    "    d.update('b')\n",
    "except Exception as e:\n",
    "    print(repr(e))"
   ]
  },
  {
   "cell_type": "markdown",
   "id": "9e005640",
   "metadata": {
    "lines_to_next_cell": 2
   },
   "source": [
    "## Updating\n",
    "You can pass in a sequence or dict of counts."
   ]
  },
  {
   "cell_type": "code",
   "execution_count": 8,
   "id": "bccfa417",
   "metadata": {},
   "outputs": [
    {
     "data": {
      "text/plain": [
       "Counter()"
      ]
     },
     "execution_count": 8,
     "metadata": {},
     "output_type": "execute_result"
    }
   ],
   "source": [
    "e = Counter()\n",
    "e"
   ]
  },
  {
   "cell_type": "markdown",
   "id": "090740cb",
   "metadata": {},
   "source": [
    "`.update()` to adds items (uses the `+` operator)"
   ]
  },
  {
   "cell_type": "code",
   "execution_count": 9,
   "id": "4a9e8960",
   "metadata": {},
   "outputs": [
    {
     "data": {
      "text/plain": [
       "Counter({'a': 1, 'b': 3})"
      ]
     },
     "execution_count": 9,
     "metadata": {},
     "output_type": "execute_result"
    }
   ],
   "source": [
    "e.update('abbb')\n",
    "e"
   ]
  },
  {
   "cell_type": "code",
   "execution_count": 10,
   "id": "f14a4f33",
   "metadata": {},
   "outputs": [
    {
     "data": {
      "text/plain": [
       "Counter({'a': 2, 'b': 3, 'c': 1})"
      ]
     },
     "execution_count": 10,
     "metadata": {},
     "output_type": "execute_result"
    }
   ],
   "source": [
    "e.update({'c', 'c', 'a'})  # c is only counted once in a normal set\n",
    "e"
   ]
  },
  {
   "cell_type": "code",
   "execution_count": 11,
   "id": "b0036a6b",
   "metadata": {},
   "outputs": [
    {
     "data": {
      "text/plain": [
       "Counter({'a': 2, 'b': 3, 'c': -2, 'd': 2})"
      ]
     },
     "execution_count": 11,
     "metadata": {},
     "output_type": "execute_result"
    }
   ],
   "source": [
    "e.update({'c':-3, 'd': 2})\n",
    "e"
   ]
  },
  {
   "cell_type": "markdown",
   "id": "2f14184b",
   "metadata": {},
   "source": [
    "`.subtract()` removes items (uses the `-` operator)"
   ]
  },
  {
   "cell_type": "code",
   "execution_count": 12,
   "id": "4926d9dd",
   "metadata": {},
   "outputs": [
    {
     "data": {
      "text/plain": [
       "Counter({'a': 1, 'b': 0, 'c': -2, 'd': 2})"
      ]
     },
     "execution_count": 12,
     "metadata": {},
     "output_type": "execute_result"
    }
   ],
   "source": [
    "e.subtract('abbb')\n",
    "e"
   ]
  },
  {
   "cell_type": "code",
   "execution_count": 13,
   "id": "0c07d5ca",
   "metadata": {},
   "outputs": [
    {
     "data": {
      "text/plain": [
       "Counter({'a': 4, 'b': -3, 'c': -2, 'd': 2})"
      ]
     },
     "execution_count": 13,
     "metadata": {},
     "output_type": "execute_result"
    }
   ],
   "source": [
    "e.subtract({'a': -3, 'b': 3})\n",
    "e"
   ]
  },
  {
   "cell_type": "markdown",
   "id": "2c386ddf",
   "metadata": {},
   "source": [
    "## Counters are like dictionaries"
   ]
  },
  {
   "cell_type": "code",
   "execution_count": 14,
   "id": "79671997",
   "metadata": {},
   "outputs": [
    {
     "data": {
      "text/plain": [
       "4"
      ]
     },
     "execution_count": 14,
     "metadata": {},
     "output_type": "execute_result"
    }
   ],
   "source": [
    "e['a']"
   ]
  },
  {
   "cell_type": "code",
   "execution_count": 15,
   "id": "0585d1ab",
   "metadata": {},
   "outputs": [
    {
     "data": {
      "text/plain": [
       "2"
      ]
     },
     "execution_count": 15,
     "metadata": {},
     "output_type": "execute_result"
    }
   ],
   "source": [
    "e.get('d', 0)"
   ]
  },
  {
   "cell_type": "code",
   "execution_count": 16,
   "id": "7dcabdc4",
   "metadata": {},
   "outputs": [
    {
     "data": {
      "text/plain": [
       "0"
      ]
     },
     "execution_count": 16,
     "metadata": {},
     "output_type": "execute_result"
    }
   ],
   "source": [
    "e.get('e', 0)"
   ]
  },
  {
   "cell_type": "code",
   "execution_count": 17,
   "id": "81778038",
   "metadata": {},
   "outputs": [],
   "source": [
    "e['c'] = 1"
   ]
  },
  {
   "cell_type": "code",
   "execution_count": 18,
   "id": "bff12e0f",
   "metadata": {},
   "outputs": [
    {
     "name": "stdout",
     "output_type": "stream",
     "text": [
      "a: 4\n",
      "b: -3\n",
      "c: 1\n",
      "d: 2\n"
     ]
    }
   ],
   "source": [
    "for key, value in e.items():\n",
    "    print(f'{key}: {value}')"
   ]
  },
  {
   "cell_type": "markdown",
   "id": "54cafde5",
   "metadata": {},
   "source": [
    "## Special Counter methods\n",
    "`.elements()` is an iterator of all the elements, repeating each value as many times as its count"
   ]
  },
  {
   "cell_type": "code",
   "execution_count": 19,
   "id": "1dd42444",
   "metadata": {},
   "outputs": [
    {
     "name": "stdout",
     "output_type": "stream",
     "text": [
      "a\n",
      "a\n",
      "a\n",
      "a\n",
      "c\n",
      "d\n",
      "d\n"
     ]
    }
   ],
   "source": [
    "for element in e.elements():  # negative integer counts won't be included\n",
    "    print(element)"
   ]
  },
  {
   "cell_type": "markdown",
   "id": "ac21db92",
   "metadata": {},
   "source": [
    "`.elements()` expects all counts to be integers"
   ]
  },
  {
   "cell_type": "code",
   "execution_count": 20,
   "id": "eee6540a",
   "metadata": {},
   "outputs": [
    {
     "data": {
      "text/plain": [
       "Counter({'a': 4, 'b': -3, 'c': 1.0, 'd': 2})"
      ]
     },
     "execution_count": 20,
     "metadata": {},
     "output_type": "execute_result"
    }
   ],
   "source": [
    "e['c'] = 1.0\n",
    "e"
   ]
  },
  {
   "cell_type": "code",
   "execution_count": 21,
   "id": "30150434",
   "metadata": {},
   "outputs": [
    {
     "name": "stdout",
     "output_type": "stream",
     "text": [
      "a\n",
      "a\n",
      "a\n",
      "a\n",
      "TypeError('integer argument expected, got float')\n"
     ]
    }
   ],
   "source": [
    "try:\n",
    "    for value in e.elements():\n",
    "        print(value)\n",
    "except Exception as ex:\n",
    "    print(repr(ex))"
   ]
  },
  {
   "cell_type": "markdown",
   "id": "7b52f5e8",
   "metadata": {},
   "source": [
    "`.most_common()` will return a list of the most common elements as `(element, count)`. If you pass an integer `n`, only that number are returned."
   ]
  },
  {
   "cell_type": "code",
   "execution_count": 22,
   "id": "2e9955c0",
   "metadata": {},
   "outputs": [
    {
     "data": {
      "text/plain": [
       "[('a', 4), ('d', 2), ('c', 1.0), ('b', -3)]"
      ]
     },
     "execution_count": 22,
     "metadata": {},
     "output_type": "execute_result"
    }
   ],
   "source": [
    "e.most_common()"
   ]
  },
  {
   "cell_type": "code",
   "execution_count": 23,
   "id": "74c0faca",
   "metadata": {},
   "outputs": [
    {
     "data": {
      "text/plain": [
       "[('a', 4), ('d', 2)]"
      ]
     },
     "execution_count": 23,
     "metadata": {},
     "output_type": "execute_result"
    }
   ],
   "source": [
    "e.most_common(2)"
   ]
  }
 ],
 "metadata": {
  "jupytext": {
   "cell_metadata_filter": "-all",
   "formats": "auto:light,ipynb",
   "main_language": "python",
   "notebook_metadata_filter": "-all"
  },
  "kernelspec": {
   "display_name": "Python 3 (ipykernel)",
   "language": "python",
   "name": "python3"
  },
  "language_info": {
   "codemirror_mode": {
    "name": "ipython",
    "version": 3
   },
   "file_extension": ".py",
   "mimetype": "text/x-python",
   "name": "python",
   "nbconvert_exporter": "python",
   "pygments_lexer": "ipython3",
   "version": "3.11.4"
  }
 },
 "nbformat": 4,
 "nbformat_minor": 5
}
