{
 "cells": [
  {
   "cell_type": "markdown",
   "id": "69635744",
   "metadata": {},
   "source": [
    "# collections.OrderedDict"
   ]
  },
  {
   "cell_type": "code",
   "execution_count": 1,
   "id": "cc0e011f",
   "metadata": {},
   "outputs": [],
   "source": [
    "from collections import OrderedDict"
   ]
  },
  {
   "cell_type": "markdown",
   "id": "6b1a42bc",
   "metadata": {},
   "source": [
    "## Create\n",
    "### Empty dict"
   ]
  },
  {
   "cell_type": "code",
   "execution_count": 2,
   "id": "d3e75ad1",
   "metadata": {},
   "outputs": [
    {
     "data": {
      "text/plain": [
       "OrderedDict()"
      ]
     },
     "execution_count": 2,
     "metadata": {},
     "output_type": "execute_result"
    }
   ],
   "source": [
    "a = OrderedDict()\n",
    "a"
   ]
  },
  {
   "cell_type": "markdown",
   "id": "646cba33",
   "metadata": {},
   "source": [
    "### From a dict"
   ]
  },
  {
   "cell_type": "code",
   "execution_count": 3,
   "id": "69606673",
   "metadata": {},
   "outputs": [
    {
     "data": {
      "text/plain": [
       "OrderedDict([(1, 'a'), (2, 'b')])"
      ]
     },
     "execution_count": 3,
     "metadata": {},
     "output_type": "execute_result"
    }
   ],
   "source": [
    "b = OrderedDict({1: 'a', 2: 'b'})\n",
    "b"
   ]
  },
  {
   "cell_type": "markdown",
   "id": "2f4df4a4",
   "metadata": {},
   "source": [
    "### From a sequence\n",
    "Each item in the sequence must be another sequence with length 2"
   ]
  },
  {
   "cell_type": "code",
   "execution_count": 4,
   "id": "f3ff07f5",
   "metadata": {},
   "outputs": [
    {
     "data": {
      "text/plain": [
       "OrderedDict([('a', 'apple'), ('banana', 'b'), ('c', 'cherry')])"
      ]
     },
     "execution_count": 4,
     "metadata": {},
     "output_type": "execute_result"
    }
   ],
   "source": [
    "c = OrderedDict([['a', 'apple'], {'b', 'banana'}, ('c', 'cherry')])\n",
    "c"
   ]
  },
  {
   "cell_type": "markdown",
   "id": "d78ef9f2",
   "metadata": {},
   "source": [
    "## Use like a dictionary\n",
    "`OrderedDict` has all the same methods as `dict`."
   ]
  },
  {
   "cell_type": "code",
   "execution_count": 5,
   "id": "c0ce21e7",
   "metadata": {},
   "outputs": [
    {
     "data": {
      "text/plain": [
       "OrderedDict([(1, 'a'), (2, 'b'), (0, 'z')])"
      ]
     },
     "execution_count": 5,
     "metadata": {},
     "output_type": "execute_result"
    }
   ],
   "source": [
    "b[0] = 'z'\n",
    "b"
   ]
  },
  {
   "cell_type": "code",
   "execution_count": 6,
   "id": "b4cbac45",
   "metadata": {},
   "outputs": [
    {
     "name": "stdout",
     "output_type": "stream",
     "text": [
      "z\n",
      "a\n",
      "b\n",
      "Not found\n"
     ]
    }
   ],
   "source": [
    "for i in range(4):\n",
    "    print(b.get(i, 'Not found'))"
   ]
  },
  {
   "cell_type": "markdown",
   "id": "e3b4d662",
   "metadata": {},
   "source": [
    "## Iteration order\n",
    "When iterating, it retains memory of insertion order"
   ]
  },
  {
   "cell_type": "code",
   "execution_count": 7,
   "id": "6b6d9cd3",
   "metadata": {},
   "outputs": [
    {
     "name": "stdout",
     "output_type": "stream",
     "text": [
      "1: a\n",
      "2: b\n",
      "0: z\n"
     ]
    }
   ],
   "source": [
    "for key, value in b.items():\n",
    "    print(f'{key}: {value}')"
   ]
  },
  {
   "cell_type": "markdown",
   "id": "d90cc992",
   "metadata": {},
   "source": [
    "## Pop item\n",
    "Additional method to remove the last key-value pair and return it."
   ]
  },
  {
   "cell_type": "code",
   "execution_count": 8,
   "id": "d5b7e0e2",
   "metadata": {},
   "outputs": [
    {
     "data": {
      "text/plain": [
       "(0, 'z')"
      ]
     },
     "execution_count": 8,
     "metadata": {},
     "output_type": "execute_result"
    }
   ],
   "source": [
    "b.popitem()"
   ]
  },
  {
   "cell_type": "code",
   "execution_count": 9,
   "id": "19f7d533",
   "metadata": {},
   "outputs": [
    {
     "data": {
      "text/plain": [
       "'b'"
      ]
     },
     "execution_count": 9,
     "metadata": {},
     "output_type": "execute_result"
    }
   ],
   "source": [
    "b.pop(2)"
   ]
  },
  {
   "cell_type": "markdown",
   "id": "ccf95467",
   "metadata": {},
   "source": [
    "## Reorder items\n",
    "`.move_to_end(key, last=True)` will move the item with `key` either to the end (`last=True`) or the front (`last=False`)."
   ]
  },
  {
   "cell_type": "code",
   "execution_count": 10,
   "id": "5bbe12ca",
   "metadata": {},
   "outputs": [
    {
     "data": {
      "text/plain": [
       "OrderedDict([(1, 'a')])"
      ]
     },
     "execution_count": 10,
     "metadata": {},
     "output_type": "execute_result"
    }
   ],
   "source": [
    "b.move_to_end(1)\n",
    "b"
   ]
  },
  {
   "cell_type": "code",
   "execution_count": 11,
   "id": "95893dfb",
   "metadata": {},
   "outputs": [
    {
     "name": "stdout",
     "output_type": "stream",
     "text": [
      "KeyError(0)\n"
     ]
    }
   ],
   "source": [
    "try:\n",
    "    b.move_to_end(0, last=False)\n",
    "except Exception as e:\n",
    "    print(repr(e))"
   ]
  },
  {
   "cell_type": "code",
   "execution_count": 12,
   "id": "5aa712c2",
   "metadata": {},
   "outputs": [
    {
     "name": "stdout",
     "output_type": "stream",
     "text": [
      "1: a\n"
     ]
    }
   ],
   "source": [
    "for key, value in b.items():\n",
    "    print(f'{key}: {value}')"
   ]
  },
  {
   "cell_type": "markdown",
   "id": "effa03db",
   "metadata": {},
   "source": [
    "## When to use OrderedDict over dict\n",
    "`dict` is has been ordered since Python3.6.\n",
    "\n",
    "You should still use `OrderedDict` to:\n",
    "- Clearly state that the order is important\n",
    "- Use the `.move_to_end()` method\n",
    "- Test dictionary equality based on order\n",
    "- Maintain backwards compatibility with Python < 3.6"
   ]
  },
  {
   "cell_type": "code",
   "execution_count": null,
   "id": "444282ef",
   "metadata": {},
   "outputs": [],
   "source": []
  }
 ],
 "metadata": {
  "jupytext": {
   "cell_metadata_filter": "-all",
   "formats": "auto:light,ipynb",
   "main_language": "python",
   "notebook_metadata_filter": "-all"
  },
  "kernelspec": {
   "display_name": "Python 3 (ipykernel)",
   "language": "python",
   "name": "python3"
  },
  "language_info": {
   "codemirror_mode": {
    "name": "ipython",
    "version": 3
   },
   "file_extension": ".py",
   "mimetype": "text/x-python",
   "name": "python",
   "nbconvert_exporter": "python",
   "pygments_lexer": "ipython3",
   "version": "3.11.4"
  }
 },
 "nbformat": 4,
 "nbformat_minor": 5
}
