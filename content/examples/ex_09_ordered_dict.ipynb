{
 "cells": [
  {
   "cell_type": "markdown",
   "id": "29530c7f",
   "metadata": {},
   "source": [
    "# collections.OrderedDict"
   ]
  },
  {
   "cell_type": "code",
   "execution_count": 1,
   "id": "b429450c",
   "metadata": {},
   "outputs": [],
   "source": [
    "from collections import OrderedDict"
   ]
  },
  {
   "cell_type": "markdown",
   "id": "63353c25",
   "metadata": {},
   "source": [
    "## Create\n",
    "### Empty dict"
   ]
  },
  {
   "cell_type": "code",
   "execution_count": 2,
   "id": "47864a83",
   "metadata": {},
   "outputs": [
    {
     "data": {
      "text/plain": [
       "OrderedDict()"
      ]
     },
     "execution_count": 2,
     "metadata": {},
     "output_type": "execute_result"
    }
   ],
   "source": [
    "a = OrderedDict()\n",
    "a"
   ]
  },
  {
   "cell_type": "markdown",
   "id": "ec6be51f",
   "metadata": {},
   "source": [
    "### From a dict"
   ]
  },
  {
   "cell_type": "code",
   "execution_count": 3,
   "id": "a8cec12a",
   "metadata": {},
   "outputs": [
    {
     "data": {
      "text/plain": [
       "OrderedDict([(1, 'a'), (2, 'b')])"
      ]
     },
     "execution_count": 3,
     "metadata": {},
     "output_type": "execute_result"
    }
   ],
   "source": [
    "b = OrderedDict({1: 'a', 2: 'b'})\n",
    "b"
   ]
  },
  {
   "cell_type": "markdown",
   "id": "229a604d",
   "metadata": {},
   "source": [
    "### From a sequence\n",
    "Each item in the sequence must be another sequence with length 2"
   ]
  },
  {
   "cell_type": "code",
   "execution_count": 4,
   "id": "2add4a0a",
   "metadata": {},
   "outputs": [
    {
     "data": {
      "text/plain": [
       "OrderedDict([('a', 'apple'), ('banana', 'b'), ('c', 'cherry')])"
      ]
     },
     "execution_count": 4,
     "metadata": {},
     "output_type": "execute_result"
    }
   ],
   "source": [
    "c = OrderedDict([['a', 'apple'], {'b', 'banana'}, ('c', 'cherry')])\n",
    "c"
   ]
  },
  {
   "cell_type": "markdown",
   "id": "2b742006",
   "metadata": {},
   "source": [
    "## Use like a dictionary\n",
    "`OrderedDict` has all the same methods as `dict`."
   ]
  },
  {
   "cell_type": "code",
   "execution_count": 5,
   "id": "616dd1b6",
   "metadata": {},
   "outputs": [
    {
     "data": {
      "text/plain": [
       "OrderedDict([(1, 'a'), (2, 'b'), (0, 'z')])"
      ]
     },
     "execution_count": 5,
     "metadata": {},
     "output_type": "execute_result"
    }
   ],
   "source": [
    "b[0] = 'z'\n",
    "b"
   ]
  },
  {
   "cell_type": "code",
   "execution_count": 6,
   "id": "018ac0e6",
   "metadata": {},
   "outputs": [
    {
     "name": "stdout",
     "output_type": "stream",
     "text": [
      "z\n",
      "a\n",
      "b\n",
      "Not found\n"
     ]
    }
   ],
   "source": [
    "for i in range(4):\n",
    "    print(b.get(i, 'Not found'))"
   ]
  },
  {
   "cell_type": "markdown",
   "id": "127bd43f",
   "metadata": {},
   "source": [
    "## Iteration order\n",
    "When iterating, it retains memory of insertion order"
   ]
  },
  {
   "cell_type": "code",
   "execution_count": 7,
   "id": "e7197a57",
   "metadata": {},
   "outputs": [
    {
     "name": "stdout",
     "output_type": "stream",
     "text": [
      "1: a\n",
      "2: b\n",
      "0: z\n"
     ]
    }
   ],
   "source": [
    "for key, value in b.items():\n",
    "    print(f'{key}: {value}')"
   ]
  },
  {
   "cell_type": "markdown",
   "id": "f49194ec",
   "metadata": {},
   "source": [
    "## Pop item\n",
    "Additional method to remove the last key-value pair and return it."
   ]
  },
  {
   "cell_type": "code",
   "execution_count": 8,
   "id": "9ccbe6c6",
   "metadata": {},
   "outputs": [
    {
     "data": {
      "text/plain": [
       "(0, 'z')"
      ]
     },
     "execution_count": 8,
     "metadata": {},
     "output_type": "execute_result"
    }
   ],
   "source": [
    "b.popitem()"
   ]
  },
  {
   "cell_type": "code",
   "execution_count": 9,
   "id": "b62b25a1",
   "metadata": {},
   "outputs": [
    {
     "data": {
      "text/plain": [
       "OrderedDict([(1, 'a'), (2, 'b')])"
      ]
     },
     "execution_count": 9,
     "metadata": {},
     "output_type": "execute_result"
    }
   ],
   "source": [
    "b"
   ]
  },
  {
   "cell_type": "markdown",
   "id": "fcc704de",
   "metadata": {},
   "source": [
    "## Reorder items\n",
    "`.move_to_end(key, last=True)` will move the item with `key` either to the end (`last=True`) or the front (`last=False`)."
   ]
  },
  {
   "cell_type": "code",
   "execution_count": 10,
   "id": "341ea5ab",
   "metadata": {},
   "outputs": [
    {
     "data": {
      "text/plain": [
       "OrderedDict([(2, 'b'), (1, 'a')])"
      ]
     },
     "execution_count": 10,
     "metadata": {},
     "output_type": "execute_result"
    }
   ],
   "source": [
    "b.move_to_end(1)\n",
    "b"
   ]
  },
  {
   "cell_type": "code",
   "execution_count": 11,
   "id": "4f6341ab",
   "metadata": {},
   "outputs": [
    {
     "name": "stdout",
     "output_type": "stream",
     "text": [
      "KeyError(0)\n"
     ]
    }
   ],
   "source": [
    "try:\n",
    "    b.move_to_end(0, last=False)\n",
    "except Exception as e:\n",
    "    print(repr(e))"
   ]
  },
  {
   "cell_type": "code",
   "execution_count": 12,
   "id": "c1beab23",
   "metadata": {},
   "outputs": [
    {
     "name": "stdout",
     "output_type": "stream",
     "text": [
      "2: b\n",
      "1: a\n"
     ]
    }
   ],
   "source": [
    "for key, value in b.items():\n",
    "    print(f'{key}: {value}')"
   ]
  },
  {
   "cell_type": "markdown",
   "id": "ee12ca45",
   "metadata": {},
   "source": [
    "## When to use OrderedDict over dict\n",
    "`dict` is has been ordered since Python3.6.\n",
    "\n",
    "You should still use `OrderedDict` to:\n",
    "- Clearly state that the order is important\n",
    "- Use the `.move_to_end()` method\n",
    "- Test dictionary equality based on order\n",
    "- Maintain backwards compatibility with Python < 3.6"
   ]
  }
 ],
 "metadata": {
  "jupytext": {
   "cell_metadata_filter": "-all",
   "formats": "auto:light,ipynb",
   "main_language": "python",
   "notebook_metadata_filter": "-all"
  },
  "kernelspec": {
   "display_name": "Python 3 (ipykernel)",
   "language": "python",
   "name": "python3"
  },
  "language_info": {
   "codemirror_mode": {
    "name": "ipython",
    "version": 3
   },
   "file_extension": ".py",
   "mimetype": "text/x-python",
   "name": "python",
   "nbconvert_exporter": "python",
   "pygments_lexer": "ipython3",
   "version": "3.9.2"
  }
 },
 "nbformat": 4,
 "nbformat_minor": 5
}
