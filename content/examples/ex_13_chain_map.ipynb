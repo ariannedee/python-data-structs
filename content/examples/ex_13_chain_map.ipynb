{
 "cells": [
  {
   "cell_type": "markdown",
   "id": "cd41e0da",
   "metadata": {},
   "source": [
    "# collections.ChainMap\n",
    "Search through multiple dictionaries at once."
   ]
  },
  {
   "cell_type": "code",
   "execution_count": 1,
   "id": "96763fa4",
   "metadata": {},
   "outputs": [],
   "source": [
    "from collections import ChainMap"
   ]
  },
  {
   "cell_type": "code",
   "execution_count": 2,
   "id": "58904e3f",
   "metadata": {},
   "outputs": [],
   "source": [
    "dict1 = {\"one\": 1, \"two\": 2, \"three\": 33}\n",
    "dict2 = {\"three\": 3, \"four\": 4}"
   ]
  },
  {
   "cell_type": "code",
   "execution_count": 3,
   "id": "cf08775f",
   "metadata": {},
   "outputs": [
    {
     "data": {
      "text/plain": [
       "ChainMap({'one': 1, 'two': 2, 'three': 33}, {'three': 3, 'four': 4})"
      ]
     },
     "execution_count": 3,
     "metadata": {},
     "output_type": "execute_result"
    }
   ],
   "source": [
    "chain = ChainMap(dict1, dict2)\n",
    "chain"
   ]
  },
  {
   "cell_type": "markdown",
   "id": "49d3c3ba",
   "metadata": {},
   "source": [
    "## Key lookup\n",
    "Searches for keys in order."
   ]
  },
  {
   "cell_type": "code",
   "execution_count": 4,
   "id": "b444d662",
   "metadata": {},
   "outputs": [
    {
     "data": {
      "text/plain": [
       "33"
      ]
     },
     "execution_count": 4,
     "metadata": {},
     "output_type": "execute_result"
    }
   ],
   "source": [
    "chain[\"three\"]"
   ]
  },
  {
   "cell_type": "code",
   "execution_count": 5,
   "id": "da9ba89c",
   "metadata": {},
   "outputs": [
    {
     "data": {
      "text/plain": [
       "4"
      ]
     },
     "execution_count": 5,
     "metadata": {},
     "output_type": "execute_result"
    }
   ],
   "source": [
    "chain.get(\"four\")"
   ]
  },
  {
   "cell_type": "code",
   "execution_count": 6,
   "id": "3a7af329",
   "metadata": {},
   "outputs": [
    {
     "data": {
      "text/plain": [
       "'-'"
      ]
     },
     "execution_count": 6,
     "metadata": {},
     "output_type": "execute_result"
    }
   ],
   "source": [
    "chain.get(\"five\", \"-\")"
   ]
  },
  {
   "cell_type": "markdown",
   "id": "cda35a48",
   "metadata": {},
   "source": [
    "## Updates\n",
    "Updating existing keys affects the first one found."
   ]
  },
  {
   "cell_type": "code",
   "execution_count": 7,
   "id": "a70b17a8",
   "metadata": {},
   "outputs": [
    {
     "data": {
      "text/plain": [
       "ChainMap({'one': 1, 'two': 2, 'three': -3}, {'three': 3, 'four': 4})"
      ]
     },
     "execution_count": 7,
     "metadata": {},
     "output_type": "execute_result"
    }
   ],
   "source": [
    "chain[\"three\"] = -3\n",
    "chain"
   ]
  },
  {
   "cell_type": "code",
   "execution_count": 8,
   "id": "cdde2275",
   "metadata": {},
   "outputs": [
    {
     "data": {
      "text/plain": [
       "ChainMap({'one': 1, 'two': 2}, {'three': 3, 'four': 4})"
      ]
     },
     "execution_count": 8,
     "metadata": {},
     "output_type": "execute_result"
    }
   ],
   "source": [
    "del chain[\"three\"]\n",
    "chain"
   ]
  },
  {
   "cell_type": "markdown",
   "id": "f55464a0",
   "metadata": {},
   "source": [
    "Adding new items adds them to the first `dict`."
   ]
  },
  {
   "cell_type": "code",
   "execution_count": 9,
   "id": "d63be647",
   "metadata": {},
   "outputs": [
    {
     "data": {
      "text/plain": [
       "ChainMap({'one': 1, 'two': 2, 'six': 6}, {'three': 3, 'four': 4})"
      ]
     },
     "execution_count": 9,
     "metadata": {},
     "output_type": "execute_result"
    }
   ],
   "source": [
    "chain[\"six\"] = 6\n",
    "chain"
   ]
  }
 ],
 "metadata": {
  "jupytext": {
   "cell_metadata_filter": "-all",
   "formats": "auto:light,ipynb",
   "main_language": "python",
   "notebook_metadata_filter": "-all"
  },
  "kernelspec": {
   "display_name": "Python 3 (ipykernel)",
   "language": "python",
   "name": "python3"
  },
  "language_info": {
   "codemirror_mode": {
    "name": "ipython",
    "version": 3
   },
   "file_extension": ".py",
   "mimetype": "text/x-python",
   "name": "python",
   "nbconvert_exporter": "python",
   "pygments_lexer": "ipython3",
   "version": "3.11.4"
  }
 },
 "nbformat": 4,
 "nbformat_minor": 5
}
