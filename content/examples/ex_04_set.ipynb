{
 "cells": [
  {
   "cell_type": "markdown",
   "id": "92fce44e",
   "metadata": {},
   "source": [
    "# Sets\n",
    "Sets are a collection that:\n",
    "- have no order\n",
    "- cannot contain duplicates\n",
    "- cannot access individual items (except by iterating over)\n",
    "\n",
    "## Creating sets"
   ]
  },
  {
   "cell_type": "code",
   "execution_count": 1,
   "id": "a61d40af",
   "metadata": {},
   "outputs": [
    {
     "data": {
      "text/plain": [
       "set()"
      ]
     },
     "execution_count": 1,
     "metadata": {},
     "output_type": "execute_result"
    }
   ],
   "source": [
    "set()"
   ]
  },
  {
   "cell_type": "code",
   "execution_count": 2,
   "id": "70bd97e1",
   "metadata": {},
   "outputs": [
    {
     "data": {
      "text/plain": [
       "{'a', 'b', 'c'}"
      ]
     },
     "execution_count": 2,
     "metadata": {},
     "output_type": "execute_result"
    }
   ],
   "source": [
    "{'c', 'a', 'b'}"
   ]
  },
  {
   "cell_type": "code",
   "execution_count": 3,
   "id": "06f24c9f",
   "metadata": {},
   "outputs": [
    {
     "data": {
      "text/plain": [
       "{1, 2, 3}"
      ]
     },
     "execution_count": 3,
     "metadata": {},
     "output_type": "execute_result"
    }
   ],
   "source": [
    "set((1, 2, 1, 3))  # pass any iterable in"
   ]
  },
  {
   "cell_type": "markdown",
   "id": "a542bdd2",
   "metadata": {},
   "source": [
    "You can also build sets using **set comprehensions**"
   ]
  },
  {
   "cell_type": "code",
   "execution_count": 4,
   "id": "31c16791",
   "metadata": {},
   "outputs": [
    {
     "data": {
      "text/plain": [
       "{1, 4, 16, 64, 256}"
      ]
     },
     "execution_count": 4,
     "metadata": {},
     "output_type": "execute_result"
    }
   ],
   "source": [
    "{2 ** i for i in range(0, 10, 2)}"
   ]
  },
  {
   "cell_type": "markdown",
   "id": "b1a5c727",
   "metadata": {},
   "source": [
    "We will look more at set comprehensions in the second hour of the class."
   ]
  },
  {
   "cell_type": "markdown",
   "id": "e431590c",
   "metadata": {},
   "source": [
    "### Valid set values\n",
    "`set` **elements** must be __hashable__. Basically, if it's a builtin type, it can't be mutable (like `list`,\n",
    "`dict` or `set`). If it's a custom class, it must implement a special method for hashing and checking equality.\n",
    "\n",
    "Elements use `==` to determine key equality. So `1`, `1.0` and `True` all map to the same element."
   ]
  },
  {
   "cell_type": "code",
   "execution_count": 5,
   "id": "5d831f2b",
   "metadata": {},
   "outputs": [
    {
     "data": {
      "text/plain": [
       "{(1,), '1', True}"
      ]
     },
     "execution_count": 5,
     "metadata": {},
     "output_type": "execute_result"
    }
   ],
   "source": [
    "{True, 1, 1.0, '1', (1,)}"
   ]
  },
  {
   "cell_type": "code",
   "execution_count": 6,
   "id": "171a6115",
   "metadata": {},
   "outputs": [
    {
     "name": "stdout",
     "output_type": "stream",
     "text": [
      "TypeError(\"unhashable type: 'list'\")\n"
     ]
    }
   ],
   "source": [
    "try:\n",
    "    {[1, 2]}\n",
    "except Exception as e:\n",
    "    print(repr(e))"
   ]
  },
  {
   "cell_type": "markdown",
   "id": "11c984dc",
   "metadata": {},
   "source": [
    "## Updating contents"
   ]
  },
  {
   "cell_type": "code",
   "execution_count": 7,
   "id": "51788327",
   "metadata": {},
   "outputs": [],
   "source": [
    "s = {1, 2}"
   ]
  },
  {
   "cell_type": "code",
   "execution_count": 8,
   "id": "3205e128",
   "metadata": {},
   "outputs": [
    {
     "data": {
      "text/plain": [
       "{1, 2, 3}"
      ]
     },
     "execution_count": 8,
     "metadata": {},
     "output_type": "execute_result"
    }
   ],
   "source": [
    "s.add(3)\n",
    "s"
   ]
  },
  {
   "cell_type": "code",
   "execution_count": 9,
   "id": "78e339de",
   "metadata": {},
   "outputs": [
    {
     "data": {
      "text/plain": [
       "{1, 2, 3}"
      ]
     },
     "execution_count": 9,
     "metadata": {},
     "output_type": "execute_result"
    }
   ],
   "source": [
    "s.add(1)  # Already exists, so no change\n",
    "s"
   ]
  },
  {
   "cell_type": "code",
   "execution_count": 10,
   "id": "9081e0f1",
   "metadata": {},
   "outputs": [
    {
     "data": {
      "text/plain": [
       "{1, 2, 3, 4}"
      ]
     },
     "execution_count": 10,
     "metadata": {},
     "output_type": "execute_result"
    }
   ],
   "source": [
    "s.update([1, 2, 3, 4])\n",
    "s"
   ]
  },
  {
   "cell_type": "code",
   "execution_count": 11,
   "id": "5b20c753",
   "metadata": {},
   "outputs": [
    {
     "data": {
      "text/plain": [
       "{1, 2, 3, 4, 5}"
      ]
     },
     "execution_count": 11,
     "metadata": {},
     "output_type": "execute_result"
    }
   ],
   "source": [
    "s.update({1: 'a', 5: 'e'})  # Only adds keys\n",
    "s"
   ]
  },
  {
   "cell_type": "code",
   "execution_count": 12,
   "id": "8a5b9f28",
   "metadata": {},
   "outputs": [
    {
     "data": {
      "text/plain": [
       "{2, 3, 4, 5}"
      ]
     },
     "execution_count": 12,
     "metadata": {},
     "output_type": "execute_result"
    }
   ],
   "source": [
    "s.remove(1)  # element must be in set\n",
    "s"
   ]
  },
  {
   "cell_type": "code",
   "execution_count": 13,
   "id": "378f33de",
   "metadata": {},
   "outputs": [
    {
     "name": "stdout",
     "output_type": "stream",
     "text": [
      "KeyError(-1)\n"
     ]
    }
   ],
   "source": [
    "try:\n",
    "    s.remove(-1)\n",
    "except Exception as e:\n",
    "    print(repr(e))"
   ]
  },
  {
   "cell_type": "code",
   "execution_count": 14,
   "id": "7263d245",
   "metadata": {},
   "outputs": [
    {
     "data": {
      "text/plain": [
       "{2, 3, 4}"
      ]
     },
     "execution_count": 14,
     "metadata": {},
     "output_type": "execute_result"
    }
   ],
   "source": [
    "s.discard(5)  # element doesn't need to be in set\n",
    "s"
   ]
  },
  {
   "cell_type": "code",
   "execution_count": 15,
   "id": "c0c08433",
   "metadata": {},
   "outputs": [],
   "source": [
    "s.discard(-1)  # no error thrown"
   ]
  },
  {
   "cell_type": "markdown",
   "id": "64f046cf",
   "metadata": {},
   "source": [
    "## Getting contents\n",
    "You can `.pop()` a random element from the set. There's no way of accessing a specific item."
   ]
  },
  {
   "cell_type": "code",
   "execution_count": 16,
   "id": "f297cbf3",
   "metadata": {},
   "outputs": [
    {
     "data": {
      "text/plain": [
       "2"
      ]
     },
     "execution_count": 16,
     "metadata": {},
     "output_type": "execute_result"
    }
   ],
   "source": [
    "s.pop()"
   ]
  },
  {
   "cell_type": "code",
   "execution_count": 17,
   "id": "dc6bfb7c",
   "metadata": {},
   "outputs": [
    {
     "data": {
      "text/plain": [
       "{3, 4}"
      ]
     },
     "execution_count": 17,
     "metadata": {},
     "output_type": "execute_result"
    }
   ],
   "source": [
    "s"
   ]
  },
  {
   "cell_type": "markdown",
   "id": "9bd35e0a",
   "metadata": {},
   "source": [
    "## Checking containment"
   ]
  },
  {
   "cell_type": "code",
   "execution_count": 18,
   "id": "d3e9f668",
   "metadata": {},
   "outputs": [],
   "source": [
    "s = {1, 2}"
   ]
  },
  {
   "cell_type": "markdown",
   "id": "3b13c1b3",
   "metadata": {},
   "source": [
    "### Of an element"
   ]
  },
  {
   "cell_type": "code",
   "execution_count": 19,
   "id": "a2018afa",
   "metadata": {},
   "outputs": [
    {
     "data": {
      "text/plain": [
       "True"
      ]
     },
     "execution_count": 19,
     "metadata": {},
     "output_type": "execute_result"
    }
   ],
   "source": [
    "1 in s"
   ]
  },
  {
   "cell_type": "code",
   "execution_count": 20,
   "id": "3cd8af51",
   "metadata": {},
   "outputs": [
    {
     "data": {
      "text/plain": [
       "False"
      ]
     },
     "execution_count": 20,
     "metadata": {},
     "output_type": "execute_result"
    }
   ],
   "source": [
    "3 in s"
   ]
  },
  {
   "cell_type": "markdown",
   "id": "88215566",
   "metadata": {},
   "source": [
    "### Of another set\n",
    "`.issuperset(other)`: does __set__ fully contain __other__"
   ]
  },
  {
   "cell_type": "code",
   "execution_count": 21,
   "id": "73cc94bc",
   "metadata": {},
   "outputs": [
    {
     "data": {
      "text/plain": [
       "True"
      ]
     },
     "execution_count": 21,
     "metadata": {},
     "output_type": "execute_result"
    }
   ],
   "source": [
    "s.issuperset({2,})"
   ]
  },
  {
   "cell_type": "code",
   "execution_count": 22,
   "id": "6c402b0b",
   "metadata": {},
   "outputs": [
    {
     "data": {
      "text/plain": [
       "False"
      ]
     },
     "execution_count": 22,
     "metadata": {},
     "output_type": "execute_result"
    }
   ],
   "source": [
    "s.issuperset({2, 3})"
   ]
  },
  {
   "cell_type": "markdown",
   "id": "7fdd35d1",
   "metadata": {},
   "source": [
    "`.issubset(other)`: does __other__ fully contain __set__"
   ]
  },
  {
   "cell_type": "code",
   "execution_count": 23,
   "id": "167691bd",
   "metadata": {},
   "outputs": [
    {
     "data": {
      "text/plain": [
       "True"
      ]
     },
     "execution_count": 23,
     "metadata": {},
     "output_type": "execute_result"
    }
   ],
   "source": [
    "s.issubset({1, 2, 3,})"
   ]
  },
  {
   "cell_type": "code",
   "execution_count": 24,
   "id": "a3161f98",
   "metadata": {},
   "outputs": [
    {
     "data": {
      "text/plain": [
       "False"
      ]
     },
     "execution_count": 24,
     "metadata": {},
     "output_type": "execute_result"
    }
   ],
   "source": [
    "s.issubset({2, 3})"
   ]
  },
  {
   "cell_type": "markdown",
   "id": "6597f43f",
   "metadata": {},
   "source": [
    "`.isdisjoint()`: are there no common elements between __set__ and __other__"
   ]
  },
  {
   "cell_type": "code",
   "execution_count": 25,
   "id": "200a1df5",
   "metadata": {},
   "outputs": [
    {
     "data": {
      "text/plain": [
       "True"
      ]
     },
     "execution_count": 25,
     "metadata": {},
     "output_type": "execute_result"
    }
   ],
   "source": [
    "s.isdisjoint({3, 4})"
   ]
  },
  {
   "cell_type": "code",
   "execution_count": 26,
   "id": "7601b3dc",
   "metadata": {},
   "outputs": [
    {
     "data": {
      "text/plain": [
       "False"
      ]
     },
     "execution_count": 26,
     "metadata": {},
     "output_type": "execute_result"
    }
   ],
   "source": [
    "s.isdisjoint({2, 3})"
   ]
  },
  {
   "cell_type": "markdown",
   "id": "c1cd7d85",
   "metadata": {},
   "source": [
    "## Looping\n",
    "Sets have an undefined order."
   ]
  },
  {
   "cell_type": "code",
   "execution_count": 27,
   "id": "f54d10a5",
   "metadata": {},
   "outputs": [
    {
     "name": "stdout",
     "output_type": "stream",
     "text": [
      "c\n",
      "b\n",
      "a\n"
     ]
    }
   ],
   "source": [
    "for element in {'b', 'a', 'c'}:\n",
    "    print(element)"
   ]
  },
  {
   "cell_type": "markdown",
   "id": "3df69385",
   "metadata": {},
   "source": [
    "## Set operations\n",
    "You can do most set operations via methods or operators."
   ]
  },
  {
   "cell_type": "code",
   "execution_count": 28,
   "id": "5d0b59c2",
   "metadata": {},
   "outputs": [],
   "source": [
    "odd = {1, 3, 5}"
   ]
  },
  {
   "cell_type": "code",
   "execution_count": 29,
   "id": "25293524",
   "metadata": {},
   "outputs": [],
   "source": [
    "prime = {2, 3, 5}"
   ]
  },
  {
   "cell_type": "markdown",
   "id": "066e80c7",
   "metadata": {},
   "source": [
    "### Union\n",
    "All elements in either A or B"
   ]
  },
  {
   "cell_type": "code",
   "execution_count": 30,
   "id": "2e86860a",
   "metadata": {},
   "outputs": [
    {
     "data": {
      "text/plain": [
       "{1, 2, 3, 5}"
      ]
     },
     "execution_count": 30,
     "metadata": {},
     "output_type": "execute_result"
    }
   ],
   "source": [
    "odd.union(prime)"
   ]
  },
  {
   "cell_type": "code",
   "execution_count": 31,
   "id": "be57c1a6",
   "metadata": {},
   "outputs": [
    {
     "data": {
      "text/plain": [
       "{1, 2, 3, 5}"
      ]
     },
     "execution_count": 31,
     "metadata": {},
     "output_type": "execute_result"
    }
   ],
   "source": [
    "odd | prime"
   ]
  },
  {
   "cell_type": "markdown",
   "id": "9d81c378",
   "metadata": {},
   "source": [
    "### Intersection\n",
    "All elements in both A and B"
   ]
  },
  {
   "cell_type": "code",
   "execution_count": 32,
   "id": "d3007892",
   "metadata": {},
   "outputs": [
    {
     "data": {
      "text/plain": [
       "{3, 5}"
      ]
     },
     "execution_count": 32,
     "metadata": {},
     "output_type": "execute_result"
    }
   ],
   "source": [
    "odd.intersection(prime)"
   ]
  },
  {
   "cell_type": "code",
   "execution_count": 33,
   "id": "b03a7e0a",
   "metadata": {},
   "outputs": [
    {
     "data": {
      "text/plain": [
       "{3, 5}"
      ]
     },
     "execution_count": 33,
     "metadata": {},
     "output_type": "execute_result"
    }
   ],
   "source": [
    "odd & prime"
   ]
  },
  {
   "cell_type": "markdown",
   "id": "084239d3",
   "metadata": {},
   "source": [
    "### Difference\n",
    "Elements in A but not B"
   ]
  },
  {
   "cell_type": "code",
   "execution_count": 34,
   "id": "71ce8528",
   "metadata": {},
   "outputs": [
    {
     "data": {
      "text/plain": [
       "{1}"
      ]
     },
     "execution_count": 34,
     "metadata": {},
     "output_type": "execute_result"
    }
   ],
   "source": [
    "odd.difference(prime)"
   ]
  },
  {
   "cell_type": "code",
   "execution_count": 35,
   "id": "c38b6128",
   "metadata": {},
   "outputs": [
    {
     "data": {
      "text/plain": [
       "{2}"
      ]
     },
     "execution_count": 35,
     "metadata": {},
     "output_type": "execute_result"
    }
   ],
   "source": [
    "prime.difference(odd)"
   ]
  },
  {
   "cell_type": "code",
   "execution_count": 36,
   "id": "e76b384c",
   "metadata": {},
   "outputs": [
    {
     "data": {
      "text/plain": [
       "{1}"
      ]
     },
     "execution_count": 36,
     "metadata": {},
     "output_type": "execute_result"
    }
   ],
   "source": [
    "odd - prime"
   ]
  },
  {
   "cell_type": "code",
   "execution_count": 37,
   "id": "49f2240f",
   "metadata": {},
   "outputs": [
    {
     "data": {
      "text/plain": [
       "{2}"
      ]
     },
     "execution_count": 37,
     "metadata": {},
     "output_type": "execute_result"
    }
   ],
   "source": [
    "prime - odd"
   ]
  },
  {
   "cell_type": "markdown",
   "id": "c0d61974",
   "metadata": {},
   "source": [
    "### Symmetric difference\n",
    "Elements in either A or B but not both"
   ]
  },
  {
   "cell_type": "code",
   "execution_count": 38,
   "id": "9d218a49",
   "metadata": {},
   "outputs": [
    {
     "data": {
      "text/plain": [
       "{1, 2}"
      ]
     },
     "execution_count": 38,
     "metadata": {},
     "output_type": "execute_result"
    }
   ],
   "source": [
    "odd.symmetric_difference(prime)"
   ]
  },
  {
   "cell_type": "code",
   "execution_count": 39,
   "id": "f1f9a821",
   "metadata": {},
   "outputs": [
    {
     "data": {
      "text/plain": [
       "{1, 2}"
      ]
     },
     "execution_count": 39,
     "metadata": {},
     "output_type": "execute_result"
    }
   ],
   "source": [
    "odd ^ prime"
   ]
  },
  {
   "cell_type": "code",
   "execution_count": null,
   "id": "e916e63d",
   "metadata": {},
   "outputs": [],
   "source": []
  }
 ],
 "metadata": {
  "jupytext": {
   "cell_metadata_filter": "-all",
   "formats": "auto:light,ipynb",
   "main_language": "python",
   "notebook_metadata_filter": "-all"
  },
  "kernelspec": {
   "display_name": "Python 3 (ipykernel)",
   "language": "python",
   "name": "python3"
  },
  "language_info": {
   "codemirror_mode": {
    "name": "ipython",
    "version": 3
   },
   "file_extension": ".py",
   "mimetype": "text/x-python",
   "name": "python",
   "nbconvert_exporter": "python",
   "pygments_lexer": "ipython3",
   "version": "3.11.4"
  }
 },
 "nbformat": 4,
 "nbformat_minor": 5
}
