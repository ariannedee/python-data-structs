{
 "cells": [
  {
   "cell_type": "markdown",
   "id": "104b81de",
   "metadata": {},
   "source": [
    "# Sets\n",
    "Sets are a collection that:\n",
    "- have no order\n",
    "- cannot contain duplicates\n",
    "- cannot access individual items (except by iterating over)\n",
    "\n",
    "## Creating sets"
   ]
  },
  {
   "cell_type": "code",
   "execution_count": 1,
   "id": "d0f37006",
   "metadata": {},
   "outputs": [
    {
     "data": {
      "text/plain": [
       "set()"
      ]
     },
     "execution_count": 1,
     "metadata": {},
     "output_type": "execute_result"
    }
   ],
   "source": [
    "set()"
   ]
  },
  {
   "cell_type": "code",
   "execution_count": 2,
   "id": "4f2c5462",
   "metadata": {},
   "outputs": [
    {
     "data": {
      "text/plain": [
       "{'a', 'b'}"
      ]
     },
     "execution_count": 2,
     "metadata": {},
     "output_type": "execute_result"
    }
   ],
   "source": [
    "{'a', 'b'}"
   ]
  },
  {
   "cell_type": "code",
   "execution_count": 3,
   "id": "986b37c8",
   "metadata": {},
   "outputs": [
    {
     "data": {
      "text/plain": [
       "{1, 2, 3}"
      ]
     },
     "execution_count": 3,
     "metadata": {},
     "output_type": "execute_result"
    }
   ],
   "source": [
    "set((1, 2, 1, 3))  # pass any iterable in"
   ]
  },
  {
   "cell_type": "markdown",
   "id": "adf73d59",
   "metadata": {},
   "source": [
    "You can also build sets using **set comprehensions**"
   ]
  },
  {
   "cell_type": "code",
   "execution_count": 4,
   "id": "e60c6ddc",
   "metadata": {},
   "outputs": [
    {
     "data": {
      "text/plain": [
       "{1, 4, 16, 64, 256}"
      ]
     },
     "execution_count": 4,
     "metadata": {},
     "output_type": "execute_result"
    }
   ],
   "source": [
    "{2 ** i for i in range(0, 10, 2)}"
   ]
  },
  {
   "cell_type": "markdown",
   "id": "90d163de",
   "metadata": {},
   "source": [
    "We will look more at set comprehensions in the second hour of the class."
   ]
  },
  {
   "cell_type": "markdown",
   "id": "d1eaed5f",
   "metadata": {},
   "source": [
    "### Valid set values\n",
    "`set` **elements** must be __hashable__. Basically, if it's a builtin type, it can't be mutable (like `list`,\n",
    "`dict` or `set`). If it's a custom class, it must implement a special method for hashing and checking equality.\n",
    "\n",
    "Elements use `==` to determine key equality. So `1`, `1.0` and `True` all map to the same element."
   ]
  },
  {
   "cell_type": "code",
   "execution_count": 5,
   "id": "a17405de",
   "metadata": {},
   "outputs": [
    {
     "data": {
      "text/plain": [
       "{(1,), '1', True}"
      ]
     },
     "execution_count": 5,
     "metadata": {},
     "output_type": "execute_result"
    }
   ],
   "source": [
    "{True, 1, 1.0, '1', (1,)}"
   ]
  },
  {
   "cell_type": "code",
   "execution_count": 6,
   "id": "bfde2932",
   "metadata": {},
   "outputs": [
    {
     "name": "stdout",
     "output_type": "stream",
     "text": [
      "TypeError(\"unhashable type: 'list'\")\n"
     ]
    }
   ],
   "source": [
    "try:\n",
    "    {[1, 2]}\n",
    "except Exception as e:\n",
    "    print(repr(e))"
   ]
  },
  {
   "cell_type": "markdown",
   "id": "cd7bdd87",
   "metadata": {},
   "source": [
    "## Updating contents"
   ]
  },
  {
   "cell_type": "code",
   "execution_count": 7,
   "id": "08d7ad69",
   "metadata": {},
   "outputs": [],
   "source": [
    "s = {1, 2}"
   ]
  },
  {
   "cell_type": "code",
   "execution_count": 8,
   "id": "47696ace",
   "metadata": {},
   "outputs": [
    {
     "data": {
      "text/plain": [
       "{1, 2, 3}"
      ]
     },
     "execution_count": 8,
     "metadata": {},
     "output_type": "execute_result"
    }
   ],
   "source": [
    "s.add(3)\n",
    "s"
   ]
  },
  {
   "cell_type": "code",
   "execution_count": 9,
   "id": "deb068e6",
   "metadata": {},
   "outputs": [
    {
     "data": {
      "text/plain": [
       "{1, 2, 3}"
      ]
     },
     "execution_count": 9,
     "metadata": {},
     "output_type": "execute_result"
    }
   ],
   "source": [
    "s.add(1)  # Already exists, so no change\n",
    "s"
   ]
  },
  {
   "cell_type": "code",
   "execution_count": 10,
   "id": "bd1081f5",
   "metadata": {},
   "outputs": [
    {
     "data": {
      "text/plain": [
       "{1, 2, 3, 4}"
      ]
     },
     "execution_count": 10,
     "metadata": {},
     "output_type": "execute_result"
    }
   ],
   "source": [
    "s.update([1, 2, 3, 4])\n",
    "s"
   ]
  },
  {
   "cell_type": "code",
   "execution_count": 11,
   "id": "4a13a6e7",
   "metadata": {},
   "outputs": [
    {
     "data": {
      "text/plain": [
       "{1, 2, 3, 4, 5}"
      ]
     },
     "execution_count": 11,
     "metadata": {},
     "output_type": "execute_result"
    }
   ],
   "source": [
    "s.update({1: 'a', 5: 'e'})  # Only adds keys\n",
    "s"
   ]
  },
  {
   "cell_type": "code",
   "execution_count": 12,
   "id": "8b4bb5e4",
   "metadata": {},
   "outputs": [
    {
     "data": {
      "text/plain": [
       "{2, 3, 4, 5}"
      ]
     },
     "execution_count": 12,
     "metadata": {},
     "output_type": "execute_result"
    }
   ],
   "source": [
    "s.remove(1)  # element must be in set\n",
    "s"
   ]
  },
  {
   "cell_type": "code",
   "execution_count": 13,
   "id": "8f922499",
   "metadata": {},
   "outputs": [
    {
     "name": "stdout",
     "output_type": "stream",
     "text": [
      "KeyError(-1)\n"
     ]
    }
   ],
   "source": [
    "try:\n",
    "    s.remove(-1)\n",
    "except Exception as e:\n",
    "    print(repr(e))"
   ]
  },
  {
   "cell_type": "code",
   "execution_count": 14,
   "id": "3ae399d0",
   "metadata": {},
   "outputs": [
    {
     "data": {
      "text/plain": [
       "{2, 3, 4}"
      ]
     },
     "execution_count": 14,
     "metadata": {},
     "output_type": "execute_result"
    }
   ],
   "source": [
    "s.discard(5)  # element doesn't need to be in set\n",
    "s"
   ]
  },
  {
   "cell_type": "code",
   "execution_count": 15,
   "id": "3c4b481f",
   "metadata": {},
   "outputs": [],
   "source": [
    "s.discard(-1)  # no error thrown"
   ]
  },
  {
   "cell_type": "markdown",
   "id": "b17b5372",
   "metadata": {},
   "source": [
    "## Getting contents\n",
    "You can `.pop()` a random element from the set. There's no way of accessing a specific item."
   ]
  },
  {
   "cell_type": "code",
   "execution_count": 16,
   "id": "0ecaeed6",
   "metadata": {},
   "outputs": [
    {
     "data": {
      "text/plain": [
       "2"
      ]
     },
     "execution_count": 16,
     "metadata": {},
     "output_type": "execute_result"
    }
   ],
   "source": [
    "s.pop()"
   ]
  },
  {
   "cell_type": "code",
   "execution_count": 17,
   "id": "aa8de7b5",
   "metadata": {},
   "outputs": [
    {
     "data": {
      "text/plain": [
       "{3, 4}"
      ]
     },
     "execution_count": 17,
     "metadata": {},
     "output_type": "execute_result"
    }
   ],
   "source": [
    "s"
   ]
  },
  {
   "cell_type": "markdown",
   "id": "45bd2a1b",
   "metadata": {},
   "source": [
    "## Checking containment"
   ]
  },
  {
   "cell_type": "code",
   "execution_count": 18,
   "id": "a56fa2e6",
   "metadata": {},
   "outputs": [],
   "source": [
    "s = {1, 2}"
   ]
  },
  {
   "cell_type": "markdown",
   "id": "0dc80c0a",
   "metadata": {},
   "source": [
    "### Of an element"
   ]
  },
  {
   "cell_type": "code",
   "execution_count": 19,
   "id": "ec2378d8",
   "metadata": {},
   "outputs": [
    {
     "data": {
      "text/plain": [
       "True"
      ]
     },
     "execution_count": 19,
     "metadata": {},
     "output_type": "execute_result"
    }
   ],
   "source": [
    "1 in s"
   ]
  },
  {
   "cell_type": "code",
   "execution_count": 20,
   "id": "6f88987a",
   "metadata": {},
   "outputs": [
    {
     "data": {
      "text/plain": [
       "False"
      ]
     },
     "execution_count": 20,
     "metadata": {},
     "output_type": "execute_result"
    }
   ],
   "source": [
    "3 in s"
   ]
  },
  {
   "cell_type": "markdown",
   "id": "2173a0ce",
   "metadata": {},
   "source": [
    "### Of another set\n",
    "`.issuperset(other)`: does __set__ fully contain __other__"
   ]
  },
  {
   "cell_type": "code",
   "execution_count": 21,
   "id": "27b82b8f",
   "metadata": {},
   "outputs": [
    {
     "data": {
      "text/plain": [
       "True"
      ]
     },
     "execution_count": 21,
     "metadata": {},
     "output_type": "execute_result"
    }
   ],
   "source": [
    "s.issuperset({2,})"
   ]
  },
  {
   "cell_type": "code",
   "execution_count": 22,
   "id": "5aa5ccd0",
   "metadata": {},
   "outputs": [
    {
     "data": {
      "text/plain": [
       "False"
      ]
     },
     "execution_count": 22,
     "metadata": {},
     "output_type": "execute_result"
    }
   ],
   "source": [
    "s.issuperset({2, 3})"
   ]
  },
  {
   "cell_type": "markdown",
   "id": "9ca6516c",
   "metadata": {},
   "source": [
    "`.issubset(other)`: does __other__ fully contain __set__"
   ]
  },
  {
   "cell_type": "code",
   "execution_count": 23,
   "id": "0e166416",
   "metadata": {},
   "outputs": [
    {
     "data": {
      "text/plain": [
       "True"
      ]
     },
     "execution_count": 23,
     "metadata": {},
     "output_type": "execute_result"
    }
   ],
   "source": [
    "s.issubset({1, 2, 3,})"
   ]
  },
  {
   "cell_type": "code",
   "execution_count": 24,
   "id": "e65bfad8",
   "metadata": {},
   "outputs": [
    {
     "data": {
      "text/plain": [
       "False"
      ]
     },
     "execution_count": 24,
     "metadata": {},
     "output_type": "execute_result"
    }
   ],
   "source": [
    "s.issubset({2, 3})"
   ]
  },
  {
   "cell_type": "markdown",
   "id": "8039a945",
   "metadata": {},
   "source": [
    "`.isdisjoint()`: are there no common elements between __set__ and __other__"
   ]
  },
  {
   "cell_type": "code",
   "execution_count": 25,
   "id": "aa503937",
   "metadata": {},
   "outputs": [
    {
     "data": {
      "text/plain": [
       "True"
      ]
     },
     "execution_count": 25,
     "metadata": {},
     "output_type": "execute_result"
    }
   ],
   "source": [
    "s.isdisjoint({3, 4})"
   ]
  },
  {
   "cell_type": "code",
   "execution_count": 26,
   "id": "a3b0d1c4",
   "metadata": {},
   "outputs": [
    {
     "data": {
      "text/plain": [
       "False"
      ]
     },
     "execution_count": 26,
     "metadata": {},
     "output_type": "execute_result"
    }
   ],
   "source": [
    "s.isdisjoint({2, 3})"
   ]
  },
  {
   "cell_type": "markdown",
   "id": "dbd82d0a",
   "metadata": {},
   "source": [
    "## Looping\n",
    "Sets have an undefined order."
   ]
  },
  {
   "cell_type": "code",
   "execution_count": 27,
   "id": "dcc849a8",
   "metadata": {},
   "outputs": [
    {
     "name": "stdout",
     "output_type": "stream",
     "text": [
      "a\n",
      "b\n",
      "c\n"
     ]
    }
   ],
   "source": [
    "for element in {'b', 'a', 'c'}:\n",
    "    print(element)"
   ]
  },
  {
   "cell_type": "markdown",
   "id": "94a5d4de",
   "metadata": {},
   "source": [
    "## Set operations\n",
    "You can do most set operations via methods or operators."
   ]
  },
  {
   "cell_type": "code",
   "execution_count": 28,
   "id": "c55e195f",
   "metadata": {},
   "outputs": [],
   "source": [
    "odd = {1, 3, 5}"
   ]
  },
  {
   "cell_type": "code",
   "execution_count": 29,
   "id": "0360f125",
   "metadata": {},
   "outputs": [],
   "source": [
    "prime = {2, 3, 5}"
   ]
  },
  {
   "cell_type": "markdown",
   "id": "d1abff0d",
   "metadata": {},
   "source": [
    "### Union\n",
    "All elements in either A or B"
   ]
  },
  {
   "cell_type": "code",
   "execution_count": 30,
   "id": "3752a809",
   "metadata": {},
   "outputs": [
    {
     "data": {
      "text/plain": [
       "{1, 2, 3, 5}"
      ]
     },
     "execution_count": 30,
     "metadata": {},
     "output_type": "execute_result"
    }
   ],
   "source": [
    "odd.union(prime)"
   ]
  },
  {
   "cell_type": "code",
   "execution_count": 31,
   "id": "79affa8b",
   "metadata": {},
   "outputs": [
    {
     "data": {
      "text/plain": [
       "{1, 2, 3, 5}"
      ]
     },
     "execution_count": 31,
     "metadata": {},
     "output_type": "execute_result"
    }
   ],
   "source": [
    "odd | prime"
   ]
  },
  {
   "cell_type": "markdown",
   "id": "45aca4aa",
   "metadata": {},
   "source": [
    "### Intersection\n",
    "All elements in both A and B"
   ]
  },
  {
   "cell_type": "code",
   "execution_count": 32,
   "id": "9c613fbf",
   "metadata": {},
   "outputs": [
    {
     "data": {
      "text/plain": [
       "{3, 5}"
      ]
     },
     "execution_count": 32,
     "metadata": {},
     "output_type": "execute_result"
    }
   ],
   "source": [
    "odd.intersection(prime)"
   ]
  },
  {
   "cell_type": "code",
   "execution_count": 33,
   "id": "274832e1",
   "metadata": {},
   "outputs": [
    {
     "data": {
      "text/plain": [
       "{3, 5}"
      ]
     },
     "execution_count": 33,
     "metadata": {},
     "output_type": "execute_result"
    }
   ],
   "source": [
    "odd & prime"
   ]
  },
  {
   "cell_type": "markdown",
   "id": "b55407b9",
   "metadata": {},
   "source": [
    "### Difference\n",
    "Elements in A but not B"
   ]
  },
  {
   "cell_type": "code",
   "execution_count": 34,
   "id": "793ac5bd",
   "metadata": {},
   "outputs": [
    {
     "data": {
      "text/plain": [
       "{1}"
      ]
     },
     "execution_count": 34,
     "metadata": {},
     "output_type": "execute_result"
    }
   ],
   "source": [
    "odd.difference(prime)"
   ]
  },
  {
   "cell_type": "code",
   "execution_count": 35,
   "id": "7016c2f4",
   "metadata": {},
   "outputs": [
    {
     "data": {
      "text/plain": [
       "{2}"
      ]
     },
     "execution_count": 35,
     "metadata": {},
     "output_type": "execute_result"
    }
   ],
   "source": [
    "prime.difference(odd)"
   ]
  },
  {
   "cell_type": "code",
   "execution_count": 36,
   "id": "96131ce5",
   "metadata": {},
   "outputs": [
    {
     "data": {
      "text/plain": [
       "{1}"
      ]
     },
     "execution_count": 36,
     "metadata": {},
     "output_type": "execute_result"
    }
   ],
   "source": [
    "odd - prime"
   ]
  },
  {
   "cell_type": "code",
   "execution_count": 37,
   "id": "57c42407",
   "metadata": {},
   "outputs": [
    {
     "data": {
      "text/plain": [
       "{2}"
      ]
     },
     "execution_count": 37,
     "metadata": {},
     "output_type": "execute_result"
    }
   ],
   "source": [
    "prime - odd"
   ]
  },
  {
   "cell_type": "markdown",
   "id": "f1996f89",
   "metadata": {},
   "source": [
    "### Symmetric difference\n",
    "Elements in either A or B but not both"
   ]
  },
  {
   "cell_type": "code",
   "execution_count": 38,
   "id": "06603717",
   "metadata": {},
   "outputs": [
    {
     "data": {
      "text/plain": [
       "{1, 2}"
      ]
     },
     "execution_count": 38,
     "metadata": {},
     "output_type": "execute_result"
    }
   ],
   "source": [
    "odd.symmetric_difference(prime)"
   ]
  },
  {
   "cell_type": "code",
   "execution_count": 39,
   "id": "6a34ac23",
   "metadata": {},
   "outputs": [
    {
     "data": {
      "text/plain": [
       "{1, 2}"
      ]
     },
     "execution_count": 39,
     "metadata": {},
     "output_type": "execute_result"
    }
   ],
   "source": [
    "odd ^ prime"
   ]
  }
 ],
 "metadata": {
  "jupytext": {
   "cell_metadata_filter": "-all",
   "formats": "auto:light,ipynb",
   "main_language": "python",
   "notebook_metadata_filter": "-all"
  },
  "kernelspec": {
   "display_name": "Python 3 (ipykernel)",
   "language": "python",
   "name": "python3"
  },
  "language_info": {
   "codemirror_mode": {
    "name": "ipython",
    "version": 3
   },
   "file_extension": ".py",
   "mimetype": "text/x-python",
   "name": "python",
   "nbconvert_exporter": "python",
   "pygments_lexer": "ipython3",
   "version": "3.11.4"
  }
 },
 "nbformat": 4,
 "nbformat_minor": 5
}
