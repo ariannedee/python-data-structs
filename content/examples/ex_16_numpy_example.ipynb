{
 "cells": [
  {
   "cell_type": "markdown",
   "id": "82cf0ca8-40e6-403e-9cb5-85ef7ac68b26",
   "metadata": {},
   "source": [
    "# Curving grades\n",
    "\n",
    "Example from https://realpython.com/numpy-tutorial/"
   ]
  },
  {
   "cell_type": "code",
   "execution_count": 1,
   "id": "e15a2563-6a6d-4d37-8064-53ef3e338f83",
   "metadata": {},
   "outputs": [],
   "source": [
    "import numpy as np"
   ]
  },
  {
   "cell_type": "markdown",
   "id": "1060171b-ba8c-49f8-8795-9cef00585f2e",
   "metadata": {},
   "source": [
    "Define list of grades"
   ]
  },
  {
   "cell_type": "code",
   "execution_count": 2,
   "id": "d4a1872f",
   "metadata": {},
   "outputs": [],
   "source": [
    "grades = np.array([72, 35, 64, 88, 51, 90, 74, 12])"
   ]
  },
  {
   "cell_type": "markdown",
   "id": "18353a75-ccc0-43a1-9ffb-52c88b7b63d4",
   "metadata": {},
   "source": [
    "Curve the grades so the average is 80"
   ]
  },
  {
   "cell_type": "code",
   "execution_count": 3,
   "id": "03017d26",
   "metadata": {},
   "outputs": [
    {
     "data": {
      "text/plain": [
       "array([ 91.25,  54.25,  83.25, 100.  ,  70.25, 100.  ,  93.25,  31.25])"
      ]
     },
     "execution_count": 3,
     "metadata": {},
     "output_type": "execute_result"
    }
   ],
   "source": [
    "CURVE_CENTER = 80\n",
    "\n",
    "def curve(grades):\n",
    "    average = grades.mean()          # 60.75\n",
    "    change = CURVE_CENTER - average  # 19.25\n",
    "    new_grades = grades + change     # [91.25, 54.25, 83.25, 107.25, 70.25, 109.25, 93.25, 31.25]\n",
    "    return np.clip(new_grades, grades, 100)  # [91.25, 54.25, 83.25, 100.0, 70.25, 100.0, 93.25, 31.25]\n",
    "\n",
    "curve(grades)"
   ]
  }
 ],
 "metadata": {
  "jupytext": {
   "cell_metadata_filter": "-all",
   "main_language": "python",
   "notebook_metadata_filter": "-all"
  },
  "kernelspec": {
   "display_name": "Python 3 (ipykernel)",
   "language": "python",
   "name": "python3"
  },
  "language_info": {
   "codemirror_mode": {
    "name": "ipython",
    "version": 3
   },
   "file_extension": ".py",
   "mimetype": "text/x-python",
   "name": "python",
   "nbconvert_exporter": "python",
   "pygments_lexer": "ipython3",
   "version": "3.11.4"
  }
 },
 "nbformat": 4,
 "nbformat_minor": 5
}
