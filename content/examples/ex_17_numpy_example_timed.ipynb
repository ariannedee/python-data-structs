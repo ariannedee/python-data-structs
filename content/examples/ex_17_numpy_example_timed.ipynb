{
 "cells": [
  {
   "cell_type": "markdown",
   "id": "88677cab-e5a3-4dd8-b852-ec1d8c37e9e4",
   "metadata": {},
   "source": [
    "# Compare grades curving\n",
    "Compare NumPy ndarrays and Python lists/loops"
   ]
  },
  {
   "cell_type": "code",
   "execution_count": 11,
   "id": "3868584e-8e61-403f-8856-a372e683c931",
   "metadata": {},
   "outputs": [],
   "source": [
    "import random\n",
    "import time\n",
    "import numpy as np"
   ]
  },
  {
   "cell_type": "code",
   "execution_count": 2,
   "id": "ac35ed0b",
   "metadata": {},
   "outputs": [],
   "source": [
    "CURVE_CENTER = 80"
   ]
  },
  {
   "cell_type": "markdown",
   "id": "86649951-4edb-4a3d-8263-2196bd315810",
   "metadata": {},
   "source": [
    "`timer()` is a decorator to log function execution times\n",
    "\n",
    "See Practical Decorators PyCon 2019 talk by Reuven M. Lerner to learn about decorators\n",
    "https://youtu.be/MjHpMCIvwsY?t=405"
   ]
  },
  {
   "cell_type": "code",
   "execution_count": 3,
   "id": "eb9d3c30",
   "metadata": {},
   "outputs": [],
   "source": [
    "def timer(func):\n",
    "    def inner(*args, **kwargs):\n",
    "        start = time.time()\n",
    "        returned = func(*args, **kwargs)\n",
    "        end = time.time()\n",
    "        print(f'{func.__name__.upper():<20} {end - start:f}s')\n",
    "        return returned\n",
    "    return inner"
   ]
  },
  {
   "cell_type": "markdown",
   "id": "a76a233b-a63a-4321-a48c-3ec6a3cb804f",
   "metadata": {},
   "source": [
    "## Numpy functions\n",
    "Generate random grades"
   ]
  },
  {
   "cell_type": "code",
   "execution_count": 4,
   "id": "18aec345",
   "metadata": {},
   "outputs": [],
   "source": [
    "@timer\n",
    "def np_grades(num):\n",
    "    rg = np.random.default_rng(0)\n",
    "    grades = rg.integers(20, 100, num)\n",
    "    return grades"
   ]
  },
  {
   "cell_type": "markdown",
   "id": "452d8ab1-1c4c-4f8e-b199-07ae5bd4f413",
   "metadata": {},
   "source": [
    "Curve grades"
   ]
  },
  {
   "cell_type": "code",
   "execution_count": 5,
   "id": "34ed2f83",
   "metadata": {},
   "outputs": [],
   "source": [
    "@timer\n",
    "def np_curve(grades):\n",
    "    average = grades.mean()\n",
    "    change = CURVE_CENTER - average\n",
    "    new_grades = grades + change\n",
    "    return np.clip(new_grades, grades, 100)"
   ]
  },
  {
   "cell_type": "markdown",
   "id": "36ae2c40-6183-46ca-9f50-7f98c841c3c9",
   "metadata": {},
   "source": [
    "## Looping functions\n",
    "Generate random grades"
   ]
  },
  {
   "cell_type": "code",
   "execution_count": 6,
   "id": "ae160e5e",
   "metadata": {},
   "outputs": [],
   "source": [
    "@timer\n",
    "def loop_grades(num):\n",
    "    grades = [random.randint(20, 100) for _ in range(num)]\n",
    "    return grades"
   ]
  },
  {
   "cell_type": "markdown",
   "id": "3a0a2aaf-d41b-4020-9cbc-75f9c6197cb3",
   "metadata": {},
   "source": [
    "Curve grades"
   ]
  },
  {
   "cell_type": "code",
   "execution_count": 12,
   "id": "4f0f93c5",
   "metadata": {},
   "outputs": [],
   "source": [
    "@timer\n",
    "def loop_curve(grades):\n",
    "    average = sum(grades) / len(grades)\n",
    "    change = CURVE_CENTER - average\n",
    "    new_grades = [max(min(grade + change, 100), grade) for grade in grades]\n",
    "    return new_grades"
   ]
  },
  {
   "cell_type": "markdown",
   "id": "a07fa7db-27ef-4a75-9868-b2f1105075d6",
   "metadata": {},
   "source": [
    "## Time comparison of numpy vs loops\n",
    "Time how long it takes to curve 10 up to 10,000,000 grades"
   ]
  },
  {
   "cell_type": "code",
   "execution_count": 13,
   "id": "621568fd",
   "metadata": {},
   "outputs": [
    {
     "name": "stdout",
     "output_type": "stream",
     "text": [
      "\n",
      "--- 100 GRADES ---\n",
      "NP_GRADES            0.001391s\n",
      "NP_CURVE             0.000297s\n",
      "LOOP_GRADES          0.000176s\n",
      "LOOP_CURVE           0.000049s\n",
      "\n",
      "--- 1,000 GRADES ---\n",
      "NP_GRADES            0.000141s\n",
      "NP_CURVE             0.000080s\n",
      "LOOP_GRADES          0.000648s\n",
      "LOOP_CURVE           0.000476s\n",
      "\n",
      "--- 10,000 GRADES ---\n",
      "NP_GRADES            0.000220s\n",
      "NP_CURVE             0.000557s\n",
      "LOOP_GRADES          0.005558s\n",
      "LOOP_CURVE           0.004576s\n",
      "\n",
      "--- 100,000 GRADES ---\n",
      "NP_GRADES            0.000693s\n",
      "NP_CURVE             0.000768s\n",
      "LOOP_GRADES          0.035679s\n",
      "LOOP_CURVE           0.017458s\n",
      "\n",
      "--- 1,000,000 GRADES ---\n",
      "NP_GRADES            0.003520s\n",
      "NP_CURVE             0.004345s\n",
      "LOOP_GRADES          0.224452s\n",
      "LOOP_CURVE           0.141708s\n",
      "\n",
      "--- 10,000,000 GRADES ---\n",
      "NP_GRADES            0.028744s\n",
      "NP_CURVE             0.058144s\n",
      "LOOP_GRADES          2.131262s\n",
      "LOOP_CURVE           1.384286s\n"
     ]
    }
   ],
   "source": [
    "for num_zeroes in range(2, 8):\n",
    "    num_grades = 10 ** num_zeroes\n",
    "    print(f'\\n--- {num_grades:,} GRADES ---')\n",
    "    \n",
    "    np_curve(np_grades(num_grades)).tolist()  # Curve N grades with NumPy\n",
    "    loop_curve(loop_grades(num_grades))       # Curve N grades with loops"
   ]
  },
  {
   "cell_type": "code",
   "execution_count": null,
   "id": "0a441aae-be08-406c-ba60-cc8242e6e2ee",
   "metadata": {},
   "outputs": [],
   "source": []
  }
 ],
 "metadata": {
  "jupytext": {
   "cell_metadata_filter": "-all",
   "main_language": "python",
   "notebook_metadata_filter": "-all"
  },
  "kernelspec": {
   "display_name": "Python 3 (ipykernel)",
   "language": "python",
   "name": "python3"
  },
  "language_info": {
   "codemirror_mode": {
    "name": "ipython",
    "version": 3
   },
   "file_extension": ".py",
   "mimetype": "text/x-python",
   "name": "python",
   "nbconvert_exporter": "python",
   "pygments_lexer": "ipython3",
   "version": "3.11.4"
  }
 },
 "nbformat": 4,
 "nbformat_minor": 5
}
