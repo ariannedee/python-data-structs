{
 "cells": [
  {
   "cell_type": "markdown",
   "id": "bf90b318",
   "metadata": {},
   "source": [
    "# Generator comprehensions\n",
    "If your main purpose is looping over a sequence and you don't need a list object, using a generator will save memory and can be a lot faster to run."
   ]
  },
  {
   "cell_type": "code",
   "execution_count": 1,
   "id": "00346d13",
   "metadata": {},
   "outputs": [
    {
     "data": {
      "text/plain": [
       "<generator object <genexpr> at 0x103b8cd60>"
      ]
     },
     "execution_count": 1,
     "metadata": {},
     "output_type": "execute_result"
    }
   ],
   "source": [
    "squares = (i ** 2 for i in range(10))\n",
    "squares"
   ]
  },
  {
   "cell_type": "code",
   "execution_count": 2,
   "id": "3bc821eb",
   "metadata": {},
   "outputs": [
    {
     "name": "stdout",
     "output_type": "stream",
     "text": [
      "0\n",
      "1\n",
      "4\n",
      "9\n",
      "16\n",
      "25\n",
      "36\n",
      "49\n",
      "64\n",
      "81\n"
     ]
    }
   ],
   "source": [
    "for num in squares:\n",
    "    print(num)"
   ]
  },
  {
   "cell_type": "markdown",
   "id": "caba464c",
   "metadata": {},
   "source": [
    "Generators can only be looped over once"
   ]
  },
  {
   "cell_type": "code",
   "execution_count": 3,
   "id": "bf9c108c",
   "metadata": {},
   "outputs": [],
   "source": [
    "for num in squares:\n",
    "    print(num)"
   ]
  },
  {
   "cell_type": "markdown",
   "id": "3ef91d2c",
   "metadata": {},
   "source": [
    "## Comparing speed"
   ]
  },
  {
   "cell_type": "code",
   "execution_count": 4,
   "id": "0820005d",
   "metadata": {},
   "outputs": [],
   "source": [
    "from time import time"
   ]
  },
  {
   "cell_type": "code",
   "execution_count": 5,
   "id": "3581ef3c",
   "metadata": {},
   "outputs": [
    {
     "data": {
      "text/plain": [
       "'Took 0.0002s'"
      ]
     },
     "execution_count": 5,
     "metadata": {},
     "output_type": "execute_result"
    }
   ],
   "source": [
    "start = time()\n",
    "big_gen = (i for i in range(10**10))\n",
    "end = time()\n",
    "f'Took {round(end - start, 4)}s'"
   ]
  },
  {
   "cell_type": "code",
   "execution_count": 6,
   "id": "8d5b6caf",
   "metadata": {},
   "outputs": [
    {
     "data": {
      "text/plain": [
       "'Took 0.6014s'"
      ]
     },
     "execution_count": 6,
     "metadata": {},
     "output_type": "execute_result"
    }
   ],
   "source": [
    "start = time()\n",
    "big_list = [i for i in range(10**7)]  # Initializing can take a long time and use a lot of memory\n",
    "end = time()\n",
    "f'Took {round(end - start, 4)}s'"
   ]
  },
  {
   "cell_type": "markdown",
   "id": "e91e4845",
   "metadata": {},
   "source": [
    "They can be used in certain functions without creating a list.\n",
    "\n",
    "`any()`, `all()`, `min()`, `max()` and `sum()` can all accept generators."
   ]
  },
  {
   "cell_type": "code",
   "execution_count": 7,
   "id": "5791c810",
   "metadata": {},
   "outputs": [
    {
     "name": "stdout",
     "output_type": "stream",
     "text": [
      "2.055683543822351e-05\n",
      "0.9997254698141584\n"
     ]
    }
   ],
   "source": [
    "from random import random\n",
    "\n",
    "print(min((random() for i in range(10**4))))\n",
    "print(max((random() for i in range(10**4))))"
   ]
  },
  {
   "cell_type": "markdown",
   "id": "0ab294a1",
   "metadata": {},
   "source": [
    "To create a tuple, cast a generator using the `tuple()`."
   ]
  },
  {
   "cell_type": "code",
   "execution_count": 8,
   "id": "499a3798",
   "metadata": {},
   "outputs": [
    {
     "data": {
      "text/plain": [
       "(3, 5, 6, 9, 10, 12, 15, 18, 20, 21, 24, 25, 27)"
      ]
     },
     "execution_count": 8,
     "metadata": {},
     "output_type": "execute_result"
    }
   ],
   "source": [
    "tuple((i for i in range(1, 30) if i % 3 == 0 or i % 5 == 0))"
   ]
  }
 ],
 "metadata": {
  "jupytext": {
   "cell_metadata_filter": "-all",
   "formats": "auto:light,ipynb",
   "main_language": "python",
   "notebook_metadata_filter": "-all"
  },
  "kernelspec": {
   "display_name": "Python 3 (ipykernel)",
   "language": "python",
   "name": "python3"
  },
  "language_info": {
   "codemirror_mode": {
    "name": "ipython",
    "version": 3
   },
   "file_extension": ".py",
   "mimetype": "text/x-python",
   "name": "python",
   "nbconvert_exporter": "python",
   "pygments_lexer": "ipython3",
   "version": "3.11.4"
  }
 },
 "nbformat": 4,
 "nbformat_minor": 5
}
