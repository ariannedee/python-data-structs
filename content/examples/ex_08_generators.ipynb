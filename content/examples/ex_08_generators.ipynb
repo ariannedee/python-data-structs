{
 "cells": [
  {
   "cell_type": "markdown",
   "id": "6856b48d",
   "metadata": {},
   "source": [
    "# Generator comprehensions\n",
    "If your main purpose is looping over a sequence and you don't need a list object, using a generator will save memory and can be a lot faster to run."
   ]
  },
  {
   "cell_type": "code",
   "execution_count": 1,
   "id": "cc3fe503",
   "metadata": {},
   "outputs": [
    {
     "name": "stdout",
     "output_type": "stream",
     "text": [
      "<generator object <genexpr> at 0x104a6f6b0>\n",
      "0\n",
      "1\n",
      "4\n"
     ]
    }
   ],
   "source": [
    "squares = (i ** 2 for i in range(10*2))\n",
    "print(squares)\n",
    "print(next(squares))\n",
    "print(next(squares))\n",
    "print(next(squares))"
   ]
  },
  {
   "cell_type": "code",
   "execution_count": 2,
   "id": "9a5b63f1",
   "metadata": {},
   "outputs": [
    {
     "name": "stdout",
     "output_type": "stream",
     "text": [
      "9\n",
      "16\n",
      "25\n",
      "36\n",
      "49\n",
      "64\n",
      "81\n",
      "100\n",
      "121\n",
      "144\n",
      "169\n",
      "196\n",
      "225\n",
      "256\n",
      "289\n",
      "324\n",
      "361\n"
     ]
    }
   ],
   "source": [
    "for num in squares:\n",
    "    print(num)"
   ]
  },
  {
   "cell_type": "markdown",
   "id": "7c6bacb0",
   "metadata": {},
   "source": [
    "Generators can only be looped over once"
   ]
  },
  {
   "cell_type": "code",
   "execution_count": 3,
   "id": "0bea45b5",
   "metadata": {},
   "outputs": [],
   "source": [
    "for num in squares:\n",
    "    print(num)"
   ]
  },
  {
   "cell_type": "markdown",
   "id": "39bc0e12",
   "metadata": {},
   "source": [
    "## Comparing speed"
   ]
  },
  {
   "cell_type": "code",
   "execution_count": 4,
   "id": "3eedf5e2",
   "metadata": {},
   "outputs": [],
   "source": [
    "from time import time"
   ]
  },
  {
   "cell_type": "code",
   "execution_count": 5,
   "id": "c704b3b5",
   "metadata": {},
   "outputs": [
    {
     "data": {
      "text/plain": [
       "'Took 0.0001s'"
      ]
     },
     "execution_count": 5,
     "metadata": {},
     "output_type": "execute_result"
    }
   ],
   "source": [
    "start = time()\n",
    "big_gen = (i for i in range(10**10))\n",
    "end = time()\n",
    "f'Took {round(end - start, 4)}s'"
   ]
  },
  {
   "cell_type": "code",
   "execution_count": 6,
   "id": "e4b4e5e7",
   "metadata": {},
   "outputs": [
    {
     "data": {
      "text/plain": [
       "'Took 1.2816s'"
      ]
     },
     "execution_count": 6,
     "metadata": {},
     "output_type": "execute_result"
    }
   ],
   "source": [
    "start = time()\n",
    "big_list = [i for i in range(10**8)]  # Initializing can take a long time and use a lot of memory\n",
    "end = time()\n",
    "f'Took {round(end - start, 4)}s'"
   ]
  },
  {
   "cell_type": "markdown",
   "id": "1d32ad19",
   "metadata": {},
   "source": [
    "They can be used in certain functions without creating a list.\n",
    "\n",
    "`any()`, `all()`, `min()`, `max()` and `sum()` can all accept generators."
   ]
  },
  {
   "cell_type": "code",
   "execution_count": 7,
   "id": "546033ae",
   "metadata": {},
   "outputs": [
    {
     "name": "stdout",
     "output_type": "stream",
     "text": [
      "1.7427762621924359e-07\n",
      "0.9999999041851108\n"
     ]
    }
   ],
   "source": [
    "from random import random\n",
    "\n",
    "print(min((random() for i in range(10**7))))\n",
    "print(max((random() for i in range(10**7))))"
   ]
  },
  {
   "cell_type": "markdown",
   "id": "3b1c15fe",
   "metadata": {},
   "source": [
    "To create a tuple, cast a generator using the `tuple()`."
   ]
  },
  {
   "cell_type": "code",
   "execution_count": 8,
   "id": "6a96a5ac",
   "metadata": {},
   "outputs": [
    {
     "data": {
      "text/plain": [
       "(3, 5, 6, 9, 10, 12, 15, 18, 20, 21, 24, 25, 27)"
      ]
     },
     "execution_count": 8,
     "metadata": {},
     "output_type": "execute_result"
    }
   ],
   "source": [
    "tuple(i for i in range(1, 30) if i % 3 == 0 or i % 5 == 0)"
   ]
  },
  {
   "cell_type": "code",
   "execution_count": null,
   "id": "ebeed49e",
   "metadata": {},
   "outputs": [],
   "source": []
  }
 ],
 "metadata": {
  "jupytext": {
   "cell_metadata_filter": "-all",
   "formats": "auto:light,ipynb",
   "main_language": "python",
   "notebook_metadata_filter": "-all"
  },
  "kernelspec": {
   "display_name": "Python 3 (ipykernel)",
   "language": "python",
   "name": "python3"
  },
  "language_info": {
   "codemirror_mode": {
    "name": "ipython",
    "version": 3
   },
   "file_extension": ".py",
   "mimetype": "text/x-python",
   "name": "python",
   "nbconvert_exporter": "python",
   "pygments_lexer": "ipython3",
   "version": "3.11.4"
  }
 },
 "nbformat": 4,
 "nbformat_minor": 5
}
