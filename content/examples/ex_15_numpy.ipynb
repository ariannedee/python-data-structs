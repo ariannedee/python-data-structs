{
 "cells": [
  {
   "cell_type": "markdown",
   "id": "9c57ec95",
   "metadata": {},
   "source": [
    "# NumPy ndarrays\n",
    "\n",
    "Many examples are from the [Numpy documentation](https://numpy.org/doc/stable/user/quickstart.html)"
   ]
  },
  {
   "cell_type": "code",
   "execution_count": 1,
   "id": "41624857",
   "metadata": {
    "lines_to_next_cell": 2
   },
   "outputs": [],
   "source": [
    "import numpy as np"
   ]
  },
  {
   "cell_type": "markdown",
   "id": "97a620bf",
   "metadata": {},
   "source": [
    "## Create array from list or other sequence\n",
    "### Create 1-dimensional arrays from a sequence"
   ]
  },
  {
   "cell_type": "code",
   "execution_count": 2,
   "id": "2a76f46d",
   "metadata": {},
   "outputs": [
    {
     "name": "stdout",
     "output_type": "stream",
     "text": [
      "[1 2 3 4]\n",
      "int64\n",
      "(4,)\n"
     ]
    }
   ],
   "source": [
    "a = np.array([1, 2, 3, 4])\n",
    "print(a)\n",
    "print(a.dtype)\n",
    "print(a.shape)"
   ]
  },
  {
   "cell_type": "markdown",
   "id": "dadb5be4",
   "metadata": {},
   "source": [
    "### Create multi-dimensional arrays from nested sequences"
   ]
  },
  {
   "cell_type": "code",
   "execution_count": 3,
   "id": "766b9c8e",
   "metadata": {},
   "outputs": [
    {
     "name": "stdout",
     "output_type": "stream",
     "text": [
      "[[1.5 2.  3. ]\n",
      " [4.  5.  6. ]]\n",
      "float64\n",
      "(2, 3)\n"
     ]
    }
   ],
   "source": [
    "b = np.array([(1.5, 2, 3), (4, 5, 6)])\n",
    "print(b)\n",
    "print(b.dtype)\n",
    "print(b.shape)"
   ]
  },
  {
   "cell_type": "markdown",
   "id": "765ef5c9",
   "metadata": {},
   "source": [
    "### Specify type of array at creation"
   ]
  },
  {
   "cell_type": "code",
   "execution_count": 4,
   "id": "c16df1fe",
   "metadata": {},
   "outputs": [
    {
     "name": "stdout",
     "output_type": "stream",
     "text": [
      "[[1.+0.j 2.+0.j]\n",
      " [3.+0.j 4.+0.j]]\n",
      "complex128\n"
     ]
    }
   ],
   "source": [
    "c = np.array([[1, 2], [3, 4]], dtype=complex)\n",
    "print(c)\n",
    "print(c.dtype)"
   ]
  },
  {
   "cell_type": "markdown",
   "id": "eca24ae3",
   "metadata": {},
   "source": [
    "## Create array with specific size and placeholder content\n",
    "### Initial values are 0"
   ]
  },
  {
   "cell_type": "code",
   "execution_count": 5,
   "id": "2c7fd720",
   "metadata": {},
   "outputs": [
    {
     "name": "stdout",
     "output_type": "stream",
     "text": [
      "[[0. 0. 0. 0.]\n",
      " [0. 0. 0. 0.]\n",
      " [0. 0. 0. 0.]]\n",
      "float64\n",
      "(3, 4)\n"
     ]
    }
   ],
   "source": [
    "d = np.zeros((3, 4))\n",
    "print(d)\n",
    "print(d.dtype)\n",
    "print(d.shape)"
   ]
  },
  {
   "cell_type": "markdown",
   "id": "687299c3",
   "metadata": {},
   "source": [
    "### Initial values are 1"
   ]
  },
  {
   "cell_type": "code",
   "execution_count": 6,
   "id": "9fe802c4",
   "metadata": {},
   "outputs": [
    {
     "name": "stdout",
     "output_type": "stream",
     "text": [
      "[[[1 1 1 1]\n",
      "  [1 1 1 1]\n",
      "  [1 1 1 1]]\n",
      "\n",
      " [[1 1 1 1]\n",
      "  [1 1 1 1]\n",
      "  [1 1 1 1]]]\n",
      "int16\n",
      "(2, 3, 4)\n"
     ]
    }
   ],
   "source": [
    "e = np.ones((2, 3, 4), dtype=np.int16)\n",
    "print(e)\n",
    "print(e.dtype)\n",
    "print(e.shape)"
   ]
  },
  {
   "cell_type": "markdown",
   "id": "ba2459c7",
   "metadata": {
    "lines_to_next_cell": 2
   },
   "source": [
    "### Initial values are not set (values are existing memory content)\n",
    "\n",
    "Play around with setting a dtype to see resulting initial content."
   ]
  },
  {
   "cell_type": "code",
   "execution_count": 7,
   "id": "0456b68b",
   "metadata": {
    "lines_to_next_cell": 2
   },
   "outputs": [
    {
     "data": {
      "text/plain": [
       "array([[1.5, 2. , 3. ],\n",
       "       [4. , 5. , 6. ]])"
      ]
     },
     "execution_count": 7,
     "metadata": {},
     "output_type": "execute_result"
    }
   ],
   "source": [
    "np.empty((2, 3), dtype='float64')"
   ]
  },
  {
   "cell_type": "markdown",
   "id": "48d89525",
   "metadata": {},
   "source": [
    "## Create array with range of elements\n",
    "\n",
    "### arange() is like built-in range(start, end, step)"
   ]
  },
  {
   "cell_type": "code",
   "execution_count": 8,
   "id": "7645f449",
   "metadata": {},
   "outputs": [
    {
     "data": {
      "text/plain": [
       "array([10, 15, 20, 25])"
      ]
     },
     "execution_count": 8,
     "metadata": {},
     "output_type": "execute_result"
    }
   ],
   "source": [
    "np.arange(10, 30, 5)"
   ]
  },
  {
   "cell_type": "markdown",
   "id": "70310981",
   "metadata": {},
   "source": [
    "### arange() accepts float arguments"
   ]
  },
  {
   "cell_type": "code",
   "execution_count": 9,
   "id": "3aacc01a",
   "metadata": {},
   "outputs": [
    {
     "data": {
      "text/plain": [
       "array([0. , 0.3, 0.6, 0.9, 1.2, 1.5, 1.8])"
      ]
     },
     "execution_count": 9,
     "metadata": {},
     "output_type": "execute_result"
    }
   ],
   "source": [
    "np.arange(0, 2, 0.3)"
   ]
  },
  {
   "cell_type": "markdown",
   "id": "a4e09c9f",
   "metadata": {
    "lines_to_next_cell": 2
   },
   "source": [
    "### linspace() is like arange(), but provide num_elements instead of step\n",
    "Example returns a 9 element array from 0 to 2, equally spaced"
   ]
  },
  {
   "cell_type": "code",
   "execution_count": 10,
   "id": "12ad89ad",
   "metadata": {
    "lines_to_next_cell": 2
   },
   "outputs": [
    {
     "name": "stdout",
     "output_type": "stream",
     "text": [
      "[0.   0.25 0.5  0.75 1.   1.25 1.5  1.75 2.  ]\n",
      "9\n"
     ]
    }
   ],
   "source": [
    "i = np.linspace(0, 2, 9)\n",
    "print(i)\n",
    "print(len(i))"
   ]
  },
  {
   "cell_type": "markdown",
   "id": "38c3905a",
   "metadata": {},
   "source": [
    "## Create random array\n",
    "For random random numbers, use the `np.random` module."
   ]
  },
  {
   "cell_type": "code",
   "execution_count": 11,
   "id": "f6cf3a05",
   "metadata": {},
   "outputs": [
    {
     "data": {
      "text/plain": [
       "array([[0.73079091, 0.50750998, 0.97896897, 0.27716124],\n",
       "       [0.35674988, 0.29910501, 0.90860854, 0.68877319],\n",
       "       [0.86546301, 0.44603872, 0.24185236, 0.15954675]])"
      ]
     },
     "execution_count": 11,
     "metadata": {},
     "output_type": "execute_result"
    }
   ],
   "source": [
    "np.random.random((3, 4))"
   ]
  },
  {
   "cell_type": "markdown",
   "id": "817021e9",
   "metadata": {},
   "source": [
    "To create consistent and reproducible random numbers, create a random number generator (rng) with an initial seed value."
   ]
  },
  {
   "cell_type": "code",
   "execution_count": 12,
   "id": "e0959897",
   "metadata": {},
   "outputs": [
    {
     "data": {
      "text/plain": [
       "array([[ 2.73923375, -4.60426572, -9.18052952],\n",
       "       [-9.66944729,  6.26540478,  8.25511155]])"
      ]
     },
     "execution_count": 12,
     "metadata": {},
     "output_type": "execute_result"
    }
   ],
   "source": [
    "rg = np.random.default_rng(0)   # create default random number generator with seed 0\n",
    "rg.uniform(-10, 10, size=(2, 3))  # same values every time you run the cell"
   ]
  },
  {
   "cell_type": "code",
   "execution_count": 13,
   "id": "ea182db4",
   "metadata": {
    "lines_to_next_cell": 2
   },
   "outputs": [
    {
     "data": {
      "text/plain": [
       "array([[[5, 6, 9, 7],\n",
       "        [6, 5, 6, 9],\n",
       "        [3, 8, 7, 1]],\n",
       "\n",
       "       [[4, 8, 5, 1],\n",
       "        [7, 7, 8, 2],\n",
       "        [1, 8, 1, 5]]])"
      ]
     },
     "execution_count": 13,
     "metadata": {},
     "output_type": "execute_result"
    }
   ],
   "source": [
    "rg.integers(1, 10, size=(2, 3, 4))"
   ]
  },
  {
   "cell_type": "markdown",
   "id": "2fba01bf",
   "metadata": {},
   "source": [
    "## Save and load data from file\n",
    "\n",
    "### Save array to .npy file (platform independent)"
   ]
  },
  {
   "cell_type": "code",
   "execution_count": 14,
   "id": "a783c029",
   "metadata": {},
   "outputs": [],
   "source": [
    "np.save('numpy_file', i)"
   ]
  },
  {
   "cell_type": "markdown",
   "id": "0e9954a1",
   "metadata": {},
   "source": [
    "### Save array to .npy file"
   ]
  },
  {
   "cell_type": "code",
   "execution_count": 15,
   "id": "9968edab",
   "metadata": {},
   "outputs": [
    {
     "data": {
      "text/plain": [
       "array([0.  , 0.25, 0.5 , 0.75, 1.  , 1.25, 1.5 , 1.75, 2.  ])"
      ]
     },
     "execution_count": 15,
     "metadata": {},
     "output_type": "execute_result"
    }
   ],
   "source": [
    "j = np.load('numpy_file.npy')\n",
    "j"
   ]
  },
  {
   "cell_type": "markdown",
   "id": "f977cc30",
   "metadata": {},
   "source": [
    "## Printing\n",
    "NumPy displays arrays like nested lists, but with the following layout:\n",
    "- the last axis is printed from left to right,\n",
    "- the second-to-last is printed from top to bottom,\n",
    "- the rest are printed from top to bottom, with each slice separated from the next by an empty line."
   ]
  },
  {
   "cell_type": "code",
   "execution_count": 16,
   "id": "d7c31619",
   "metadata": {},
   "outputs": [
    {
     "data": {
      "text/plain": [
       "[[[['0000', '0001', '0002', '0003', '0004'],\n",
       "   ['0010', '0011', '0012', '0013', '0014'],\n",
       "   ['0020', '0021', '0022', '0023', '0024'],\n",
       "   ['0030', '0031', '0032', '0033', '0034']],\n",
       "  [['0100', '0101', '0102', '0103', '0104'],\n",
       "   ['0110', '0111', '0112', '0113', '0114'],\n",
       "   ['0120', '0121', '0122', '0123', '0124'],\n",
       "   ['0130', '0131', '0132', '0133', '0134']],\n",
       "  [['0200', '0201', '0202', '0203', '0204'],\n",
       "   ['0210', '0211', '0212', '0213', '0214'],\n",
       "   ['0220', '0221', '0222', '0223', '0224'],\n",
       "   ['0230', '0231', '0232', '0233', '0234']]],\n",
       " [[['1000', '1001', '1002', '1003', '1004'],\n",
       "   ['1010', '1011', '1012', '1013', '1014'],\n",
       "   ['1020', '1021', '1022', '1023', '1024'],\n",
       "   ['1030', '1031', '1032', '1033', '1034']],\n",
       "  [['1100', '1101', '1102', '1103', '1104'],\n",
       "   ['1110', '1111', '1112', '1113', '1114'],\n",
       "   ['1120', '1121', '1122', '1123', '1124'],\n",
       "   ['1130', '1131', '1132', '1133', '1134']],\n",
       "  [['1200', '1201', '1202', '1203', '1204'],\n",
       "   ['1210', '1211', '1212', '1213', '1214'],\n",
       "   ['1220', '1221', '1222', '1223', '1224'],\n",
       "   ['1230', '1231', '1232', '1233', '1234']]]]"
      ]
     },
     "execution_count": 16,
     "metadata": {},
     "output_type": "execute_result"
    }
   ],
   "source": [
    "as_lists = [\n",
    "    [\n",
    "        [\n",
    "            [f'{i}{j}{k}{l}' for l in range(5)]\n",
    "            for k in range(4)\n",
    "        ]\n",
    "        for j in range(3)\n",
    "    ] for i in range(2)\n",
    "]\n",
    "as_lists"
   ]
  },
  {
   "cell_type": "code",
   "execution_count": 17,
   "id": "35e175ed",
   "metadata": {
    "lines_to_next_cell": 2
   },
   "outputs": [
    {
     "data": {
      "text/plain": [
       "array([[[['0000', '0001', '0002', '0003', '0004'],\n",
       "         ['0010', '0011', '0012', '0013', '0014'],\n",
       "         ['0020', '0021', '0022', '0023', '0024'],\n",
       "         ['0030', '0031', '0032', '0033', '0034']],\n",
       "\n",
       "        [['0100', '0101', '0102', '0103', '0104'],\n",
       "         ['0110', '0111', '0112', '0113', '0114'],\n",
       "         ['0120', '0121', '0122', '0123', '0124'],\n",
       "         ['0130', '0131', '0132', '0133', '0134']],\n",
       "\n",
       "        [['0200', '0201', '0202', '0203', '0204'],\n",
       "         ['0210', '0211', '0212', '0213', '0214'],\n",
       "         ['0220', '0221', '0222', '0223', '0224'],\n",
       "         ['0230', '0231', '0232', '0233', '0234']]],\n",
       "\n",
       "\n",
       "       [[['1000', '1001', '1002', '1003', '1004'],\n",
       "         ['1010', '1011', '1012', '1013', '1014'],\n",
       "         ['1020', '1021', '1022', '1023', '1024'],\n",
       "         ['1030', '1031', '1032', '1033', '1034']],\n",
       "\n",
       "        [['1100', '1101', '1102', '1103', '1104'],\n",
       "         ['1110', '1111', '1112', '1113', '1114'],\n",
       "         ['1120', '1121', '1122', '1123', '1124'],\n",
       "         ['1130', '1131', '1132', '1133', '1134']],\n",
       "\n",
       "        [['1200', '1201', '1202', '1203', '1204'],\n",
       "         ['1210', '1211', '1212', '1213', '1214'],\n",
       "         ['1220', '1221', '1222', '1223', '1224'],\n",
       "         ['1230', '1231', '1232', '1233', '1234']]]], dtype='<U4')"
      ]
     },
     "execution_count": 17,
     "metadata": {},
     "output_type": "execute_result"
    }
   ],
   "source": [
    "ar = np.array(as_lists)\n",
    "ar"
   ]
  },
  {
   "cell_type": "code",
   "execution_count": 18,
   "id": "463fa247",
   "metadata": {
    "lines_to_next_cell": 2
   },
   "outputs": [
    {
     "data": {
      "text/plain": [
       "'0123'"
      ]
     },
     "execution_count": 18,
     "metadata": {},
     "output_type": "execute_result"
    }
   ],
   "source": [
    "ar[0, 1, 2, 3]"
   ]
  },
  {
   "cell_type": "code",
   "execution_count": 19,
   "id": "ddff06fd",
   "metadata": {},
   "outputs": [
    {
     "data": {
      "text/plain": [
       "'0123'"
      ]
     },
     "execution_count": 19,
     "metadata": {},
     "output_type": "execute_result"
    }
   ],
   "source": [
    "ar[0][1][2][3]"
   ]
  },
  {
   "cell_type": "code",
   "execution_count": 20,
   "id": "909e48c4",
   "metadata": {},
   "outputs": [
    {
     "data": {
      "text/plain": [
       "array([[[[   0,    1,    2,    3,    4],\n",
       "         [  10,   11,   12,   13,   14],\n",
       "         [  20,   21,   22,   23,   24],\n",
       "         [  30,   31,   32,   33,   34]],\n",
       "\n",
       "        [[ 100,  101,  102,  103,  104],\n",
       "         [ 110,  111,  112,  113,  114],\n",
       "         [ 120,  121,  122,  123,  124],\n",
       "         [ 130,  131,  132,  133,  134]],\n",
       "\n",
       "        [[ 200,  201,  202,  203,  204],\n",
       "         [ 210,  211,  212,  213,  214],\n",
       "         [ 220,  221,  222,  223,  224],\n",
       "         [ 230,  231,  232,  233,  234]]],\n",
       "\n",
       "\n",
       "       [[[1000, 1001, 1002, 1003, 1004],\n",
       "         [1010, 1011, 1012, 1013, 1014],\n",
       "         [1020, 1021, 1022, 1023, 1024],\n",
       "         [1030, 1031, 1032, 1033, 1034]],\n",
       "\n",
       "        [[1100, 1101, 1102, 1103, 1104],\n",
       "         [1110, 1111, 1112, 1113, 1114],\n",
       "         [1120, 1121, 1122, 1123, 1124],\n",
       "         [1130, 1131, 1132, 1133, 1134]],\n",
       "\n",
       "        [[1200, 1201, 1202, 1203, 1204],\n",
       "         [1210, 1211, 1212, 1213, 1214],\n",
       "         [1220, 1221, 1222, 1223, 1224],\n",
       "         [1230, 1231, 1232, 1233, 1234]]]], dtype=int16)"
      ]
     },
     "execution_count": 20,
     "metadata": {},
     "output_type": "execute_result"
    }
   ],
   "source": [
    "ar_ints = ar.astype(np.int16)\n",
    "ar_ints"
   ]
  },
  {
   "cell_type": "markdown",
   "id": "9cd41246",
   "metadata": {},
   "source": [
    "### Array axes"
   ]
  },
  {
   "cell_type": "code",
   "execution_count": 21,
   "id": "1faa02a8",
   "metadata": {},
   "outputs": [
    {
     "data": {
      "text/plain": [
       "1234"
      ]
     },
     "execution_count": 21,
     "metadata": {},
     "output_type": "execute_result"
    }
   ],
   "source": [
    "ar_ints.max()  # Max of entire array"
   ]
  },
  {
   "cell_type": "code",
   "execution_count": 22,
   "id": "bb3648af",
   "metadata": {},
   "outputs": [
    {
     "data": {
      "text/plain": [
       "array([[[1000, 1001, 1002, 1003, 1004],\n",
       "        [1010, 1011, 1012, 1013, 1014],\n",
       "        [1020, 1021, 1022, 1023, 1024],\n",
       "        [1030, 1031, 1032, 1033, 1034]],\n",
       "\n",
       "       [[1100, 1101, 1102, 1103, 1104],\n",
       "        [1110, 1111, 1112, 1113, 1114],\n",
       "        [1120, 1121, 1122, 1123, 1124],\n",
       "        [1130, 1131, 1132, 1133, 1134]],\n",
       "\n",
       "       [[1200, 1201, 1202, 1203, 1204],\n",
       "        [1210, 1211, 1212, 1213, 1214],\n",
       "        [1220, 1221, 1222, 1223, 1224],\n",
       "        [1230, 1231, 1232, 1233, 1234]]], dtype=int16)"
      ]
     },
     "execution_count": 22,
     "metadata": {},
     "output_type": "execute_result"
    }
   ],
   "source": [
    "ar_ints.max(0)  # Max of axes 0"
   ]
  },
  {
   "cell_type": "code",
   "execution_count": 23,
   "id": "b2d8e37f",
   "metadata": {},
   "outputs": [
    {
     "data": {
      "text/plain": [
       "array([[[ 200,  201,  202,  203,  204],\n",
       "        [ 210,  211,  212,  213,  214],\n",
       "        [ 220,  221,  222,  223,  224],\n",
       "        [ 230,  231,  232,  233,  234]],\n",
       "\n",
       "       [[1200, 1201, 1202, 1203, 1204],\n",
       "        [1210, 1211, 1212, 1213, 1214],\n",
       "        [1220, 1221, 1222, 1223, 1224],\n",
       "        [1230, 1231, 1232, 1233, 1234]]], dtype=int16)"
      ]
     },
     "execution_count": 23,
     "metadata": {},
     "output_type": "execute_result"
    }
   ],
   "source": [
    "ar_ints.max(1)  # Max of axes 1"
   ]
  },
  {
   "cell_type": "code",
   "execution_count": 24,
   "id": "51b0d170",
   "metadata": {},
   "outputs": [
    {
     "data": {
      "text/plain": [
       "array([[[  30,   31,   32,   33,   34],\n",
       "        [ 130,  131,  132,  133,  134],\n",
       "        [ 230,  231,  232,  233,  234]],\n",
       "\n",
       "       [[1030, 1031, 1032, 1033, 1034],\n",
       "        [1130, 1131, 1132, 1133, 1134],\n",
       "        [1230, 1231, 1232, 1233, 1234]]], dtype=int16)"
      ]
     },
     "execution_count": 24,
     "metadata": {},
     "output_type": "execute_result"
    }
   ],
   "source": [
    "ar_ints.max(2)  # Max of axes 2"
   ]
  },
  {
   "cell_type": "code",
   "execution_count": 25,
   "id": "93a50459",
   "metadata": {},
   "outputs": [
    {
     "data": {
      "text/plain": [
       "array([[[   4,   14,   24,   34],\n",
       "        [ 104,  114,  124,  134],\n",
       "        [ 204,  214,  224,  234]],\n",
       "\n",
       "       [[1004, 1014, 1024, 1034],\n",
       "        [1104, 1114, 1124, 1134],\n",
       "        [1204, 1214, 1224, 1234]]], dtype=int16)"
      ]
     },
     "execution_count": 25,
     "metadata": {},
     "output_type": "execute_result"
    }
   ],
   "source": [
    "ar_ints.max(3)  # Max of axes 3"
   ]
  },
  {
   "cell_type": "markdown",
   "id": "2790c4dd",
   "metadata": {},
   "source": [
    "## Methods"
   ]
  },
  {
   "cell_type": "code",
   "execution_count": 26,
   "id": "596ae8a6",
   "metadata": {},
   "outputs": [
    {
     "name": "stdout",
     "output_type": "stream",
     "text": [
      "[[1 2 3]\n",
      " [4 5 6]]\n",
      "(2, 3)\n"
     ]
    }
   ],
   "source": [
    "k = np.array([\n",
    "    (1, 2, 3),\n",
    "    (4, 5, 6)\n",
    "])\n",
    "print(k)\n",
    "print(k.shape)"
   ]
  },
  {
   "cell_type": "markdown",
   "id": "6f27ccef",
   "metadata": {},
   "source": [
    "### You can perform calculations on the whole array"
   ]
  },
  {
   "cell_type": "code",
   "execution_count": 27,
   "id": "4a2d568a",
   "metadata": {},
   "outputs": [
    {
     "name": "stdout",
     "output_type": "stream",
     "text": [
      "Sum: 21\n",
      "Min: 1\n",
      "Max: 6\n"
     ]
    }
   ],
   "source": [
    "print('Sum:', k.sum())\n",
    "print('Min:', k.min())\n",
    "print('Max:', k.max())"
   ]
  },
  {
   "cell_type": "markdown",
   "id": "6ecd1ef7",
   "metadata": {},
   "source": [
    "### If you pass an axis in, it calculates over that axis\n",
    "For a 2d array, axis 0 is vertical"
   ]
  },
  {
   "cell_type": "code",
   "execution_count": 28,
   "id": "5128cf16",
   "metadata": {},
   "outputs": [
    {
     "name": "stdout",
     "output_type": "stream",
     "text": [
      "Sum: [5 7 9]\n",
      "Min: [1 2 3]\n",
      "Max: [4 5 6]\n"
     ]
    }
   ],
   "source": [
    "print('Sum:', k.sum(0))\n",
    "print('Min:', k.min(0))\n",
    "print('Max:', k.max(0))"
   ]
  },
  {
   "cell_type": "markdown",
   "id": "fbba78d2",
   "metadata": {},
   "source": [
    "For a 2d array, axis 1 is horizontal"
   ]
  },
  {
   "cell_type": "code",
   "execution_count": 29,
   "id": "32f09730",
   "metadata": {},
   "outputs": [
    {
     "name": "stdout",
     "output_type": "stream",
     "text": [
      "Sum: [ 6 15]\n",
      "Min: [1 4]\n",
      "Max: [3 6]\n"
     ]
    }
   ],
   "source": [
    "print('Sum:', k.sum(1))\n",
    "print('Min:', k.min(1))\n",
    "print('Max:', k.max(1))"
   ]
  },
  {
   "cell_type": "markdown",
   "id": "83a5d497",
   "metadata": {},
   "source": [
    "### Conversions"
   ]
  },
  {
   "cell_type": "code",
   "execution_count": 30,
   "id": "99c3f9dc",
   "metadata": {},
   "outputs": [
    {
     "data": {
      "text/plain": [
       "[[1, 2, 3], [4, 5, 6]]"
      ]
     },
     "execution_count": 30,
     "metadata": {},
     "output_type": "execute_result"
    }
   ],
   "source": [
    "k.tolist()"
   ]
  },
  {
   "cell_type": "code",
   "execution_count": 31,
   "id": "1ff659b7",
   "metadata": {},
   "outputs": [
    {
     "data": {
      "text/plain": [
       "array([['1', '2', '3'],\n",
       "       ['4', '5', '6']], dtype='<U21')"
      ]
     },
     "execution_count": 31,
     "metadata": {},
     "output_type": "execute_result"
    }
   ],
   "source": [
    "k.astype(str)"
   ]
  },
  {
   "cell_type": "markdown",
   "id": "88eab69a",
   "metadata": {},
   "source": [
    "### Changing shape"
   ]
  },
  {
   "cell_type": "code",
   "execution_count": 32,
   "id": "b36ea356",
   "metadata": {},
   "outputs": [
    {
     "data": {
      "text/plain": [
       "array([1, 2, 3, 4, 5, 6])"
      ]
     },
     "execution_count": 32,
     "metadata": {},
     "output_type": "execute_result"
    }
   ],
   "source": [
    "k.ravel()"
   ]
  },
  {
   "cell_type": "code",
   "execution_count": 33,
   "id": "a5b19e22",
   "metadata": {},
   "outputs": [
    {
     "data": {
      "text/plain": [
       "array([[1, 2],\n",
       "       [3, 4],\n",
       "       [5, 6]])"
      ]
     },
     "execution_count": 33,
     "metadata": {},
     "output_type": "execute_result"
    }
   ],
   "source": [
    "k.reshape((3, 2))"
   ]
  },
  {
   "cell_type": "code",
   "execution_count": 34,
   "id": "bd887f0f",
   "metadata": {},
   "outputs": [
    {
     "data": {
      "text/plain": [
       "array([[1, 4],\n",
       "       [2, 5],\n",
       "       [3, 6]])"
      ]
     },
     "execution_count": 34,
     "metadata": {},
     "output_type": "execute_result"
    }
   ],
   "source": [
    "k.T  # Transposed (axes swapped)"
   ]
  },
  {
   "cell_type": "markdown",
   "id": "fe348f31",
   "metadata": {},
   "source": [
    "## Basic operations\n",
    "\n",
    "Basic operations return a new array, with operation performed on each element\n",
    "\n",
    "### Single number operations"
   ]
  },
  {
   "cell_type": "code",
   "execution_count": 35,
   "id": "92d6d333",
   "metadata": {},
   "outputs": [
    {
     "data": {
      "text/plain": [
       "array([10, 20, 30, 40])"
      ]
     },
     "execution_count": 35,
     "metadata": {},
     "output_type": "execute_result"
    }
   ],
   "source": [
    "l = np.array([10, 20, 30, 40])\n",
    "l"
   ]
  },
  {
   "cell_type": "code",
   "execution_count": 36,
   "id": "4c49eea3",
   "metadata": {},
   "outputs": [
    {
     "data": {
      "text/plain": [
       "array([ 9, 19, 29, 39])"
      ]
     },
     "execution_count": 36,
     "metadata": {},
     "output_type": "execute_result"
    }
   ],
   "source": [
    "l - 1"
   ]
  },
  {
   "cell_type": "code",
   "execution_count": 37,
   "id": "ea8597ac",
   "metadata": {},
   "outputs": [
    {
     "data": {
      "text/plain": [
       "array([ 25.,  50.,  75., 100.])"
      ]
     },
     "execution_count": 37,
     "metadata": {},
     "output_type": "execute_result"
    }
   ],
   "source": [
    "l * 2.5  # (element multiplication)"
   ]
  },
  {
   "cell_type": "code",
   "execution_count": 38,
   "id": "07aa06a9",
   "metadata": {},
   "outputs": [
    {
     "data": {
      "text/plain": [
       "array([ 100,  400,  900, 1600])"
      ]
     },
     "execution_count": 38,
     "metadata": {},
     "output_type": "execute_result"
    }
   ],
   "source": [
    "l ** 2"
   ]
  },
  {
   "cell_type": "code",
   "execution_count": 39,
   "id": "a73fd2f8",
   "metadata": {},
   "outputs": [
    {
     "data": {
      "text/plain": [
       "array([-5.44021111,  9.12945251, -9.88031624,  7.4511316 ])"
      ]
     },
     "execution_count": 39,
     "metadata": {},
     "output_type": "execute_result"
    }
   ],
   "source": [
    "10 * np.sin(l)"
   ]
  },
  {
   "cell_type": "code",
   "execution_count": 40,
   "id": "4cc4e0e4",
   "metadata": {},
   "outputs": [
    {
     "data": {
      "text/plain": [
       "array([ True,  True, False, False])"
      ]
     },
     "execution_count": 40,
     "metadata": {},
     "output_type": "execute_result"
    }
   ],
   "source": [
    "l < 25"
   ]
  },
  {
   "cell_type": "markdown",
   "id": "56d80f54",
   "metadata": {},
   "source": [
    "### 1d array operations\n",
    "Operations can be performed against an array of same size"
   ]
  },
  {
   "cell_type": "code",
   "execution_count": 41,
   "id": "9f904eea",
   "metadata": {},
   "outputs": [
    {
     "data": {
      "text/plain": [
       "array([0, 1, 2, 3])"
      ]
     },
     "execution_count": 41,
     "metadata": {},
     "output_type": "execute_result"
    }
   ],
   "source": [
    "m = np.arange(4)\n",
    "m"
   ]
  },
  {
   "cell_type": "code",
   "execution_count": 42,
   "id": "7925f728",
   "metadata": {},
   "outputs": [
    {
     "data": {
      "text/plain": [
       "array([10, 19, 28, 37])"
      ]
     },
     "execution_count": 42,
     "metadata": {},
     "output_type": "execute_result"
    }
   ],
   "source": [
    "l - m"
   ]
  },
  {
   "cell_type": "code",
   "execution_count": 43,
   "id": "52b89a56",
   "metadata": {},
   "outputs": [
    {
     "data": {
      "text/plain": [
       "array([  0,  20,  60, 120])"
      ]
     },
     "execution_count": 43,
     "metadata": {},
     "output_type": "execute_result"
    }
   ],
   "source": [
    "l * m"
   ]
  },
  {
   "cell_type": "code",
   "execution_count": 44,
   "id": "f043aba0",
   "metadata": {},
   "outputs": [
    {
     "data": {
      "text/plain": [
       "200"
      ]
     },
     "execution_count": 44,
     "metadata": {},
     "output_type": "execute_result"
    }
   ],
   "source": [
    "l @ m  # 200 (dot product), or"
   ]
  },
  {
   "cell_type": "code",
   "execution_count": 45,
   "id": "732c36ff",
   "metadata": {
    "lines_to_next_cell": 2
   },
   "outputs": [
    {
     "data": {
      "text/plain": [
       "200"
      ]
     },
     "execution_count": 45,
     "metadata": {},
     "output_type": "execute_result"
    }
   ],
   "source": [
    "l.dot(m)  # 200 (dot product)"
   ]
  },
  {
   "cell_type": "markdown",
   "id": "bf1a29a9",
   "metadata": {},
   "source": [
    "Operating on an array of a different size will throw an error."
   ]
  },
  {
   "cell_type": "code",
   "execution_count": 46,
   "id": "e910aee0",
   "metadata": {},
   "outputs": [
    {
     "name": "stdout",
     "output_type": "stream",
     "text": [
      "ValueError('operands could not be broadcast together with shapes (4,) (2,) ')\n"
     ]
    }
   ],
   "source": [
    "try:\n",
    "    l - [1, 2]\n",
    "except Exception as e:\n",
    "    print(repr(e))"
   ]
  },
  {
   "cell_type": "markdown",
   "id": "01516d89",
   "metadata": {},
   "source": [
    "### Broadcasting\n",
    "For multidimensional arrays, basic operations follow [broadcasting](https://numpy.org/doc/stable/user/basics\n",
    ".broadcasting.html) rules:\n",
    "- each dimension must either have the same size, or\n",
    "- one must have size 1"
   ]
  },
  {
   "cell_type": "markdown",
   "id": "2c3693fa",
   "metadata": {},
   "source": [
    "### 2d array operations"
   ]
  },
  {
   "cell_type": "code",
   "execution_count": 47,
   "id": "1ddcd104",
   "metadata": {},
   "outputs": [
    {
     "data": {
      "text/plain": [
       "array([[1, 2],\n",
       "       [3, 4],\n",
       "       [5, 6]])"
      ]
     },
     "execution_count": 47,
     "metadata": {},
     "output_type": "execute_result"
    }
   ],
   "source": [
    "n = np.array([(1, 2), (3, 4), (5, 6)])  # (3, 2)\n",
    "n"
   ]
  },
  {
   "cell_type": "code",
   "execution_count": 48,
   "id": "a0a98743",
   "metadata": {},
   "outputs": [
    {
     "data": {
      "text/plain": [
       "array([[1],\n",
       "       [2],\n",
       "       [3]])"
      ]
     },
     "execution_count": 48,
     "metadata": {},
     "output_type": "execute_result"
    }
   ],
   "source": [
    "o = np.array([[1], [2], [3]])  # (3, 1): 1st dim is same size, 2nd dim size is 1\n",
    "o"
   ]
  },
  {
   "cell_type": "code",
   "execution_count": 49,
   "id": "e682c325",
   "metadata": {},
   "outputs": [
    {
     "data": {
      "text/plain": [
       "array([[ 1,  2],\n",
       "       [ 6,  8],\n",
       "       [15, 18]])"
      ]
     },
     "execution_count": 49,
     "metadata": {},
     "output_type": "execute_result"
    }
   ],
   "source": [
    "n * o"
   ]
  },
  {
   "cell_type": "code",
   "execution_count": 50,
   "id": "9debc734",
   "metadata": {},
   "outputs": [
    {
     "data": {
      "text/plain": [
       "array([[1, 2]])"
      ]
     },
     "execution_count": 50,
     "metadata": {},
     "output_type": "execute_result"
    }
   ],
   "source": [
    "p = np.array([[1, 2]])  # (1, 2): 1st dim size is 1, 2nd dim is same size\n",
    "p"
   ]
  },
  {
   "cell_type": "code",
   "execution_count": 51,
   "id": "3dd7991a",
   "metadata": {},
   "outputs": [
    {
     "data": {
      "text/plain": [
       "array([[ 1,  4],\n",
       "       [ 3,  8],\n",
       "       [ 5, 12]])"
      ]
     },
     "execution_count": 51,
     "metadata": {},
     "output_type": "execute_result"
    }
   ],
   "source": [
    "n * p"
   ]
  },
  {
   "cell_type": "markdown",
   "id": "2a477677",
   "metadata": {},
   "source": [
    "### Upcasting\n",
    "When arrays have different types, the result will use the more general/precise type"
   ]
  },
  {
   "cell_type": "code",
   "execution_count": 52,
   "id": "863cc716",
   "metadata": {},
   "outputs": [
    {
     "data": {
      "text/plain": [
       "array([1, 1, 1], dtype=int32)"
      ]
     },
     "execution_count": 52,
     "metadata": {},
     "output_type": "execute_result"
    }
   ],
   "source": [
    "q = np.ones(3, dtype=np.int32)\n",
    "q"
   ]
  },
  {
   "cell_type": "code",
   "execution_count": 53,
   "id": "baebd3ae",
   "metadata": {},
   "outputs": [
    {
     "data": {
      "text/plain": [
       "array([0. , 0.5, 1. ])"
      ]
     },
     "execution_count": 53,
     "metadata": {},
     "output_type": "execute_result"
    }
   ],
   "source": [
    "r = np.linspace(0, 1, 3)\n",
    "r"
   ]
  },
  {
   "cell_type": "code",
   "execution_count": 54,
   "id": "a3caa0d3",
   "metadata": {},
   "outputs": [
    {
     "name": "stdout",
     "output_type": "stream",
     "text": [
      "int32\n",
      "float64\n"
     ]
    }
   ],
   "source": [
    "print(q.dtype)\n",
    "print(r.dtype)"
   ]
  },
  {
   "cell_type": "code",
   "execution_count": 55,
   "id": "a0083ebc",
   "metadata": {},
   "outputs": [
    {
     "name": "stdout",
     "output_type": "stream",
     "text": [
      "float64\n"
     ]
    },
    {
     "data": {
      "text/plain": [
       "array([1. , 1.5, 2. ])"
      ]
     },
     "execution_count": 55,
     "metadata": {},
     "output_type": "execute_result"
    }
   ],
   "source": [
    "s = q + r\n",
    "print(s.dtype)\n",
    "s"
   ]
  },
  {
   "cell_type": "markdown",
   "id": "d5097ba9",
   "metadata": {},
   "source": [
    "### Augmented assignment operations\n",
    "These modify the existing array (e.g. +=)"
   ]
  },
  {
   "cell_type": "code",
   "execution_count": 56,
   "id": "92e72418",
   "metadata": {},
   "outputs": [
    {
     "data": {
      "text/plain": [
       "array([1. , 1.5, 2. ])"
      ]
     },
     "execution_count": 56,
     "metadata": {},
     "output_type": "execute_result"
    }
   ],
   "source": [
    "r += q\n",
    "r"
   ]
  },
  {
   "cell_type": "markdown",
   "id": "f1bd2e1a",
   "metadata": {},
   "source": [
    "#### Type errors\n",
    "Because arrays have a specific type,\n",
    "you may get type errors if you try to store a more precise type in a less precise array"
   ]
  },
  {
   "cell_type": "code",
   "execution_count": 57,
   "id": "5e5668b8",
   "metadata": {},
   "outputs": [
    {
     "name": "stdout",
     "output_type": "stream",
     "text": [
      "UFuncTypeError(<ufunc 'add'>, 'same_kind', dtype('float64'), dtype('int32'), 2)\n",
      "Cannot store a float64 type into an int32 type array\n"
     ]
    }
   ],
   "source": [
    "try:\n",
    "    q += r\n",
    "except Exception as e:\n",
    "    print(repr(e))\n",
    "    print('Cannot store a float64 type into an int32 type array')"
   ]
  },
  {
   "cell_type": "markdown",
   "id": "d5c52e45",
   "metadata": {},
   "source": [
    "## Indexing and slicing\n",
    "### 1d arrays\n",
    "Works mostly like lists"
   ]
  },
  {
   "cell_type": "code",
   "execution_count": 58,
   "id": "03923840",
   "metadata": {},
   "outputs": [
    {
     "data": {
      "text/plain": [
       "array([0, 2, 4, 6, 8])"
      ]
     },
     "execution_count": 58,
     "metadata": {},
     "output_type": "execute_result"
    }
   ],
   "source": [
    "t = np.arange(5) * 2\n",
    "t"
   ]
  },
  {
   "cell_type": "code",
   "execution_count": 59,
   "id": "3b49217f",
   "metadata": {},
   "outputs": [
    {
     "data": {
      "text/plain": [
       "4"
      ]
     },
     "execution_count": 59,
     "metadata": {},
     "output_type": "execute_result"
    }
   ],
   "source": [
    "t[2]"
   ]
  },
  {
   "cell_type": "code",
   "execution_count": 60,
   "id": "bcf4c28f",
   "metadata": {},
   "outputs": [
    {
     "data": {
      "text/plain": [
       "array([2, 4, 6])"
      ]
     },
     "execution_count": 60,
     "metadata": {},
     "output_type": "execute_result"
    }
   ],
   "source": [
    "t[1:4]"
   ]
  },
  {
   "cell_type": "code",
   "execution_count": 61,
   "id": "537159bb",
   "metadata": {},
   "outputs": [
    {
     "data": {
      "text/plain": [
       "array([0, 2, 4, 6, 8])"
      ]
     },
     "execution_count": 61,
     "metadata": {},
     "output_type": "execute_result"
    }
   ],
   "source": [
    "t[:]"
   ]
  },
  {
   "cell_type": "code",
   "execution_count": 62,
   "id": "3f1c4b97",
   "metadata": {},
   "outputs": [
    {
     "data": {
      "text/plain": [
       "array([8, 6, 4, 2, 0])"
      ]
     },
     "execution_count": 62,
     "metadata": {},
     "output_type": "execute_result"
    }
   ],
   "source": [
    "t[::-1]"
   ]
  },
  {
   "cell_type": "code",
   "execution_count": 63,
   "id": "9c12ce77",
   "metadata": {},
   "outputs": [
    {
     "data": {
      "text/plain": [
       "array([6, 2, 0])"
      ]
     },
     "execution_count": 63,
     "metadata": {},
     "output_type": "execute_result"
    }
   ],
   "source": [
    "t[[3, 1, 0]]  # choose specific items (can't do this with lists)"
   ]
  },
  {
   "cell_type": "code",
   "execution_count": 64,
   "id": "f0577094",
   "metadata": {
    "lines_to_next_cell": 1
   },
   "outputs": [
    {
     "data": {
      "text/plain": [
       "array([-1,  2, -1,  6, -1])"
      ]
     },
     "execution_count": 64,
     "metadata": {},
     "output_type": "execute_result"
    }
   ],
   "source": [
    "t[::2] = -1  # set every second number to -1 (can't do this with lists)\n",
    "t"
   ]
  },
  {
   "cell_type": "markdown",
   "id": "ffaa69ab",
   "metadata": {},
   "source": [
    "### Multidimensional arrays"
   ]
  },
  {
   "cell_type": "code",
   "execution_count": 65,
   "id": "a4acb02f",
   "metadata": {
    "lines_to_next_cell": 1
   },
   "outputs": [],
   "source": [
    "def f(x, y):\n",
    "    return 10 * x + y"
   ]
  },
  {
   "cell_type": "code",
   "execution_count": 66,
   "id": "a52895a6",
   "metadata": {},
   "outputs": [
    {
     "data": {
      "text/plain": [
       "array([[ 0,  1,  2,  3],\n",
       "       [10, 11, 12, 13],\n",
       "       [20, 21, 22, 23],\n",
       "       [30, 31, 32, 33],\n",
       "       [40, 41, 42, 43]])"
      ]
     },
     "execution_count": 66,
     "metadata": {},
     "output_type": "execute_result"
    }
   ],
   "source": [
    "u = np.fromfunction(f, (5, 4), dtype=int)\n",
    "u"
   ]
  },
  {
   "cell_type": "markdown",
   "id": "503f9def",
   "metadata": {},
   "source": [
    "#### Nd arrays can have 1 index per axis"
   ]
  },
  {
   "cell_type": "code",
   "execution_count": 67,
   "id": "98a0168d",
   "metadata": {},
   "outputs": [
    {
     "data": {
      "text/plain": [
       "23"
      ]
     },
     "execution_count": 67,
     "metadata": {},
     "output_type": "execute_result"
    }
   ],
   "source": [
    "u[2, 3]"
   ]
  },
  {
   "cell_type": "code",
   "execution_count": 68,
   "id": "c0b5e6ae",
   "metadata": {},
   "outputs": [
    {
     "data": {
      "text/plain": [
       "array([ 1, 11, 21, 31, 41])"
      ]
     },
     "execution_count": 68,
     "metadata": {},
     "output_type": "execute_result"
    }
   ],
   "source": [
    "u[:, 1]"
   ]
  },
  {
   "cell_type": "code",
   "execution_count": 69,
   "id": "d4dedf1b",
   "metadata": {},
   "outputs": [
    {
     "data": {
      "text/plain": [
       "array([[10, 11, 12, 13],\n",
       "       [20, 21, 22, 23]])"
      ]
     },
     "execution_count": 69,
     "metadata": {},
     "output_type": "execute_result"
    }
   ],
   "source": [
    "u[1:3, :]"
   ]
  },
  {
   "cell_type": "markdown",
   "id": "695aab41",
   "metadata": {},
   "source": [
    "If fewer axes provided, missing ones are considered complete slices `:`"
   ]
  },
  {
   "cell_type": "code",
   "execution_count": 70,
   "id": "8e01ffbc",
   "metadata": {},
   "outputs": [
    {
     "data": {
      "text/plain": [
       "array([40, 41, 42, 43])"
      ]
     },
     "execution_count": 70,
     "metadata": {},
     "output_type": "execute_result"
    }
   ],
   "source": [
    "u[-1]  # equivalent to b[-1, :]"
   ]
  },
  {
   "cell_type": "markdown",
   "id": "f50718b5",
   "metadata": {},
   "source": [
    "Can use `...` to fill in empty ones"
   ]
  },
  {
   "cell_type": "code",
   "execution_count": 71,
   "id": "17aa76a7",
   "metadata": {},
   "outputs": [
    {
     "data": {
      "text/plain": [
       "array([ 3, 13, 23, 33, 43])"
      ]
     },
     "execution_count": 71,
     "metadata": {},
     "output_type": "execute_result"
    }
   ],
   "source": [
    "u[..., -1]  # equivalent to b[:, -1]"
   ]
  },
  {
   "cell_type": "markdown",
   "id": "a2957fec",
   "metadata": {},
   "source": [
    "## Iterating\n",
    "Iterating starts at 0 axis"
   ]
  },
  {
   "cell_type": "code",
   "execution_count": 72,
   "id": "939886ee",
   "metadata": {},
   "outputs": [
    {
     "name": "stdout",
     "output_type": "stream",
     "text": [
      "[0 1 2 3]\n",
      "[10 11 12 13]\n",
      "[20 21 22 23]\n",
      "[30 31 32 33]\n",
      "[40 41 42 43]\n"
     ]
    }
   ],
   "source": [
    "for row in u:\n",
    "    print(row)"
   ]
  },
  {
   "cell_type": "markdown",
   "id": "13a239c4",
   "metadata": {},
   "source": [
    "Can nest to access higher axes"
   ]
  },
  {
   "cell_type": "code",
   "execution_count": 73,
   "id": "5bf2ca20",
   "metadata": {},
   "outputs": [
    {
     "name": "stdout",
     "output_type": "stream",
     "text": [
      "0\n",
      "1\n",
      "2\n",
      "3\n",
      "10\n",
      "11\n",
      "12\n",
      "13\n",
      "20\n",
      "21\n",
      "22\n",
      "23\n",
      "30\n",
      "31\n",
      "32\n",
      "33\n",
      "40\n",
      "41\n",
      "42\n",
      "43\n"
     ]
    }
   ],
   "source": [
    "for row in u:\n",
    "    for item in row:\n",
    "        print(item)"
   ]
  },
  {
   "cell_type": "markdown",
   "id": "8bb259c5",
   "metadata": {},
   "source": [
    "Can iterate over each element using ndarray.flat"
   ]
  },
  {
   "cell_type": "code",
   "execution_count": 74,
   "id": "a50306ee",
   "metadata": {},
   "outputs": [
    {
     "name": "stdout",
     "output_type": "stream",
     "text": [
      "0\n",
      "1\n",
      "2\n",
      "3\n",
      "10\n",
      "11\n",
      "12\n",
      "13\n",
      "20\n",
      "21\n",
      "22\n",
      "23\n",
      "30\n",
      "31\n",
      "32\n",
      "33\n",
      "40\n",
      "41\n",
      "42\n",
      "43\n"
     ]
    }
   ],
   "source": [
    "for item in u.flat:\n",
    "    print(item)"
   ]
  }
 ],
 "metadata": {
  "jupytext": {
   "cell_metadata_filter": "-all",
   "formats": "auto:light,ipynb",
   "main_language": "python",
   "notebook_metadata_filter": "-all"
  },
  "kernelspec": {
   "display_name": "Python 3 (ipykernel)",
   "language": "python",
   "name": "python3"
  },
  "language_info": {
   "codemirror_mode": {
    "name": "ipython",
    "version": 3
   },
   "file_extension": ".py",
   "mimetype": "text/x-python",
   "name": "python",
   "nbconvert_exporter": "python",
   "pygments_lexer": "ipython3",
   "version": "3.11.4"
  }
 },
 "nbformat": 4,
 "nbformat_minor": 5
}
