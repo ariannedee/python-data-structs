{
 "cells": [
  {
   "cell_type": "markdown",
   "id": "440f5c8f",
   "metadata": {},
   "source": [
    "# Set Comprehensions\n",
    "Just like `dict` comprehensions, but without a value expression (just key).\n",
    "\n",
    "Or just like `list` comprehensions, but using curly braces `{}`.\n",
    "## Basic comprehensions"
   ]
  },
  {
   "cell_type": "code",
   "execution_count": 1,
   "id": "39d3fc29",
   "metadata": {},
   "outputs": [
    {
     "data": {
      "text/plain": [
       "{1, 4, 9, 64}"
      ]
     },
     "execution_count": 1,
     "metadata": {},
     "output_type": "execute_result"
    }
   ],
   "source": [
    "num_list = [1, 2, 3, 3, 8]\n",
    "num_set = {num ** 2 for num in num_list}\n",
    "num_set"
   ]
  },
  {
   "cell_type": "markdown",
   "id": "b782a490",
   "metadata": {},
   "source": [
    "## Nested comprehensions\n",
    "### Nested set\n",
    "Sets can only contain hashable items.\n",
    "\n",
    "Since sets are mutable, if you want to nest sets, you must make any inner set an immutable `frozenset`."
   ]
  },
  {
   "cell_type": "code",
   "execution_count": 3,
   "id": "2796ea3e",
   "metadata": {},
   "outputs": [
    {
     "data": {
      "text/plain": [
       "{frozenset({'m', 'o'}), frozenset({'a', 'd'})}"
      ]
     },
     "execution_count": 3,
     "metadata": {},
     "output_type": "execute_result"
    }
   ],
   "source": [
    "words = ['mom', 'dad', 'add']\n",
    "num_set = {\n",
    "    frozenset({char for char in word})\n",
    "    for word in words\n",
    "}\n",
    "num_set"
   ]
  },
  {
   "cell_type": "markdown",
   "id": "9117d146",
   "metadata": {},
   "source": [
    "### Flattened set"
   ]
  },
  {
   "cell_type": "code",
   "execution_count": 4,
   "id": "1d6802d8",
   "metadata": {},
   "outputs": [
    {
     "data": {
      "text/plain": [
       "{'a', 'd', 'h', 'm', 'o'}"
      ]
     },
     "execution_count": 4,
     "metadata": {},
     "output_type": "execute_result"
    }
   ],
   "source": [
    "words = ['mom', 'dad', 'ham']\n",
    "chars = {char for word in words for char in word}\n",
    "chars"
   ]
  },
  {
   "cell_type": "markdown",
   "id": "0f99d278",
   "metadata": {},
   "source": [
    "### As for-loop"
   ]
  },
  {
   "cell_type": "code",
   "execution_count": 5,
   "id": "40c6d4c0",
   "metadata": {},
   "outputs": [
    {
     "data": {
      "text/plain": [
       "{'a', 'd', 'h', 'm', 'o'}"
      ]
     },
     "execution_count": 5,
     "metadata": {},
     "output_type": "execute_result"
    }
   ],
   "source": [
    "chars = set()\n",
    "for word in words:\n",
    "    for char in word:\n",
    "        chars.add(char)\n",
    "chars"
   ]
  },
  {
   "cell_type": "markdown",
   "id": "7c6c11c7",
   "metadata": {},
   "source": [
    "## Complex comprehension example"
   ]
  },
  {
   "cell_type": "code",
   "execution_count": 6,
   "id": "4fde3d46",
   "metadata": {},
   "outputs": [
    {
     "data": {
      "text/plain": [
       "{'d', 'h', 'm'}"
      ]
     },
     "execution_count": 6,
     "metadata": {},
     "output_type": "execute_result"
    }
   ],
   "source": [
    "words = ['Mom', 'Dad', 'Ham']\n",
    "consonants = {\n",
    "    char\n",
    "    for word in words\n",
    "    for char in word.lower()\n",
    "    if char not in 'aeiou'\n",
    "}\n",
    "consonants"
   ]
  },
  {
   "cell_type": "markdown",
   "id": "c2a04f7f",
   "metadata": {},
   "source": [
    "### As for-loop"
   ]
  },
  {
   "cell_type": "code",
   "execution_count": 7,
   "id": "f06725ca",
   "metadata": {},
   "outputs": [
    {
     "data": {
      "text/plain": [
       "{'d', 'h', 'm'}"
      ]
     },
     "execution_count": 7,
     "metadata": {},
     "output_type": "execute_result"
    }
   ],
   "source": [
    "consonants = set()\n",
    "for word in words:\n",
    "    for char in word.lower():\n",
    "        if char not in 'aeiou':\n",
    "            consonants.add(char)\n",
    "consonants"
   ]
  }
 ],
 "metadata": {
  "jupytext": {
   "cell_metadata_filter": "-all",
   "formats": "auto:light,ipynb",
   "main_language": "python",
   "notebook_metadata_filter": "-all"
  },
  "kernelspec": {
   "display_name": "Python 3 (ipykernel)",
   "language": "python",
   "name": "python3"
  },
  "language_info": {
   "codemirror_mode": {
    "name": "ipython",
    "version": 3
   },
   "file_extension": ".py",
   "mimetype": "text/x-python",
   "name": "python",
   "nbconvert_exporter": "python",
   "pygments_lexer": "ipython3",
   "version": "3.11.4"
  }
 },
 "nbformat": 4,
 "nbformat_minor": 5
}
