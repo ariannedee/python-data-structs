{
 "cells": [
  {
   "cell_type": "markdown",
   "id": "1a5ce425",
   "metadata": {},
   "source": [
    "# Deque\n",
    "A builtin linked list that can be used for stacks and queues."
   ]
  },
  {
   "cell_type": "code",
   "execution_count": 1,
   "id": "fffc7c41",
   "metadata": {},
   "outputs": [],
   "source": [
    "from collections import deque"
   ]
  },
  {
   "cell_type": "code",
   "execution_count": 2,
   "id": "a66b2e5e",
   "metadata": {},
   "outputs": [
    {
     "data": {
      "text/plain": [
       "deque([1, 2, 3])"
      ]
     },
     "execution_count": 2,
     "metadata": {},
     "output_type": "execute_result"
    }
   ],
   "source": [
    "a = deque([1, 2, 3])\n",
    "a"
   ]
  },
  {
   "cell_type": "markdown",
   "id": "0202b10a",
   "metadata": {},
   "source": [
    "## Stack\n",
    "Last in, first out.\n",
    "### Using the tail as the top of the stack\n",
    "Use `.append()` and `.pop()` to add/remove from the end of the `list`/`deque`."
   ]
  },
  {
   "cell_type": "code",
   "execution_count": 3,
   "id": "451e7a56",
   "metadata": {},
   "outputs": [
    {
     "data": {
      "text/plain": [
       "3"
      ]
     },
     "execution_count": 3,
     "metadata": {},
     "output_type": "execute_result"
    }
   ],
   "source": [
    "last = a.pop()\n",
    "last"
   ]
  },
  {
   "cell_type": "code",
   "execution_count": 4,
   "id": "eaf35e08",
   "metadata": {},
   "outputs": [
    {
     "data": {
      "text/plain": [
       "deque([1, 2, 4])"
      ]
     },
     "execution_count": 4,
     "metadata": {},
     "output_type": "execute_result"
    }
   ],
   "source": [
    "a.append(4)\n",
    "a"
   ]
  },
  {
   "cell_type": "code",
   "execution_count": 5,
   "id": "2efc5f23",
   "metadata": {},
   "outputs": [
    {
     "name": "stdout",
     "output_type": "stream",
     "text": [
      "4\n",
      "2\n",
      "1\n"
     ]
    }
   ],
   "source": [
    "for _ in range(len(a)):\n",
    "    print(a.pop())"
   ]
  },
  {
   "cell_type": "code",
   "execution_count": 6,
   "id": "5a79d624",
   "metadata": {},
   "outputs": [
    {
     "name": "stdout",
     "output_type": "stream",
     "text": [
      "IndexError('pop from an empty deque')\n"
     ]
    }
   ],
   "source": [
    "try:\n",
    "    a.pop()\n",
    "except Exception as e:\n",
    "    print(repr(e))"
   ]
  },
  {
   "cell_type": "markdown",
   "id": "655f5ce7",
   "metadata": {},
   "source": [
    "### Using the head as the top of the stack\n",
    "Use `.appendleft()` and `.popleft()` to add/remove from the front."
   ]
  },
  {
   "cell_type": "code",
   "execution_count": 7,
   "id": "9339e086",
   "metadata": {},
   "outputs": [
    {
     "data": {
      "text/plain": [
       "deque([1, 2, 3])"
      ]
     },
     "execution_count": 7,
     "metadata": {},
     "output_type": "execute_result"
    }
   ],
   "source": [
    "b = deque([1, 2, 3])\n",
    "b"
   ]
  },
  {
   "cell_type": "code",
   "execution_count": 8,
   "id": "cb10e674",
   "metadata": {},
   "outputs": [
    {
     "data": {
      "text/plain": [
       "1"
      ]
     },
     "execution_count": 8,
     "metadata": {},
     "output_type": "execute_result"
    }
   ],
   "source": [
    "first = b.popleft()\n",
    "first"
   ]
  },
  {
   "cell_type": "code",
   "execution_count": 9,
   "id": "d66710b3",
   "metadata": {},
   "outputs": [
    {
     "data": {
      "text/plain": [
       "deque([4, 2, 3])"
      ]
     },
     "execution_count": 9,
     "metadata": {},
     "output_type": "execute_result"
    }
   ],
   "source": [
    "b.appendleft(4)\n",
    "b"
   ]
  },
  {
   "cell_type": "code",
   "execution_count": 10,
   "id": "4e7f4e4f",
   "metadata": {},
   "outputs": [
    {
     "name": "stdout",
     "output_type": "stream",
     "text": [
      "4\n",
      "2\n",
      "3\n"
     ]
    }
   ],
   "source": [
    "for _ in range(len(b)):\n",
    "    print(b.popleft())"
   ]
  },
  {
   "cell_type": "code",
   "execution_count": 11,
   "id": "63083de5",
   "metadata": {},
   "outputs": [
    {
     "name": "stdout",
     "output_type": "stream",
     "text": [
      "IndexError('pop from an empty deque')\n"
     ]
    }
   ],
   "source": [
    "try:\n",
    "    a.popleft()\n",
    "except Exception as e:\n",
    "    print(repr(e))"
   ]
  },
  {
   "cell_type": "markdown",
   "id": "a452351d",
   "metadata": {},
   "source": [
    "## Create a custom stack or queue \n",
    "They generally use **push** and **pop** as method names.\n",
    "### Stack\n",
    "Last in, first out"
   ]
  },
  {
   "cell_type": "code",
   "execution_count": 12,
   "id": "c89e3bf6",
   "metadata": {},
   "outputs": [],
   "source": [
    "class Stack(deque):\n",
    "    def push(self, val):\n",
    "        self.appendleft(val)\n",
    "        \n",
    "    def pop(self):\n",
    "        return self.popleft()\n",
    "    \n",
    "    # If you want to remove methods, override it and use pass or raise an Exception"
   ]
  },
  {
   "cell_type": "code",
   "execution_count": 13,
   "id": "24b63572",
   "metadata": {},
   "outputs": [
    {
     "data": {
      "text/plain": [
       "Stack([])"
      ]
     },
     "execution_count": 13,
     "metadata": {},
     "output_type": "execute_result"
    }
   ],
   "source": [
    "my_stack = Stack()\n",
    "my_stack"
   ]
  },
  {
   "cell_type": "code",
   "execution_count": 14,
   "id": "e0504405",
   "metadata": {},
   "outputs": [
    {
     "data": {
      "text/plain": [
       "Stack(['d', 'c', 'b', 'a'])"
      ]
     },
     "execution_count": 14,
     "metadata": {},
     "output_type": "execute_result"
    }
   ],
   "source": [
    "for c in 'abcd':\n",
    "    my_stack.push(c)\n",
    "my_stack"
   ]
  },
  {
   "cell_type": "code",
   "execution_count": 15,
   "id": "ab138440",
   "metadata": {},
   "outputs": [
    {
     "data": {
      "text/plain": [
       "'d'"
      ]
     },
     "execution_count": 15,
     "metadata": {},
     "output_type": "execute_result"
    }
   ],
   "source": [
    "my_stack.pop()"
   ]
  },
  {
   "cell_type": "code",
   "execution_count": 16,
   "id": "6fac654a",
   "metadata": {},
   "outputs": [
    {
     "name": "stdout",
     "output_type": "stream",
     "text": [
      "c\n",
      "b\n",
      "a\n"
     ]
    }
   ],
   "source": [
    "for _ in range(len(my_stack)):\n",
    "    print(my_stack.pop())"
   ]
  },
  {
   "cell_type": "markdown",
   "id": "7ad7ef8e",
   "metadata": {},
   "source": [
    "### Custom queue\n",
    "First in, first out"
   ]
  },
  {
   "cell_type": "code",
   "execution_count": 17,
   "id": "0e432803",
   "metadata": {},
   "outputs": [],
   "source": [
    "class Queue(deque):\n",
    "    def push(self, val):\n",
    "        self.appendleft(val)\n",
    "        \n",
    "    # .pop() is already implemented\n",
    "    \n",
    "    # If you want to remove methods, override it and use pass or raise an Exception"
   ]
  },
  {
   "cell_type": "code",
   "execution_count": 18,
   "id": "1650b1b1",
   "metadata": {},
   "outputs": [
    {
     "data": {
      "text/plain": [
       "Queue([])"
      ]
     },
     "execution_count": 18,
     "metadata": {},
     "output_type": "execute_result"
    }
   ],
   "source": [
    "my_q = Queue()\n",
    "my_q"
   ]
  },
  {
   "cell_type": "code",
   "execution_count": 19,
   "id": "cb225932",
   "metadata": {},
   "outputs": [
    {
     "data": {
      "text/plain": [
       "Queue(['d', 'c', 'b', 'a'])"
      ]
     },
     "execution_count": 19,
     "metadata": {},
     "output_type": "execute_result"
    }
   ],
   "source": [
    "for c in 'abcd':\n",
    "    my_q.push(c)\n",
    "my_q"
   ]
  },
  {
   "cell_type": "code",
   "execution_count": 20,
   "id": "ce457d2c",
   "metadata": {},
   "outputs": [
    {
     "data": {
      "text/plain": [
       "'a'"
      ]
     },
     "execution_count": 20,
     "metadata": {},
     "output_type": "execute_result"
    }
   ],
   "source": [
    "my_q.pop()"
   ]
  },
  {
   "cell_type": "code",
   "execution_count": 21,
   "id": "94b23981",
   "metadata": {},
   "outputs": [
    {
     "name": "stdout",
     "output_type": "stream",
     "text": [
      "b\n",
      "c\n",
      "d\n"
     ]
    }
   ],
   "source": [
    "for _ in range(len(my_q)):\n",
    "    print(my_q.pop())"
   ]
  }
 ],
 "metadata": {
  "jupytext": {
   "cell_metadata_filter": "-all",
   "formats": "auto:light,ipynb",
   "main_language": "python",
   "notebook_metadata_filter": "-all"
  },
  "kernelspec": {
   "display_name": "Python 3 (ipykernel)",
   "language": "python",
   "name": "python3"
  },
  "language_info": {
   "codemirror_mode": {
    "name": "ipython",
    "version": 3
   },
   "file_extension": ".py",
   "mimetype": "text/x-python",
   "name": "python",
   "nbconvert_exporter": "python",
   "pygments_lexer": "ipython3",
   "version": "3.11.4"
  }
 },
 "nbformat": 4,
 "nbformat_minor": 5
}
