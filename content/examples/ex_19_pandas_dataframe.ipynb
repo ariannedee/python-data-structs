{
 "cells": [
  {
   "cell_type": "markdown",
   "id": "c97789ba",
   "metadata": {},
   "source": [
    "# Working with Pandas DataFrames"
   ]
  },
  {
   "cell_type": "code",
   "execution_count": 1,
   "id": "48cebaf8",
   "metadata": {},
   "outputs": [],
   "source": [
    "import numpy as np\n",
    "import pandas as pd"
   ]
  },
  {
   "cell_type": "markdown",
   "id": "ef8e831e",
   "metadata": {},
   "source": [
    "## Creating DataFrames\n",
    "\n",
    "Can be created from:\n",
    "- Dict of 1D ndarrays, lists, tuples, dicts, or Series\n",
    "- List of dicts\n",
    "- 2-D ndarray\n",
    "- [Structured or record](https://numpy.org/doc/stable/user/basics.rec.html) ndarray\n",
    "- A Series\n",
    "- Another DataFrame\n",
    "- CSV, Excel, SQL or JSON file\n",
    "- A list of namedtuples\n",
    "- A list of dataclasses (v1.1.0+)"
   ]
  },
  {
   "cell_type": "code",
   "execution_count": 2,
   "id": "810e6e08",
   "metadata": {},
   "outputs": [
    {
     "data": {
      "text/html": [
       "<div>\n",
       "<style scoped>\n",
       "    .dataframe tbody tr th:only-of-type {\n",
       "        vertical-align: middle;\n",
       "    }\n",
       "\n",
       "    .dataframe tbody tr th {\n",
       "        vertical-align: top;\n",
       "    }\n",
       "\n",
       "    .dataframe thead th {\n",
       "        text-align: right;\n",
       "    }\n",
       "</style>\n",
       "<table border=\"1\" class=\"dataframe\">\n",
       "  <thead>\n",
       "    <tr style=\"text-align: right;\">\n",
       "      <th></th>\n",
       "      <th>A</th>\n",
       "      <th>B</th>\n",
       "    </tr>\n",
       "  </thead>\n",
       "  <tbody>\n",
       "    <tr>\n",
       "      <th>0</th>\n",
       "      <td>1.0</td>\n",
       "      <td>4.0</td>\n",
       "    </tr>\n",
       "    <tr>\n",
       "      <th>1</th>\n",
       "      <td>2.0</td>\n",
       "      <td>3.0</td>\n",
       "    </tr>\n",
       "    <tr>\n",
       "      <th>2</th>\n",
       "      <td>3.0</td>\n",
       "      <td>2.0</td>\n",
       "    </tr>\n",
       "    <tr>\n",
       "      <th>3</th>\n",
       "      <td>4.0</td>\n",
       "      <td>1.0</td>\n",
       "    </tr>\n",
       "  </tbody>\n",
       "</table>\n",
       "</div>"
      ],
      "text/plain": [
       "     A    B\n",
       "0  1.0  4.0\n",
       "1  2.0  3.0\n",
       "2  3.0  2.0\n",
       "3  4.0  1.0"
      ]
     },
     "execution_count": 2,
     "metadata": {},
     "output_type": "execute_result"
    }
   ],
   "source": [
    "dict_of_lists = {\"A\": [1.0, 2.0, 3.0, 4.0], \"B\": [4.0, 3.0, 2.0, 1.0]}\n",
    "pd.DataFrame(dict_of_lists)"
   ]
  },
  {
   "cell_type": "code",
   "execution_count": 3,
   "id": "6479e5a2",
   "metadata": {},
   "outputs": [
    {
     "data": {
      "text/html": [
       "<div>\n",
       "<style scoped>\n",
       "    .dataframe tbody tr th:only-of-type {\n",
       "        vertical-align: middle;\n",
       "    }\n",
       "\n",
       "    .dataframe tbody tr th {\n",
       "        vertical-align: top;\n",
       "    }\n",
       "\n",
       "    .dataframe thead th {\n",
       "        text-align: right;\n",
       "    }\n",
       "</style>\n",
       "<table border=\"1\" class=\"dataframe\">\n",
       "  <thead>\n",
       "    <tr style=\"text-align: right;\">\n",
       "      <th></th>\n",
       "      <th>C</th>\n",
       "      <th>D</th>\n",
       "    </tr>\n",
       "  </thead>\n",
       "  <tbody>\n",
       "    <tr>\n",
       "      <th>100</th>\n",
       "      <td>1</td>\n",
       "      <td>abc</td>\n",
       "    </tr>\n",
       "    <tr>\n",
       "      <th>101</th>\n",
       "      <td>2</td>\n",
       "      <td>def</td>\n",
       "    </tr>\n",
       "    <tr>\n",
       "      <th>102</th>\n",
       "      <td>3</td>\n",
       "      <td>ghi</td>\n",
       "    </tr>\n",
       "  </tbody>\n",
       "</table>\n",
       "</div>"
      ],
      "text/plain": [
       "     C    D\n",
       "100  1  abc\n",
       "101  2  def\n",
       "102  3  ghi"
      ]
     },
     "execution_count": 3,
     "metadata": {},
     "output_type": "execute_result"
    }
   ],
   "source": [
    "dict_of_dicts = {\"C\": {100: 1, 101: 2, 102: 3}, \"D\": {100: 'abc', 101: 'def', 102: 'ghi'}}\n",
    "pd.DataFrame(dict_of_dicts)"
   ]
  },
  {
   "cell_type": "code",
   "execution_count": 4,
   "id": "ffa1e367",
   "metadata": {},
   "outputs": [
    {
     "data": {
      "text/html": [
       "<div>\n",
       "<style scoped>\n",
       "    .dataframe tbody tr th:only-of-type {\n",
       "        vertical-align: middle;\n",
       "    }\n",
       "\n",
       "    .dataframe tbody tr th {\n",
       "        vertical-align: top;\n",
       "    }\n",
       "\n",
       "    .dataframe thead th {\n",
       "        text-align: right;\n",
       "    }\n",
       "</style>\n",
       "<table border=\"1\" class=\"dataframe\">\n",
       "  <thead>\n",
       "    <tr style=\"text-align: right;\">\n",
       "      <th></th>\n",
       "      <th>Name</th>\n",
       "      <th>Percent used</th>\n",
       "    </tr>\n",
       "  </thead>\n",
       "  <tbody>\n",
       "    <tr>\n",
       "      <th>0</th>\n",
       "      <td>JavaScript</td>\n",
       "      <td>65.36</td>\n",
       "    </tr>\n",
       "    <tr>\n",
       "      <th>1</th>\n",
       "      <td>HTML/CSS</td>\n",
       "      <td>55.08</td>\n",
       "    </tr>\n",
       "    <tr>\n",
       "      <th>2</th>\n",
       "      <td>SQL</td>\n",
       "      <td>49.43</td>\n",
       "    </tr>\n",
       "    <tr>\n",
       "      <th>3</th>\n",
       "      <td>Python</td>\n",
       "      <td>48.07</td>\n",
       "    </tr>\n",
       "  </tbody>\n",
       "</table>\n",
       "</div>"
      ],
      "text/plain": [
       "         Name  Percent used\n",
       "0  JavaScript         65.36\n",
       "1    HTML/CSS         55.08\n",
       "2         SQL         49.43\n",
       "3      Python         48.07"
      ]
     },
     "execution_count": 4,
     "metadata": {},
     "output_type": "execute_result"
    }
   ],
   "source": [
    "df = pd.read_csv('languages.csv')  # Subset of data from the 2022 Stack Overflow Developer Survey\n",
    "df"
   ]
  },
  {
   "cell_type": "markdown",
   "id": "8d15686b",
   "metadata": {},
   "source": [
    "## Index and columns"
   ]
  },
  {
   "cell_type": "code",
   "execution_count": 5,
   "id": "66a119b2",
   "metadata": {},
   "outputs": [
    {
     "data": {
      "text/plain": [
       "RangeIndex(start=0, stop=4, step=1)"
      ]
     },
     "execution_count": 5,
     "metadata": {},
     "output_type": "execute_result"
    }
   ],
   "source": [
    "df.index"
   ]
  },
  {
   "cell_type": "code",
   "execution_count": 6,
   "id": "f8eca527",
   "metadata": {},
   "outputs": [
    {
     "data": {
      "text/plain": [
       "Index(['Name', 'Percent used'], dtype='object')"
      ]
     },
     "execution_count": 6,
     "metadata": {},
     "output_type": "execute_result"
    }
   ],
   "source": [
    "df.columns"
   ]
  },
  {
   "cell_type": "code",
   "execution_count": 7,
   "id": "4f1de8ee",
   "metadata": {},
   "outputs": [
    {
     "data": {
      "text/html": [
       "<div>\n",
       "<style scoped>\n",
       "    .dataframe tbody tr th:only-of-type {\n",
       "        vertical-align: middle;\n",
       "    }\n",
       "\n",
       "    .dataframe tbody tr th {\n",
       "        vertical-align: top;\n",
       "    }\n",
       "\n",
       "    .dataframe thead th {\n",
       "        text-align: right;\n",
       "    }\n",
       "</style>\n",
       "<table border=\"1\" class=\"dataframe\">\n",
       "  <thead>\n",
       "    <tr style=\"text-align: right;\">\n",
       "      <th></th>\n",
       "      <th>Name</th>\n",
       "      <th>Percent used</th>\n",
       "    </tr>\n",
       "  </thead>\n",
       "  <tbody>\n",
       "    <tr>\n",
       "      <th>100</th>\n",
       "      <td>JavaScript</td>\n",
       "      <td>65.36</td>\n",
       "    </tr>\n",
       "    <tr>\n",
       "      <th>101</th>\n",
       "      <td>HTML/CSS</td>\n",
       "      <td>55.08</td>\n",
       "    </tr>\n",
       "    <tr>\n",
       "      <th>102</th>\n",
       "      <td>SQL</td>\n",
       "      <td>49.43</td>\n",
       "    </tr>\n",
       "    <tr>\n",
       "      <th>103</th>\n",
       "      <td>Python</td>\n",
       "      <td>48.07</td>\n",
       "    </tr>\n",
       "  </tbody>\n",
       "</table>\n",
       "</div>"
      ],
      "text/plain": [
       "           Name  Percent used\n",
       "100  JavaScript         65.36\n",
       "101    HTML/CSS         55.08\n",
       "102         SQL         49.43\n",
       "103      Python         48.07"
      ]
     },
     "execution_count": 7,
     "metadata": {},
     "output_type": "execute_result"
    }
   ],
   "source": [
    "df.index += 100  # Update index\n",
    "df"
   ]
  },
  {
   "cell_type": "markdown",
   "id": "c2415cf9",
   "metadata": {},
   "source": [
    "## Working with columns\n",
    "\n",
    "A `DataFrame` is like a `dict` that contains `Series` objects with the same index.\n",
    "\n",
    "We can can get, set and delete columns as if they were in a `dict`."
   ]
  },
  {
   "cell_type": "code",
   "execution_count": 8,
   "id": "d1ce31bd",
   "metadata": {},
   "outputs": [
    {
     "data": {
      "text/plain": [
       "100    JavaScript\n",
       "101      HTML/CSS\n",
       "102           SQL\n",
       "103        Python\n",
       "Name: Name, dtype: object"
      ]
     },
     "execution_count": 8,
     "metadata": {},
     "output_type": "execute_result"
    }
   ],
   "source": [
    "df['Name']  # Getting a column"
   ]
  },
  {
   "cell_type": "markdown",
   "id": "1ab0badf",
   "metadata": {},
   "source": [
    "For column names that are valid Python variables names, you can access them like attributes"
   ]
  },
  {
   "cell_type": "code",
   "execution_count": 9,
   "id": "6bcdc113",
   "metadata": {},
   "outputs": [
    {
     "data": {
      "text/plain": [
       "100    JavaScript\n",
       "101      HTML/CSS\n",
       "102           SQL\n",
       "103        Python\n",
       "Name: Name, dtype: object"
      ]
     },
     "execution_count": 9,
     "metadata": {},
     "output_type": "execute_result"
    }
   ],
   "source": [
    "df.Name  # Get column as attribute"
   ]
  },
  {
   "cell_type": "code",
   "execution_count": 10,
   "id": "e9119d81",
   "metadata": {},
   "outputs": [
    {
     "data": {
      "text/html": [
       "<div>\n",
       "<style scoped>\n",
       "    .dataframe tbody tr th:only-of-type {\n",
       "        vertical-align: middle;\n",
       "    }\n",
       "\n",
       "    .dataframe tbody tr th {\n",
       "        vertical-align: top;\n",
       "    }\n",
       "\n",
       "    .dataframe thead th {\n",
       "        text-align: right;\n",
       "    }\n",
       "</style>\n",
       "<table border=\"1\" class=\"dataframe\">\n",
       "  <thead>\n",
       "    <tr style=\"text-align: right;\">\n",
       "      <th></th>\n",
       "      <th>Name</th>\n",
       "      <th>Percent used</th>\n",
       "      <th>Percent not used</th>\n",
       "    </tr>\n",
       "  </thead>\n",
       "  <tbody>\n",
       "    <tr>\n",
       "      <th>100</th>\n",
       "      <td>JavaScript</td>\n",
       "      <td>65.36</td>\n",
       "      <td>34.64</td>\n",
       "    </tr>\n",
       "    <tr>\n",
       "      <th>101</th>\n",
       "      <td>HTML/CSS</td>\n",
       "      <td>55.08</td>\n",
       "      <td>44.92</td>\n",
       "    </tr>\n",
       "    <tr>\n",
       "      <th>102</th>\n",
       "      <td>SQL</td>\n",
       "      <td>49.43</td>\n",
       "      <td>50.57</td>\n",
       "    </tr>\n",
       "    <tr>\n",
       "      <th>103</th>\n",
       "      <td>Python</td>\n",
       "      <td>48.07</td>\n",
       "      <td>51.93</td>\n",
       "    </tr>\n",
       "  </tbody>\n",
       "</table>\n",
       "</div>"
      ],
      "text/plain": [
       "           Name  Percent used  Percent not used\n",
       "100  JavaScript         65.36             34.64\n",
       "101    HTML/CSS         55.08             44.92\n",
       "102         SQL         49.43             50.57\n",
       "103      Python         48.07             51.93"
      ]
     },
     "execution_count": 10,
     "metadata": {},
     "output_type": "execute_result"
    }
   ],
   "source": [
    "df['Percent not used'] = 100 - df['Percent used']  # Add a new column\n",
    "df"
   ]
  },
  {
   "cell_type": "markdown",
   "id": "fa021a4c",
   "metadata": {},
   "source": [
    "## Getting rows\n",
    "\n",
    "Returns a `Series`"
   ]
  },
  {
   "cell_type": "code",
   "execution_count": 11,
   "id": "b5f0105d",
   "metadata": {},
   "outputs": [
    {
     "data": {
      "text/plain": [
       "Name                JavaScript\n",
       "Percent used             65.36\n",
       "Percent not used         34.64\n",
       "Name: 100, dtype: object"
      ]
     },
     "execution_count": 11,
     "metadata": {},
     "output_type": "execute_result"
    }
   ],
   "source": [
    "df.loc[100]  # By label"
   ]
  },
  {
   "cell_type": "code",
   "execution_count": 12,
   "id": "0eac0319",
   "metadata": {},
   "outputs": [
    {
     "data": {
      "text/plain": [
       "Name                  SQL\n",
       "Percent used        49.43\n",
       "Percent not used    50.57\n",
       "Name: 102, dtype: object"
      ]
     },
     "execution_count": 12,
     "metadata": {},
     "output_type": "execute_result"
    }
   ],
   "source": [
    "df.iloc[2]  # By position"
   ]
  },
  {
   "cell_type": "markdown",
   "id": "f12096eb",
   "metadata": {},
   "source": [
    "## Getting data (indexing)\n",
    "\n",
    "Returns data in a cell"
   ]
  },
  {
   "cell_type": "code",
   "execution_count": 13,
   "id": "f46bdbe1",
   "metadata": {},
   "outputs": [
    {
     "data": {
      "text/plain": [
       "'SQL'"
      ]
     },
     "execution_count": 13,
     "metadata": {},
     "output_type": "execute_result"
    }
   ],
   "source": [
    "df.loc[102, 'Name']  # By label"
   ]
  },
  {
   "cell_type": "code",
   "execution_count": 14,
   "id": "402d6f07",
   "metadata": {},
   "outputs": [
    {
     "data": {
      "text/plain": [
       "51.93"
      ]
     },
     "execution_count": 14,
     "metadata": {},
     "output_type": "execute_result"
    }
   ],
   "source": [
    "df.iloc[3, 2]  # By position"
   ]
  },
  {
   "cell_type": "markdown",
   "id": "0fbd0a82",
   "metadata": {},
   "source": [
    "## Slicing\n",
    "\n",
    "Returns a `DataFrame`"
   ]
  },
  {
   "cell_type": "code",
   "execution_count": 15,
   "id": "42897717",
   "metadata": {},
   "outputs": [
    {
     "data": {
      "text/html": [
       "<div>\n",
       "<style scoped>\n",
       "    .dataframe tbody tr th:only-of-type {\n",
       "        vertical-align: middle;\n",
       "    }\n",
       "\n",
       "    .dataframe tbody tr th {\n",
       "        vertical-align: top;\n",
       "    }\n",
       "\n",
       "    .dataframe thead th {\n",
       "        text-align: right;\n",
       "    }\n",
       "</style>\n",
       "<table border=\"1\" class=\"dataframe\">\n",
       "  <thead>\n",
       "    <tr style=\"text-align: right;\">\n",
       "      <th></th>\n",
       "      <th>Name</th>\n",
       "      <th>Percent used</th>\n",
       "    </tr>\n",
       "  </thead>\n",
       "  <tbody>\n",
       "    <tr>\n",
       "      <th>100</th>\n",
       "      <td>JavaScript</td>\n",
       "      <td>65.36</td>\n",
       "    </tr>\n",
       "    <tr>\n",
       "      <th>101</th>\n",
       "      <td>HTML/CSS</td>\n",
       "      <td>55.08</td>\n",
       "    </tr>\n",
       "    <tr>\n",
       "      <th>102</th>\n",
       "      <td>SQL</td>\n",
       "      <td>49.43</td>\n",
       "    </tr>\n",
       "  </tbody>\n",
       "</table>\n",
       "</div>"
      ],
      "text/plain": [
       "           Name  Percent used\n",
       "100  JavaScript         65.36\n",
       "101    HTML/CSS         55.08\n",
       "102         SQL         49.43"
      ]
     },
     "execution_count": 15,
     "metadata": {},
     "output_type": "execute_result"
    }
   ],
   "source": [
    "df.iloc[:3, :2]"
   ]
  },
  {
   "cell_type": "code",
   "execution_count": 16,
   "id": "2f20d917",
   "metadata": {},
   "outputs": [
    {
     "data": {
      "text/html": [
       "<div>\n",
       "<style scoped>\n",
       "    .dataframe tbody tr th:only-of-type {\n",
       "        vertical-align: middle;\n",
       "    }\n",
       "\n",
       "    .dataframe tbody tr th {\n",
       "        vertical-align: top;\n",
       "    }\n",
       "\n",
       "    .dataframe thead th {\n",
       "        text-align: right;\n",
       "    }\n",
       "</style>\n",
       "<table border=\"1\" class=\"dataframe\">\n",
       "  <thead>\n",
       "    <tr style=\"text-align: right;\">\n",
       "      <th></th>\n",
       "      <th>Name</th>\n",
       "    </tr>\n",
       "  </thead>\n",
       "  <tbody>\n",
       "    <tr>\n",
       "      <th>100</th>\n",
       "      <td>JavaScript</td>\n",
       "    </tr>\n",
       "    <tr>\n",
       "      <th>101</th>\n",
       "      <td>HTML/CSS</td>\n",
       "    </tr>\n",
       "    <tr>\n",
       "      <th>102</th>\n",
       "      <td>SQL</td>\n",
       "    </tr>\n",
       "    <tr>\n",
       "      <th>103</th>\n",
       "      <td>Python</td>\n",
       "    </tr>\n",
       "  </tbody>\n",
       "</table>\n",
       "</div>"
      ],
      "text/plain": [
       "           Name\n",
       "100  JavaScript\n",
       "101    HTML/CSS\n",
       "102         SQL\n",
       "103      Python"
      ]
     },
     "execution_count": 16,
     "metadata": {},
     "output_type": "execute_result"
    }
   ],
   "source": [
    "df.iloc[:, [0]]  # Note: without [0] in brackets, it would return a Series"
   ]
  },
  {
   "cell_type": "code",
   "execution_count": 17,
   "id": "aee81743",
   "metadata": {},
   "outputs": [
    {
     "data": {
      "text/html": [
       "<div>\n",
       "<style scoped>\n",
       "    .dataframe tbody tr th:only-of-type {\n",
       "        vertical-align: middle;\n",
       "    }\n",
       "\n",
       "    .dataframe tbody tr th {\n",
       "        vertical-align: top;\n",
       "    }\n",
       "\n",
       "    .dataframe thead th {\n",
       "        text-align: right;\n",
       "    }\n",
       "</style>\n",
       "<table border=\"1\" class=\"dataframe\">\n",
       "  <thead>\n",
       "    <tr style=\"text-align: right;\">\n",
       "      <th></th>\n",
       "      <th>Name</th>\n",
       "      <th>Percent used</th>\n",
       "      <th>Percent not used</th>\n",
       "    </tr>\n",
       "  </thead>\n",
       "  <tbody>\n",
       "    <tr>\n",
       "      <th>101</th>\n",
       "      <td>HTML/CSS</td>\n",
       "      <td>55.08</td>\n",
       "      <td>44.92</td>\n",
       "    </tr>\n",
       "    <tr>\n",
       "      <th>102</th>\n",
       "      <td>SQL</td>\n",
       "      <td>49.43</td>\n",
       "      <td>50.57</td>\n",
       "    </tr>\n",
       "  </tbody>\n",
       "</table>\n",
       "</div>"
      ],
      "text/plain": [
       "         Name  Percent used  Percent not used\n",
       "101  HTML/CSS         55.08             44.92\n",
       "102       SQL         49.43             50.57"
      ]
     },
     "execution_count": 17,
     "metadata": {},
     "output_type": "execute_result"
    }
   ],
   "source": [
    "df.loc[101:102]  # Note: with loc, end is inclusive"
   ]
  },
  {
   "cell_type": "code",
   "execution_count": 18,
   "id": "96d79657",
   "metadata": {},
   "outputs": [
    {
     "data": {
      "text/html": [
       "<div>\n",
       "<style scoped>\n",
       "    .dataframe tbody tr th:only-of-type {\n",
       "        vertical-align: middle;\n",
       "    }\n",
       "\n",
       "    .dataframe tbody tr th {\n",
       "        vertical-align: top;\n",
       "    }\n",
       "\n",
       "    .dataframe thead th {\n",
       "        text-align: right;\n",
       "    }\n",
       "</style>\n",
       "<table border=\"1\" class=\"dataframe\">\n",
       "  <thead>\n",
       "    <tr style=\"text-align: right;\">\n",
       "      <th></th>\n",
       "      <th>Name</th>\n",
       "      <th>Percent used</th>\n",
       "      <th>Percent not used</th>\n",
       "    </tr>\n",
       "  </thead>\n",
       "  <tbody>\n",
       "    <tr>\n",
       "      <th>101</th>\n",
       "      <td>HTML/CSS</td>\n",
       "      <td>55.08</td>\n",
       "      <td>44.92</td>\n",
       "    </tr>\n",
       "    <tr>\n",
       "      <th>103</th>\n",
       "      <td>Python</td>\n",
       "      <td>48.07</td>\n",
       "      <td>51.93</td>\n",
       "    </tr>\n",
       "  </tbody>\n",
       "</table>\n",
       "</div>"
      ],
      "text/plain": [
       "         Name  Percent used  Percent not used\n",
       "101  HTML/CSS         55.08             44.92\n",
       "103    Python         48.07             51.93"
      ]
     },
     "execution_count": 18,
     "metadata": {},
     "output_type": "execute_result"
    }
   ],
   "source": [
    "df.loc[[101, 103]]"
   ]
  },
  {
   "cell_type": "code",
   "execution_count": 19,
   "id": "e6a2dce4",
   "metadata": {},
   "outputs": [
    {
     "data": {
      "text/html": [
       "<div>\n",
       "<style scoped>\n",
       "    .dataframe tbody tr th:only-of-type {\n",
       "        vertical-align: middle;\n",
       "    }\n",
       "\n",
       "    .dataframe tbody tr th {\n",
       "        vertical-align: top;\n",
       "    }\n",
       "\n",
       "    .dataframe thead th {\n",
       "        text-align: right;\n",
       "    }\n",
       "</style>\n",
       "<table border=\"1\" class=\"dataframe\">\n",
       "  <thead>\n",
       "    <tr style=\"text-align: right;\">\n",
       "      <th></th>\n",
       "      <th>Name</th>\n",
       "      <th>Percent not used</th>\n",
       "    </tr>\n",
       "  </thead>\n",
       "  <tbody>\n",
       "    <tr>\n",
       "      <th>100</th>\n",
       "      <td>JavaScript</td>\n",
       "      <td>34.64</td>\n",
       "    </tr>\n",
       "    <tr>\n",
       "      <th>101</th>\n",
       "      <td>HTML/CSS</td>\n",
       "      <td>44.92</td>\n",
       "    </tr>\n",
       "    <tr>\n",
       "      <th>102</th>\n",
       "      <td>SQL</td>\n",
       "      <td>50.57</td>\n",
       "    </tr>\n",
       "    <tr>\n",
       "      <th>103</th>\n",
       "      <td>Python</td>\n",
       "      <td>51.93</td>\n",
       "    </tr>\n",
       "  </tbody>\n",
       "</table>\n",
       "</div>"
      ],
      "text/plain": [
       "           Name  Percent not used\n",
       "100  JavaScript             34.64\n",
       "101    HTML/CSS             44.92\n",
       "102         SQL             50.57\n",
       "103      Python             51.93"
      ]
     },
     "execution_count": 19,
     "metadata": {},
     "output_type": "execute_result"
    }
   ],
   "source": [
    "df.loc[:, ['Name', 'Percent not used']]"
   ]
  },
  {
   "cell_type": "markdown",
   "id": "c67ce807",
   "metadata": {},
   "source": [
    "### Boolean indexing"
   ]
  },
  {
   "cell_type": "code",
   "execution_count": 20,
   "id": "959a1c3b",
   "metadata": {},
   "outputs": [
    {
     "data": {
      "text/plain": [
       "100     True\n",
       "101     True\n",
       "102    False\n",
       "103    False\n",
       "Name: Percent used, dtype: bool"
      ]
     },
     "execution_count": 20,
     "metadata": {},
     "output_type": "execute_result"
    }
   ],
   "source": [
    "df['Percent used'] > 50"
   ]
  },
  {
   "cell_type": "code",
   "execution_count": 21,
   "id": "928f91bb",
   "metadata": {},
   "outputs": [
    {
     "data": {
      "text/html": [
       "<div>\n",
       "<style scoped>\n",
       "    .dataframe tbody tr th:only-of-type {\n",
       "        vertical-align: middle;\n",
       "    }\n",
       "\n",
       "    .dataframe tbody tr th {\n",
       "        vertical-align: top;\n",
       "    }\n",
       "\n",
       "    .dataframe thead th {\n",
       "        text-align: right;\n",
       "    }\n",
       "</style>\n",
       "<table border=\"1\" class=\"dataframe\">\n",
       "  <thead>\n",
       "    <tr style=\"text-align: right;\">\n",
       "      <th></th>\n",
       "      <th>Name</th>\n",
       "      <th>Percent used</th>\n",
       "      <th>Percent not used</th>\n",
       "    </tr>\n",
       "  </thead>\n",
       "  <tbody>\n",
       "    <tr>\n",
       "      <th>100</th>\n",
       "      <td>JavaScript</td>\n",
       "      <td>65.36</td>\n",
       "      <td>34.64</td>\n",
       "    </tr>\n",
       "    <tr>\n",
       "      <th>101</th>\n",
       "      <td>HTML/CSS</td>\n",
       "      <td>55.08</td>\n",
       "      <td>44.92</td>\n",
       "    </tr>\n",
       "  </tbody>\n",
       "</table>\n",
       "</div>"
      ],
      "text/plain": [
       "           Name  Percent used  Percent not used\n",
       "100  JavaScript         65.36             34.64\n",
       "101    HTML/CSS         55.08             44.92"
      ]
     },
     "execution_count": 21,
     "metadata": {},
     "output_type": "execute_result"
    }
   ],
   "source": [
    "df[df['Percent used'] > 50]"
   ]
  },
  {
   "cell_type": "markdown",
   "id": "657bab11",
   "metadata": {},
   "source": [
    "## Plotting\n",
    "\n",
    "### Example 1 - simple bar chart\n",
    "\n",
    "Let's create a bar chart mapping Percent used (y) to Name (x)\n",
    "\n",
    "#### Create a custom view of the data\n",
    "\n",
    "Index is x-axis and column is y-axis."
   ]
  },
  {
   "cell_type": "code",
   "execution_count": 22,
   "id": "1a50e758",
   "metadata": {},
   "outputs": [
    {
     "data": {
      "text/html": [
       "<div>\n",
       "<style scoped>\n",
       "    .dataframe tbody tr th:only-of-type {\n",
       "        vertical-align: middle;\n",
       "    }\n",
       "\n",
       "    .dataframe tbody tr th {\n",
       "        vertical-align: top;\n",
       "    }\n",
       "\n",
       "    .dataframe thead th {\n",
       "        text-align: right;\n",
       "    }\n",
       "</style>\n",
       "<table border=\"1\" class=\"dataframe\">\n",
       "  <thead>\n",
       "    <tr style=\"text-align: right;\">\n",
       "      <th></th>\n",
       "      <th>Name</th>\n",
       "      <th>Percent used</th>\n",
       "    </tr>\n",
       "  </thead>\n",
       "  <tbody>\n",
       "    <tr>\n",
       "      <th>100</th>\n",
       "      <td>JavaScript</td>\n",
       "      <td>65.36</td>\n",
       "    </tr>\n",
       "    <tr>\n",
       "      <th>101</th>\n",
       "      <td>HTML/CSS</td>\n",
       "      <td>55.08</td>\n",
       "    </tr>\n",
       "    <tr>\n",
       "      <th>102</th>\n",
       "      <td>SQL</td>\n",
       "      <td>49.43</td>\n",
       "    </tr>\n",
       "    <tr>\n",
       "      <th>103</th>\n",
       "      <td>Python</td>\n",
       "      <td>48.07</td>\n",
       "    </tr>\n",
       "  </tbody>\n",
       "</table>\n",
       "</div>"
      ],
      "text/plain": [
       "           Name  Percent used\n",
       "100  JavaScript         65.36\n",
       "101    HTML/CSS         55.08\n",
       "102         SQL         49.43\n",
       "103      Python         48.07"
      ]
     },
     "execution_count": 22,
     "metadata": {},
     "output_type": "execute_result"
    }
   ],
   "source": [
    "df2 = df.iloc[:, :2]\n",
    "df2"
   ]
  },
  {
   "cell_type": "code",
   "execution_count": 23,
   "id": "a7bf71b9",
   "metadata": {},
   "outputs": [
    {
     "data": {
      "text/html": [
       "<div>\n",
       "<style scoped>\n",
       "    .dataframe tbody tr th:only-of-type {\n",
       "        vertical-align: middle;\n",
       "    }\n",
       "\n",
       "    .dataframe tbody tr th {\n",
       "        vertical-align: top;\n",
       "    }\n",
       "\n",
       "    .dataframe thead th {\n",
       "        text-align: right;\n",
       "    }\n",
       "</style>\n",
       "<table border=\"1\" class=\"dataframe\">\n",
       "  <thead>\n",
       "    <tr style=\"text-align: right;\">\n",
       "      <th></th>\n",
       "      <th>Percent used</th>\n",
       "    </tr>\n",
       "    <tr>\n",
       "      <th>Name</th>\n",
       "      <th></th>\n",
       "    </tr>\n",
       "  </thead>\n",
       "  <tbody>\n",
       "    <tr>\n",
       "      <th>JavaScript</th>\n",
       "      <td>65.36</td>\n",
       "    </tr>\n",
       "    <tr>\n",
       "      <th>HTML/CSS</th>\n",
       "      <td>55.08</td>\n",
       "    </tr>\n",
       "    <tr>\n",
       "      <th>SQL</th>\n",
       "      <td>49.43</td>\n",
       "    </tr>\n",
       "    <tr>\n",
       "      <th>Python</th>\n",
       "      <td>48.07</td>\n",
       "    </tr>\n",
       "  </tbody>\n",
       "</table>\n",
       "</div>"
      ],
      "text/plain": [
       "            Percent used\n",
       "Name                    \n",
       "JavaScript         65.36\n",
       "HTML/CSS           55.08\n",
       "SQL                49.43\n",
       "Python             48.07"
      ]
     },
     "execution_count": 23,
     "metadata": {},
     "output_type": "execute_result"
    }
   ],
   "source": [
    "df2.index = df2.pop('Name')\n",
    "df2"
   ]
  },
  {
   "cell_type": "markdown",
   "id": "4375ad62",
   "metadata": {},
   "source": [
    "#### Specify the kind of plot (bar) and customize the x and y axis if necessary"
   ]
  },
  {
   "cell_type": "code",
   "execution_count": 24,
   "id": "bee94050",
   "metadata": {},
   "outputs": [
    {
     "data": {
      "text/plain": [
       "<AxesSubplot:xlabel='Name'>"
      ]
     },
     "execution_count": 24,
     "metadata": {},
     "output_type": "execute_result"
    },
    {
     "data": {
      "image/png": "[encoded data removed]",
      "text/plain": [
       "<Figure size 640x480 with 1 Axes>"
      ]
     },
     "metadata": {},
     "output_type": "display_data"
    }
   ],
   "source": [
    "df2.plot.bar()"
   ]
  },
  {
   "cell_type": "markdown",
   "id": "0a42ee7f",
   "metadata": {},
   "source": [
    "### Example 2: Plotting over years\n",
    "\n",
    "#### Update the dataframe to track percent used over multiple years"
   ]
  },
  {
   "cell_type": "code",
   "execution_count": 25,
   "id": "1aa0b02f",
   "metadata": {},
   "outputs": [
    {
     "data": {
      "text/html": [
       "<div>\n",
       "<style scoped>\n",
       "    .dataframe tbody tr th:only-of-type {\n",
       "        vertical-align: middle;\n",
       "    }\n",
       "\n",
       "    .dataframe tbody tr th {\n",
       "        vertical-align: top;\n",
       "    }\n",
       "\n",
       "    .dataframe thead th {\n",
       "        text-align: right;\n",
       "    }\n",
       "</style>\n",
       "<table border=\"1\" class=\"dataframe\">\n",
       "  <thead>\n",
       "    <tr style=\"text-align: right;\">\n",
       "      <th></th>\n",
       "      <th>2022</th>\n",
       "    </tr>\n",
       "    <tr>\n",
       "      <th>Name</th>\n",
       "      <th></th>\n",
       "    </tr>\n",
       "  </thead>\n",
       "  <tbody>\n",
       "    <tr>\n",
       "      <th>JavaScript</th>\n",
       "      <td>65.36</td>\n",
       "    </tr>\n",
       "    <tr>\n",
       "      <th>HTML/CSS</th>\n",
       "      <td>55.08</td>\n",
       "    </tr>\n",
       "    <tr>\n",
       "      <th>SQL</th>\n",
       "      <td>49.43</td>\n",
       "    </tr>\n",
       "    <tr>\n",
       "      <th>Python</th>\n",
       "      <td>48.07</td>\n",
       "    </tr>\n",
       "  </tbody>\n",
       "</table>\n",
       "</div>"
      ],
      "text/plain": [
       "             2022\n",
       "Name             \n",
       "JavaScript  65.36\n",
       "HTML/CSS    55.08\n",
       "SQL         49.43\n",
       "Python      48.07"
      ]
     },
     "execution_count": 25,
     "metadata": {},
     "output_type": "execute_result"
    }
   ],
   "source": [
    "df3 = df2.rename(columns={'Percent used': '2022'})\n",
    "df3"
   ]
  },
  {
   "cell_type": "markdown",
   "id": "b52d613d",
   "metadata": {},
   "source": [
    "#### Add more years of data\n",
    "\n",
    "Randomly update the percent used from the previous year by +-5"
   ]
  },
  {
   "cell_type": "code",
   "execution_count": 26,
   "id": "be0e14a2",
   "metadata": {},
   "outputs": [
    {
     "data": {
      "text/html": [
       "<div>\n",
       "<style scoped>\n",
       "    .dataframe tbody tr th:only-of-type {\n",
       "        vertical-align: middle;\n",
       "    }\n",
       "\n",
       "    .dataframe tbody tr th {\n",
       "        vertical-align: top;\n",
       "    }\n",
       "\n",
       "    .dataframe thead th {\n",
       "        text-align: right;\n",
       "    }\n",
       "</style>\n",
       "<table border=\"1\" class=\"dataframe\">\n",
       "  <thead>\n",
       "    <tr style=\"text-align: right;\">\n",
       "      <th></th>\n",
       "      <th>2022</th>\n",
       "      <th>2021</th>\n",
       "      <th>2020</th>\n",
       "      <th>2019</th>\n",
       "      <th>2018</th>\n",
       "    </tr>\n",
       "    <tr>\n",
       "      <th>Name</th>\n",
       "      <th></th>\n",
       "      <th></th>\n",
       "      <th></th>\n",
       "      <th></th>\n",
       "      <th></th>\n",
       "    </tr>\n",
       "  </thead>\n",
       "  <tbody>\n",
       "    <tr>\n",
       "      <th>JavaScript</th>\n",
       "      <td>65.36</td>\n",
       "      <td>62.05</td>\n",
       "      <td>58.26</td>\n",
       "      <td>62.70</td>\n",
       "      <td>66.06</td>\n",
       "    </tr>\n",
       "    <tr>\n",
       "      <th>HTML/CSS</th>\n",
       "      <td>55.08</td>\n",
       "      <td>51.40</td>\n",
       "      <td>50.38</td>\n",
       "      <td>52.45</td>\n",
       "      <td>49.05</td>\n",
       "    </tr>\n",
       "    <tr>\n",
       "      <th>SQL</th>\n",
       "      <td>49.43</td>\n",
       "      <td>44.44</td>\n",
       "      <td>46.69</td>\n",
       "      <td>47.12</td>\n",
       "      <td>46.23</td>\n",
       "    </tr>\n",
       "    <tr>\n",
       "      <th>Python</th>\n",
       "      <td>48.07</td>\n",
       "      <td>43.99</td>\n",
       "      <td>44.64</td>\n",
       "      <td>41.47</td>\n",
       "      <td>43.32</td>\n",
       "    </tr>\n",
       "  </tbody>\n",
       "</table>\n",
       "</div>"
      ],
      "text/plain": [
       "             2022   2021   2020   2019   2018\n",
       "Name                                         \n",
       "JavaScript  65.36  62.05  58.26  62.70  66.06\n",
       "HTML/CSS    55.08  51.40  50.38  52.45  49.05\n",
       "SQL         49.43  44.44  46.69  47.12  46.23\n",
       "Python      48.07  43.99  44.64  41.47  43.32"
      ]
     },
     "execution_count": 26,
     "metadata": {},
     "output_type": "execute_result"
    }
   ],
   "source": [
    "from random import uniform\n",
    "\n",
    "for year in range(2021, 2017,  -1):\n",
    "    df3[str(year)] = df3[str(year+1)] + [round(uniform(-5, 5), 2) for i in range(4)]\n",
    "df3"
   ]
  },
  {
   "cell_type": "code",
   "execution_count": 27,
   "id": "475da370",
   "metadata": {},
   "outputs": [
    {
     "data": {
      "text/html": [
       "<div>\n",
       "<style scoped>\n",
       "    .dataframe tbody tr th:only-of-type {\n",
       "        vertical-align: middle;\n",
       "    }\n",
       "\n",
       "    .dataframe tbody tr th {\n",
       "        vertical-align: top;\n",
       "    }\n",
       "\n",
       "    .dataframe thead th {\n",
       "        text-align: right;\n",
       "    }\n",
       "</style>\n",
       "<table border=\"1\" class=\"dataframe\">\n",
       "  <thead>\n",
       "    <tr style=\"text-align: right;\">\n",
       "      <th></th>\n",
       "      <th>2018</th>\n",
       "      <th>2019</th>\n",
       "      <th>2020</th>\n",
       "      <th>2021</th>\n",
       "      <th>2022</th>\n",
       "    </tr>\n",
       "    <tr>\n",
       "      <th>Name</th>\n",
       "      <th></th>\n",
       "      <th></th>\n",
       "      <th></th>\n",
       "      <th></th>\n",
       "      <th></th>\n",
       "    </tr>\n",
       "  </thead>\n",
       "  <tbody>\n",
       "    <tr>\n",
       "      <th>JavaScript</th>\n",
       "      <td>66.06</td>\n",
       "      <td>62.70</td>\n",
       "      <td>58.26</td>\n",
       "      <td>62.05</td>\n",
       "      <td>65.36</td>\n",
       "    </tr>\n",
       "    <tr>\n",
       "      <th>HTML/CSS</th>\n",
       "      <td>49.05</td>\n",
       "      <td>52.45</td>\n",
       "      <td>50.38</td>\n",
       "      <td>51.40</td>\n",
       "      <td>55.08</td>\n",
       "    </tr>\n",
       "    <tr>\n",
       "      <th>SQL</th>\n",
       "      <td>46.23</td>\n",
       "      <td>47.12</td>\n",
       "      <td>46.69</td>\n",
       "      <td>44.44</td>\n",
       "      <td>49.43</td>\n",
       "    </tr>\n",
       "    <tr>\n",
       "      <th>Python</th>\n",
       "      <td>43.32</td>\n",
       "      <td>41.47</td>\n",
       "      <td>44.64</td>\n",
       "      <td>43.99</td>\n",
       "      <td>48.07</td>\n",
       "    </tr>\n",
       "  </tbody>\n",
       "</table>\n",
       "</div>"
      ],
      "text/plain": [
       "             2018   2019   2020   2021   2022\n",
       "Name                                         \n",
       "JavaScript  66.06  62.70  58.26  62.05  65.36\n",
       "HTML/CSS    49.05  52.45  50.38  51.40  55.08\n",
       "SQL         46.23  47.12  46.69  44.44  49.43\n",
       "Python      43.32  41.47  44.64  43.99  48.07"
      ]
     },
     "execution_count": 27,
     "metadata": {},
     "output_type": "execute_result"
    }
   ],
   "source": [
    "df3 = df3.sort_index(axis='columns')\n",
    "df3"
   ]
  },
  {
   "cell_type": "code",
   "execution_count": 28,
   "id": "bbac5dfc",
   "metadata": {},
   "outputs": [
    {
     "data": {
      "text/plain": [
       "<AxesSubplot:xlabel='Name'>"
      ]
     },
     "execution_count": 28,
     "metadata": {},
     "output_type": "execute_result"
    },
    {
     "data": {
      "image/png": "[encoded data removed]",
      "text/plain": [
       "<Figure size 640x480 with 1 Axes>"
      ]
     },
     "metadata": {},
     "output_type": "display_data"
    }
   ],
   "source": [
    "df3.plot.bar()"
   ]
  },
  {
   "cell_type": "code",
   "execution_count": 29,
   "id": "9abb8854",
   "metadata": {},
   "outputs": [
    {
     "data": {
      "text/html": [
       "<div>\n",
       "<style scoped>\n",
       "    .dataframe tbody tr th:only-of-type {\n",
       "        vertical-align: middle;\n",
       "    }\n",
       "\n",
       "    .dataframe tbody tr th {\n",
       "        vertical-align: top;\n",
       "    }\n",
       "\n",
       "    .dataframe thead th {\n",
       "        text-align: right;\n",
       "    }\n",
       "</style>\n",
       "<table border=\"1\" class=\"dataframe\">\n",
       "  <thead>\n",
       "    <tr style=\"text-align: right;\">\n",
       "      <th>Name</th>\n",
       "      <th>JavaScript</th>\n",
       "      <th>HTML/CSS</th>\n",
       "      <th>SQL</th>\n",
       "      <th>Python</th>\n",
       "    </tr>\n",
       "  </thead>\n",
       "  <tbody>\n",
       "    <tr>\n",
       "      <th>2018</th>\n",
       "      <td>66.06</td>\n",
       "      <td>49.05</td>\n",
       "      <td>46.23</td>\n",
       "      <td>43.32</td>\n",
       "    </tr>\n",
       "    <tr>\n",
       "      <th>2019</th>\n",
       "      <td>62.70</td>\n",
       "      <td>52.45</td>\n",
       "      <td>47.12</td>\n",
       "      <td>41.47</td>\n",
       "    </tr>\n",
       "    <tr>\n",
       "      <th>2020</th>\n",
       "      <td>58.26</td>\n",
       "      <td>50.38</td>\n",
       "      <td>46.69</td>\n",
       "      <td>44.64</td>\n",
       "    </tr>\n",
       "    <tr>\n",
       "      <th>2021</th>\n",
       "      <td>62.05</td>\n",
       "      <td>51.40</td>\n",
       "      <td>44.44</td>\n",
       "      <td>43.99</td>\n",
       "    </tr>\n",
       "    <tr>\n",
       "      <th>2022</th>\n",
       "      <td>65.36</td>\n",
       "      <td>55.08</td>\n",
       "      <td>49.43</td>\n",
       "      <td>48.07</td>\n",
       "    </tr>\n",
       "  </tbody>\n",
       "</table>\n",
       "</div>"
      ],
      "text/plain": [
       "Name  JavaScript  HTML/CSS    SQL  Python\n",
       "2018       66.06     49.05  46.23   43.32\n",
       "2019       62.70     52.45  47.12   41.47\n",
       "2020       58.26     50.38  46.69   44.64\n",
       "2021       62.05     51.40  44.44   43.99\n",
       "2022       65.36     55.08  49.43   48.07"
      ]
     },
     "execution_count": 29,
     "metadata": {},
     "output_type": "execute_result"
    }
   ],
   "source": [
    "df4 = df3.T\n",
    "df4"
   ]
  },
  {
   "cell_type": "code",
   "execution_count": 30,
   "id": "ba26b47b",
   "metadata": {},
   "outputs": [
    {
     "data": {
      "text/plain": [
       "<AxesSubplot:>"
      ]
     },
     "execution_count": 30,
     "metadata": {},
     "output_type": "execute_result"
    },
    {
     "data": {
      "image/png": "[encoded data removed]",
      "text/plain": [
       "<Figure size 640x480 with 1 Axes>"
      ]
     },
     "metadata": {},
     "output_type": "display_data"
    }
   ],
   "source": [
    "df4.plot()"
   ]
  }
 ],
 "metadata": {
  "jupytext": {
   "cell_metadata_filter": "-all",
   "formats": "auto:light,ipynb",
   "main_language": "python",
   "notebook_metadata_filter": "-all"
  },
  "kernelspec": {
   "display_name": "Python 3 (ipykernel)",
   "language": "python",
   "name": "python3"
  },
  "language_info": {
   "codemirror_mode": {
    "name": "ipython",
    "version": 3
   },
   "file_extension": ".py",
   "mimetype": "text/x-python",
   "name": "python",
   "nbconvert_exporter": "python",
   "pygments_lexer": "ipython3",
   "version": "3.11.4"
  }
 },
 "nbformat": 4,
 "nbformat_minor": 5
}
