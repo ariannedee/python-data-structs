{
 "cells": [
  {
   "cell_type": "markdown",
   "id": "a77076cc",
   "metadata": {},
   "source": [
    "# Working with Pandas Series\n",
    "\n",
    "## Creating Series"
   ]
  },
  {
   "cell_type": "code",
   "execution_count": 1,
   "id": "f86a1d93",
   "metadata": {},
   "outputs": [],
   "source": [
    "import numpy as np\n",
    "import pandas as pd"
   ]
  },
  {
   "cell_type": "markdown",
   "id": "d41614ab",
   "metadata": {},
   "source": [
    "### From array\n",
    "\n",
    "#### `index`: must be same size as `ndarray`/`list`"
   ]
  },
  {
   "cell_type": "code",
   "execution_count": 2,
   "id": "f95242f7",
   "metadata": {},
   "outputs": [
    {
     "data": {
      "text/plain": [
       "a    1\n",
       "c    3\n",
       "d    5\n",
       "b    7\n",
       "dtype: int64"
      ]
     },
     "execution_count": 2,
     "metadata": {},
     "output_type": "execute_result"
    }
   ],
   "source": [
    "a = pd.Series([1, 3, 5, 7], index=['a', 'c', 'd', 'b'])\n",
    "a"
   ]
  },
  {
   "cell_type": "markdown",
   "id": "052290bc",
   "metadata": {},
   "source": [
    "#### No `index`: default integer index starting at 0"
   ]
  },
  {
   "cell_type": "code",
   "execution_count": 3,
   "id": "aa350b68",
   "metadata": {},
   "outputs": [
    {
     "data": {
      "text/plain": [
       "0    1.0\n",
       "1    3.0\n",
       "2    5.0\n",
       "3    NaN\n",
       "4    6.0\n",
       "5    8.0\n",
       "dtype: float64"
      ]
     },
     "execution_count": 3,
     "metadata": {},
     "output_type": "execute_result"
    }
   ],
   "source": [
    "b = pd.Series([1, 3, 5, np.nan, 6, 8])\n",
    "b"
   ]
  },
  {
   "cell_type": "markdown",
   "id": "c7583b4e",
   "metadata": {},
   "source": [
    "### From dict\n",
    "\n",
    "#### No `index`: use keys"
   ]
  },
  {
   "cell_type": "code",
   "execution_count": 4,
   "id": "3d237cdc",
   "metadata": {},
   "outputs": [
    {
     "data": {
      "text/plain": [
       "b    1\n",
       "a    0\n",
       "c    2\n",
       "dtype: int64"
      ]
     },
     "execution_count": 4,
     "metadata": {},
     "output_type": "execute_result"
    }
   ],
   "source": [
    "c = pd.Series({\"b\": 1, \"a\": 0, \"c\": 2})\n",
    "c"
   ]
  },
  {
   "cell_type": "markdown",
   "id": "4ca5b870",
   "metadata": {},
   "source": [
    "#### `index`: pull corresponding values from data"
   ]
  },
  {
   "cell_type": "code",
   "execution_count": 5,
   "id": "ecba62bb",
   "metadata": {},
   "outputs": [
    {
     "data": {
      "text/plain": [
       "b    1.0\n",
       "d    NaN\n",
       "c    2.0\n",
       "dtype: float64"
      ]
     },
     "execution_count": 5,
     "metadata": {},
     "output_type": "execute_result"
    }
   ],
   "source": [
    "d = pd.Series({\"b\": 1, \"a\": 0, \"c\": 2}, index=[\"b\", \"d\", \"c\"])\n",
    "d"
   ]
  },
  {
   "cell_type": "markdown",
   "id": "bf992bf4",
   "metadata": {},
   "source": [
    "### From scalar\n",
    "\n",
    "#### `index` (required): set every value to data value"
   ]
  },
  {
   "cell_type": "code",
   "execution_count": 6,
   "id": "3ba93d28",
   "metadata": {},
   "outputs": [
    {
     "data": {
      "text/plain": [
       "a    2\n",
       "b    2\n",
       "c    2\n",
       "dtype: int64"
      ]
     },
     "execution_count": 6,
     "metadata": {},
     "output_type": "execute_result"
    }
   ],
   "source": [
    "e = pd.Series(2, index=[\"a\", \"b\", \"c\"])\n",
    "e"
   ]
  },
  {
   "cell_type": "markdown",
   "id": "619dd52f",
   "metadata": {},
   "source": [
    "## Working with Series\n",
    "\n",
    "### Series is ndarray-like\n",
    "\n",
    "`Series` acts similarly to a `ndarray` and is a valid argument to most NumPy functions.\n",
    "Operations such as slicing will also slice the index."
   ]
  },
  {
   "cell_type": "code",
   "execution_count": 7,
   "id": "4da8bc6f",
   "metadata": {},
   "outputs": [
    {
     "data": {
      "text/plain": [
       "a    0\n",
       "b    1\n",
       "c    2\n",
       "d    3\n",
       "e    4\n",
       "dtype: int64"
      ]
     },
     "execution_count": 7,
     "metadata": {},
     "output_type": "execute_result"
    }
   ],
   "source": [
    "f = pd.Series(range(5), index=['a', 'b', 'c', 'd', 'e'])\n",
    "f"
   ]
  },
  {
   "cell_type": "code",
   "execution_count": 8,
   "id": "4d9d66b4",
   "metadata": {},
   "outputs": [
    {
     "data": {
      "text/plain": [
       "0"
      ]
     },
     "execution_count": 8,
     "metadata": {},
     "output_type": "execute_result"
    }
   ],
   "source": [
    "f[0]"
   ]
  },
  {
   "cell_type": "code",
   "execution_count": 9,
   "id": "bd3aeb0a",
   "metadata": {},
   "outputs": [
    {
     "data": {
      "text/plain": [
       "a    0\n",
       "b    1\n",
       "dtype: int64"
      ]
     },
     "execution_count": 9,
     "metadata": {},
     "output_type": "execute_result"
    }
   ],
   "source": [
    "f[:2]"
   ]
  },
  {
   "cell_type": "code",
   "execution_count": 10,
   "id": "fa0e5777",
   "metadata": {},
   "outputs": [
    {
     "data": {
      "text/plain": [
       "a    False\n",
       "b    False\n",
       "c    False\n",
       "d     True\n",
       "e     True\n",
       "dtype: bool"
      ]
     },
     "execution_count": 10,
     "metadata": {},
     "output_type": "execute_result"
    }
   ],
   "source": [
    "f > f.median()"
   ]
  },
  {
   "cell_type": "code",
   "execution_count": 11,
   "id": "d7f3d672",
   "metadata": {},
   "outputs": [
    {
     "data": {
      "text/plain": [
       "d    3\n",
       "e    4\n",
       "dtype: int64"
      ]
     },
     "execution_count": 11,
     "metadata": {},
     "output_type": "execute_result"
    }
   ],
   "source": [
    "f[f > f.median()]"
   ]
  },
  {
   "cell_type": "code",
   "execution_count": 12,
   "id": "0f15f2fb",
   "metadata": {},
   "outputs": [
    {
     "data": {
      "text/plain": [
       "e    4\n",
       "d    3\n",
       "b    1\n",
       "dtype: int64"
      ]
     },
     "execution_count": 12,
     "metadata": {},
     "output_type": "execute_result"
    }
   ],
   "source": [
    "f[[4, 3, 1]]"
   ]
  },
  {
   "cell_type": "code",
   "execution_count": 13,
   "id": "369327ec",
   "metadata": {},
   "outputs": [
    {
     "data": {
      "text/plain": [
       "a     1.000000\n",
       "b     2.718282\n",
       "c     7.389056\n",
       "d    20.085537\n",
       "e    54.598150\n",
       "dtype: float64"
      ]
     },
     "execution_count": 13,
     "metadata": {},
     "output_type": "execute_result"
    }
   ],
   "source": [
    "np.exp(f)"
   ]
  },
  {
   "cell_type": "markdown",
   "id": "3a21dd58",
   "metadata": {},
   "source": [
    "### Series is dict-like\n",
    "\n",
    "You can get and set values by index label."
   ]
  },
  {
   "cell_type": "code",
   "execution_count": 14,
   "id": "8d1262c8",
   "metadata": {},
   "outputs": [
    {
     "data": {
      "text/plain": [
       "0"
      ]
     },
     "execution_count": 14,
     "metadata": {},
     "output_type": "execute_result"
    }
   ],
   "source": [
    "f['a']"
   ]
  },
  {
   "cell_type": "code",
   "execution_count": 15,
   "id": "d86a9a9c",
   "metadata": {},
   "outputs": [
    {
     "data": {
      "text/plain": [
       "a    100\n",
       "b      1\n",
       "c      2\n",
       "d      3\n",
       "e      4\n",
       "dtype: int64"
      ]
     },
     "execution_count": 15,
     "metadata": {},
     "output_type": "execute_result"
    }
   ],
   "source": [
    "f['a'] = 100\n",
    "f"
   ]
  },
  {
   "cell_type": "code",
   "execution_count": 16,
   "id": "cd08db37",
   "metadata": {},
   "outputs": [
    {
     "name": "stdout",
     "output_type": "stream",
     "text": [
      "KeyError('f')\n"
     ]
    }
   ],
   "source": [
    "try:\n",
    "    f['f']\n",
    "except KeyError as e:\n",
    "    print(repr(e))"
   ]
  },
  {
   "cell_type": "code",
   "execution_count": 17,
   "id": "4213bffc",
   "metadata": {},
   "outputs": [
    {
     "data": {
      "text/plain": [
       "nan"
      ]
     },
     "execution_count": 17,
     "metadata": {},
     "output_type": "execute_result"
    }
   ],
   "source": [
    "f.get('f', np.nan)"
   ]
  },
  {
   "cell_type": "code",
   "execution_count": 18,
   "id": "e124e362",
   "metadata": {},
   "outputs": [
    {
     "data": {
      "text/plain": [
       "100"
      ]
     },
     "execution_count": 18,
     "metadata": {},
     "output_type": "execute_result"
    }
   ],
   "source": [
    "f.a"
   ]
  },
  {
   "cell_type": "markdown",
   "id": "3a7d403c",
   "metadata": {},
   "source": [
    "## Working with `Series`\n",
    "\n",
    "### Vector operations\n",
    "\n",
    "You can do operations on a `Series` similar to working with `ndarray`."
   ]
  },
  {
   "cell_type": "code",
   "execution_count": 19,
   "id": "22fe8c2f",
   "metadata": {},
   "outputs": [
    {
     "data": {
      "text/plain": [
       "a    200\n",
       "b      2\n",
       "c      4\n",
       "d      6\n",
       "e      8\n",
       "dtype: int64"
      ]
     },
     "execution_count": 19,
     "metadata": {},
     "output_type": "execute_result"
    }
   ],
   "source": [
    "f + f"
   ]
  },
  {
   "cell_type": "code",
   "execution_count": 20,
   "id": "3e470475",
   "metadata": {},
   "outputs": [
    {
     "data": {
      "text/plain": [
       "a    299.00\n",
       "b      2.25\n",
       "c      5.50\n",
       "d      8.75\n",
       "e     12.00\n",
       "dtype: float64"
      ]
     },
     "execution_count": 20,
     "metadata": {},
     "output_type": "execute_result"
    }
   ],
   "source": [
    "f * 3 + [0, 0.25, 0.5, 0.75, 1] - 1"
   ]
  },
  {
   "cell_type": "markdown",
   "id": "e22d2b71",
   "metadata": {},
   "source": [
    "When operating with non-`Series` sequences, the length must match.\n",
    "\n",
    "### Label alignment\n",
    "\n",
    "`Series` automatically align the data based on label."
   ]
  },
  {
   "cell_type": "code",
   "execution_count": 21,
   "id": "2f53ab22",
   "metadata": {},
   "outputs": [
    {
     "data": {
      "text/plain": [
       "a    NaN\n",
       "b    1.5\n",
       "c    2.5\n",
       "d    NaN\n",
       "e    4.5\n",
       "f    NaN\n",
       "dtype: float64"
      ]
     },
     "execution_count": 21,
     "metadata": {},
     "output_type": "execute_result"
    }
   ],
   "source": [
    "g = pd.Series(.5, index=['b', 'c', 'e', 'f'], name='g')\n",
    "f + g"
   ]
  },
  {
   "cell_type": "markdown",
   "id": "a7b353b2",
   "metadata": {},
   "source": [
    "## `name` attribute\n",
    "\n",
    "You can label any `Series` with a `name`"
   ]
  },
  {
   "cell_type": "code",
   "execution_count": 22,
   "id": "0a9980ad",
   "metadata": {},
   "outputs": [
    {
     "data": {
      "text/plain": [
       "0   -0.185833\n",
       "1    0.568955\n",
       "2    0.851281\n",
       "3   -0.633363\n",
       "4    1.018521\n",
       "Name: random series, dtype: float64"
      ]
     },
     "execution_count": 22,
     "metadata": {},
     "output_type": "execute_result"
    }
   ],
   "source": [
    "h = pd.Series(np.random.randn(5), name=\"random series\")\n",
    "h"
   ]
  },
  {
   "cell_type": "code",
   "execution_count": 23,
   "id": "43a3746a",
   "metadata": {},
   "outputs": [
    {
     "data": {
      "text/plain": [
       "'random series'"
      ]
     },
     "execution_count": 23,
     "metadata": {},
     "output_type": "execute_result"
    }
   ],
   "source": [
    "h.name"
   ]
  },
  {
   "cell_type": "markdown",
   "id": "c88d1278",
   "metadata": {},
   "source": [
    "You can change the name of a `Series` by setting the `name` attribute."
   ]
  },
  {
   "cell_type": "code",
   "execution_count": 24,
   "id": "0f80f601",
   "metadata": {},
   "outputs": [
    {
     "data": {
      "text/plain": [
       "0   -0.185833\n",
       "1    0.568955\n",
       "2    0.851281\n",
       "3   -0.633363\n",
       "4    1.018521\n",
       "Name: Series 1, dtype: float64"
      ]
     },
     "execution_count": 24,
     "metadata": {},
     "output_type": "execute_result"
    }
   ],
   "source": [
    "h.name = 'Series 1'\n",
    "h"
   ]
  },
  {
   "cell_type": "markdown",
   "id": "79286034",
   "metadata": {},
   "source": [
    "In a `DataFrame`, the `Series` name will be the column label."
   ]
  },
  {
   "cell_type": "markdown",
   "id": "700fe23b",
   "metadata": {},
   "source": [
    "## Methods\n",
    "\n",
    "You can chain methods that return a `Series`. \n",
    "There are lots of common math and comparison methods."
   ]
  },
  {
   "cell_type": "code",
   "execution_count": 25,
   "id": "6f834a5d",
   "metadata": {},
   "outputs": [
    {
     "data": {
      "text/plain": [
       "0    -1.9\n",
       "1     5.7\n",
       "2     8.5\n",
       "3    -6.3\n",
       "4    10.2\n",
       "Name: Series 1, dtype: float64"
      ]
     },
     "execution_count": 25,
     "metadata": {},
     "output_type": "execute_result"
    }
   ],
   "source": [
    "i = h.mul(10).round(1)\n",
    "i"
   ]
  },
  {
   "cell_type": "markdown",
   "id": "ce4334a9",
   "metadata": {},
   "source": [
    "You can apply a custom function and do aggregating/grouping."
   ]
  },
  {
   "cell_type": "code",
   "execution_count": 26,
   "id": "aa4f3b7a",
   "metadata": {},
   "outputs": [
    {
     "data": {
      "text/plain": [
       "Series 1\n",
       "False    69.593333\n",
       "True     21.650000\n",
       "Name: Series 1, dtype: float64"
      ]
     },
     "execution_count": 26,
     "metadata": {},
     "output_type": "execute_result"
    }
   ],
   "source": [
    "i.apply(lambda x: x ** 2).groupby(i < 0).mean()"
   ]
  },
  {
   "cell_type": "markdown",
   "id": "ee001d50",
   "metadata": {},
   "source": [
    "You can sort by index or values"
   ]
  },
  {
   "cell_type": "code",
   "execution_count": 27,
   "id": "3d2ffdcc",
   "metadata": {},
   "outputs": [
    {
     "data": {
      "text/plain": [
       "3    -6.3\n",
       "0    -1.9\n",
       "1     5.7\n",
       "2     8.5\n",
       "4    10.2\n",
       "Name: Series 1, dtype: float64"
      ]
     },
     "execution_count": 27,
     "metadata": {},
     "output_type": "execute_result"
    }
   ],
   "source": [
    "i = i.sort_values()\n",
    "i"
   ]
  },
  {
   "cell_type": "code",
   "execution_count": 28,
   "id": "b3c445e3",
   "metadata": {},
   "outputs": [
    {
     "data": {
      "text/plain": [
       "3    1.0\n",
       "0    2.0\n",
       "1    3.0\n",
       "2    4.0\n",
       "4    5.0\n",
       "Name: Series 1, dtype: float64"
      ]
     },
     "execution_count": 28,
     "metadata": {},
     "output_type": "execute_result"
    }
   ],
   "source": [
    "i.rank()"
   ]
  },
  {
   "cell_type": "markdown",
   "id": "7c505c31",
   "metadata": {},
   "source": [
    "And there's so much more you can do.\n",
    "\n",
    "## Accessors\n",
    "\n",
    "You can also access a lot of type-specific methods for strings, datetimes and some Pandas-specific dtypes."
   ]
  },
  {
   "cell_type": "code",
   "execution_count": 29,
   "id": "58a1ca12",
   "metadata": {},
   "outputs": [
    {
     "data": {
      "text/plain": [
       "0    Yes\n",
       "1     no\n",
       "2      y\n",
       "3       \n",
       "4     NO\n",
       "Name: votes, dtype: object"
      ]
     },
     "execution_count": 29,
     "metadata": {},
     "output_type": "execute_result"
    }
   ],
   "source": [
    "j = pd.Series(['Yes', 'no', 'y', '', 'NO'], name='votes')\n",
    "j"
   ]
  },
  {
   "cell_type": "code",
   "execution_count": 30,
   "id": "51e4b2fd",
   "metadata": {},
   "outputs": [
    {
     "data": {
      "text/plain": [
       "0    YES\n",
       "1     NO\n",
       "2      Y\n",
       "3       \n",
       "4     NO\n",
       "Name: votes, dtype: object"
      ]
     },
     "execution_count": 30,
     "metadata": {},
     "output_type": "execute_result"
    }
   ],
   "source": [
    "j = j.str.upper()\n",
    "j"
   ]
  },
  {
   "cell_type": "code",
   "execution_count": 31,
   "id": "f6da6355",
   "metadata": {},
   "outputs": [
    {
     "data": {
      "text/plain": [
       "0    Yes\n",
       "1     No\n",
       "2    Yes\n",
       "3       \n",
       "4     No\n",
       "Name: votes, dtype: object"
      ]
     },
     "execution_count": 31,
     "metadata": {},
     "output_type": "execute_result"
    }
   ],
   "source": [
    "j[j.str.contains('Y')] = 'Yes'\n",
    "j[j.str.contains('N')] = 'No'\n",
    "j"
   ]
  },
  {
   "cell_type": "code",
   "execution_count": 32,
   "id": "303a2105",
   "metadata": {},
   "outputs": [
    {
     "data": {
      "text/plain": [
       "0        Yes\n",
       "1         No\n",
       "2        Yes\n",
       "3    Unknown\n",
       "4         No\n",
       "Name: votes, dtype: object"
      ]
     },
     "execution_count": 32,
     "metadata": {},
     "output_type": "execute_result"
    }
   ],
   "source": [
    "j[~j.isin(['Yes', 'No'])] = 'Unknown'\n",
    "j"
   ]
  }
 ],
 "metadata": {
  "jupytext": {
   "cell_metadata_filter": "-all",
   "formats": "auto:light,ipynb",
   "main_language": "python",
   "notebook_metadata_filter": "-all"
  },
  "kernelspec": {
   "display_name": "Python 3 (ipykernel)",
   "language": "python",
   "name": "python3"
  },
  "language_info": {
   "codemirror_mode": {
    "name": "ipython",
    "version": 3
   },
   "file_extension": ".py",
   "mimetype": "text/x-python",
   "name": "python",
   "nbconvert_exporter": "python",
   "pygments_lexer": "ipython3",
   "version": "3.9.2"
  }
 },
 "nbformat": 4,
 "nbformat_minor": 5
}
