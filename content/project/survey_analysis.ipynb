{
 "cells": [
  {
   "cell_type": "markdown",
   "id": "36e8e1e1",
   "metadata": {},
   "source": [
    "# Survey analysis\n",
    "Analyse the results from the [languages survey](https://forms.gle/5b3mZRVcgAsoNG1FA)"
   ]
  },
  {
   "cell_type": "code",
   "execution_count": null,
   "id": "2f5f7868",
   "metadata": {},
   "outputs": [],
   "source": [
    "all_langs = ['Python', 'Java', 'JavaScript', 'TypeScript', 'PHP', 'SQL', 'C', 'C++', 'C#',\n",
    "             'Ruby', 'R', 'Matlab', 'Go', 'Rust', 'Objective-C', 'Swift', 'Visual Basic',\n",
    "             'Perl', 'Cobol', 'Fortran', 'Lisp', 'Assembly', 'Kotlin', 'Dart', 'Scala',\n",
    "             'Lua', 'Delphi', 'Haskell', 'Julia', 'Clojure', 'Elixir', 'Pascal']"
   ]
  },
  {
   "cell_type": "markdown",
   "id": "e25475b2",
   "metadata": {},
   "source": [
    "## Load data"
   ]
  },
  {
   "cell_type": "code",
   "execution_count": 3,
   "id": "d705108a",
   "metadata": {},
   "outputs": [
    {
     "name": "stdout",
     "output_type": "stream",
     "text": [
      "{'timestamp': '2024/01/30 8:40:43 am GMT-8', 'languages': 'Python;SQL', 'years': '1 - 5'}\n",
      "{'timestamp': '2024/01/30 8:45:28 am GMT-8', 'languages': 'Python', 'years': '5 - 10'}\n",
      "{'timestamp': '2024/01/30 9:02:42 am GMT-8', 'languages': 'Python', 'years': '1 - 5'}\n",
      "{'timestamp': '2024/01/30 9:02:59 am GMT-8', 'languages': 'Java;JavaScript;SQL;C;C++;Visual Basic;Perl;Cobol;Fortran;Assembly;Pascal', 'years': '> 20'}\n",
      "{'timestamp': '2024/01/30 9:03:28 am GMT-8', 'languages': 'Python;Perl', 'years': '> 20'}\n",
      "{'timestamp': '2024/01/30 9:03:35 am GMT-8', 'languages': 'JavaScript;TypeScript;PHP;SQL;C++;Visual Basic;Perl', 'years': '> 20'}\n",
      "{'timestamp': '2024/01/30 9:03:37 am GMT-8', 'languages': 'Python;Java;C++;Perl', 'years': '1 - 5'}\n",
      "{'timestamp': '2024/01/30 9:03:49 am GMT-8', 'languages': 'Python;Java;JavaScript;TypeScript;PHP;SQL;Ruby;R;Objective-C;Swift;Perl;Kotlin;Dart', 'years': '> 20'}\n",
      "{'timestamp': '2024/01/30 9:06:50 am GMT-8', 'languages': 'Python;Java;JavaScript;SQL;C;C++;Matlab;Visual Basic;Cobol;Fortran;Assembly', 'years': '> 20'}\n",
      "{'timestamp': '2024/01/30 9:10:51 am GMT-8', 'languages': 'Java;JavaScript', 'years': '15 - 20'}\n",
      "{'timestamp': '2024/01/30 9:14:33 am GMT-8', 'languages': 'Python;Java;JavaScript;SQL;C;C++', 'years': '15 - 20'}\n",
      "{'timestamp': '2024/01/30 9:26:37 am GMT-8', 'languages': 'Python;SQL;C;R', 'years': '1 - 5'}\n",
      "{'timestamp': '2024/01/30 9:26:50 am GMT-8', 'languages': 'Java;C++', 'years': '15 - 20'}\n",
      "{'timestamp': '2024/01/30 9:27:18 am GMT-8', 'languages': 'SQL;R', 'years': '1 - 5'}\n",
      "{'timestamp': '2024/01/30 9:27:28 am GMT-8', 'languages': 'Python;Java', 'years': ''}\n",
      "{'timestamp': '2024/01/30 9:27:44 am GMT-8', 'languages': 'Ruby;Fortran;Lisp', 'years': '5 - 10'}\n",
      "{'timestamp': '2024/01/30 9:28:46 am GMT-8', 'languages': 'Python;Java;C#;Ruby;Visual Basic;Cobol;Pascal', 'years': '> 20'}\n",
      "{'timestamp': '2024/01/30 9:30:13 am GMT-8', 'languages': 'SQL', 'years': '10 - 15'}\n",
      "{'timestamp': '2024/01/30 9:36:15 am GMT-8', 'languages': 'Python;Java;JavaScript;C;Rust', 'years': '10 - 15'}\n",
      "{'timestamp': '2024/01/30 10:45:33 am GMT-8', 'languages': 'Python;JavaScript;Perl', 'years': '1 - 5'}\n",
      "{'timestamp': '2024/01/30 10:45:55 am GMT-8', 'languages': 'Java;SQL;C#', 'years': '10 - 15'}\n",
      "{'timestamp': '2024/01/30 10:46:07 am GMT-8', 'languages': 'Python;Java', 'years': '1 - 5'}\n",
      "{'timestamp': '2024/01/30 10:46:24 am GMT-8', 'languages': 'Python;JavaScript;SQL;C', 'years': '1 - 5'}\n",
      "{'timestamp': '2024/01/30 10:48:04 am GMT-8', 'languages': 'Python;SQL;C;C++', 'years': '1 - 5'}\n",
      "{'timestamp': '2024/01/30 10:48:28 am GMT-8', 'languages': 'Python;Java;JavaScript', 'years': '1 - 5'}\n"
     ]
    }
   ],
   "source": [
    "import csv\n",
    "\n",
    "with open('data/Survey-2024-Jan.csv') as file:\n",
    "    file.readline()  # Ignore first line (header)\n",
    "    reader = csv.DictReader(file, fieldnames=('timestamp', 'languages', 'years'))  # list of dicts with keys passed into fieldnames\n",
    "    for line in reader:\n",
    "        print(line)"
   ]
  },
  {
   "cell_type": "markdown",
   "id": "dd26dbe8",
   "metadata": {},
   "source": [
    "## Find number of languages known\n",
    "Print `\"{# known by class} / {# in list} languages known by this class (as %)\"`.\n",
    "\n",
    "E.g. **12/21 languages known by this class (57%)**"
   ]
  },
  {
   "cell_type": "code",
   "execution_count": null,
   "id": "1aa078a0",
   "metadata": {},
   "outputs": [],
   "source": []
  },
  {
   "cell_type": "markdown",
   "id": "1bf39f5f",
   "metadata": {},
   "source": [
    "## List languages not known by anyone in the class"
   ]
  },
  {
   "cell_type": "code",
   "execution_count": null,
   "id": "5adf9055",
   "metadata": {},
   "outputs": [],
   "source": []
  },
  {
   "cell_type": "markdown",
   "id": "88124d97",
   "metadata": {},
   "source": [
    "## Rank languages by most commonly known\n",
    "Print each language as `\"{position}: {language} ({percent_known}%)\"`, in order from most to least known\n",
    "\n",
    "e.g. **1: Python (93%)**"
   ]
  },
  {
   "cell_type": "code",
   "execution_count": null,
   "id": "e72aaa3e",
   "metadata": {},
   "outputs": [],
   "source": []
  }
 ],
 "metadata": {
  "jupytext": {
   "cell_metadata_filter": "-all",
   "formats": "auto:light,ipynb",
   "main_language": "python",
   "notebook_metadata_filter": "-all"
  },
  "kernelspec": {
   "display_name": "Python 3 (ipykernel)",
   "language": "python",
   "name": "python3"
  },
  "language_info": {
   "codemirror_mode": {
    "name": "ipython",
    "version": 3
   },
   "file_extension": ".py",
   "mimetype": "text/x-python",
   "name": "python",
   "nbconvert_exporter": "python",
   "pygments_lexer": "ipython3",
   "version": "3.11.4"
  }
 },
 "nbformat": 4,
 "nbformat_minor": 5
}
