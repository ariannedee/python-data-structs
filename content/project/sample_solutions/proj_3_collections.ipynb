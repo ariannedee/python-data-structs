{
 "cells": [
  {
   "cell_type": "markdown",
   "id": "d57943c8",
   "metadata": {},
   "source": [
    "# Survey analysis\n",
    "Analyse the results from the [languages survey](https://forms.gle/5b3mZRVcgAsoNG1FA)"
   ]
  },
  {
   "cell_type": "code",
   "execution_count": 1,
   "id": "bfdc7b7b",
   "metadata": {},
   "outputs": [],
   "source": [
    "all_langs = ['Python', 'Java', 'JavaScript', 'TypeScript', 'PHP', 'SQL', 'C', 'C++', 'C#',\n",
    "             'Ruby', 'R', 'Matlab', 'Go', 'Rust', 'Objective-C', 'Swift', 'Visual Basic',\n",
    "             'Perl', 'Cobol', 'Fortran', 'Lisp', 'Assembly', 'Kotlin', 'Dart', 'Scala',\n",
    "             'Lua', 'Delphi', 'Haskell', 'Julia', 'Clojure', 'Elixir', 'Pascal']"
   ]
  },
  {
   "cell_type": "markdown",
   "id": "a8c4b947",
   "metadata": {},
   "source": [
    "## Load data"
   ]
  },
  {
   "cell_type": "code",
   "execution_count": 2,
   "id": "bb84d79a",
   "metadata": {},
   "outputs": [
    {
     "name": "stdout",
     "output_type": "stream",
     "text": [
      "77\n",
      "['Python']\n"
     ]
    }
   ],
   "source": [
    "import csv\n",
    "from pprint import pprint\n",
    "\n",
    "with open('../data/Programming language survey.csv') as file:\n",
    "    file.readline()\n",
    "    reader = csv.DictReader(file, fieldnames=['timestamp', 'langs', 'years'])\n",
    "    languages_known_by_person = [line['langs'].split(', ') for line in reader]\n",
    "\n",
    "print(len(languages_known_by_person))\n",
    "print(languages_known_by_person[0])"
   ]
  },
  {
   "cell_type": "markdown",
   "id": "3e74f89e",
   "metadata": {},
   "source": [
    "## Find number of languages known\n",
    "Print `\"{# known by class} / {# in list} languages known by this class (as %)\"`.\n",
    "\n",
    "E.g. **12/21 languages known by this class (57%)**"
   ]
  },
  {
   "cell_type": "code",
   "execution_count": 3,
   "id": "5792989f",
   "metadata": {},
   "outputs": [
    {
     "name": "stdout",
     "output_type": "stream",
     "text": [
      "31 / 32 languages known by this class (as 97%)\n"
     ]
    }
   ],
   "source": [
    "langs_known = {lang for langs in languages_known_by_person for lang in langs}\n",
    "    \n",
    "print(f\"{len(langs_known)} / {len(all_langs)} languages known by this class (as {round(len(langs_known) / len(all_langs) * 100)}%)\")"
   ]
  },
  {
   "cell_type": "markdown",
   "id": "6030da3f",
   "metadata": {},
   "source": [
    "## List languages not known by anyone in the class"
   ]
  },
  {
   "cell_type": "code",
   "execution_count": 4,
   "id": "03710fbd",
   "metadata": {},
   "outputs": [
    {
     "data": {
      "text/plain": [
       "{'Scala'}"
      ]
     },
     "execution_count": 4,
     "metadata": {},
     "output_type": "execute_result"
    }
   ],
   "source": [
    "set(all_langs) - langs_known"
   ]
  },
  {
   "cell_type": "markdown",
   "id": "ae0b1e22",
   "metadata": {},
   "source": [
    "## Rank languages by most commonly known\n",
    "Print each language as `\"{position}: {language} ({percent_known}%)\"`, in order from most to least known\n",
    "\n",
    "e.g. **1: Python (93%)**"
   ]
  },
  {
   "cell_type": "code",
   "execution_count": 5,
   "id": "21ec5e71",
   "metadata": {},
   "outputs": [
    {
     "name": "stdout",
     "output_type": "stream",
     "text": [
      "Counter({'Python': 63, 'SQL': 41, 'JavaScript': 36, 'Java': 36, 'C': 30, 'C++': 23, 'Visual Basic': 19, 'Perl': 15, 'Pascal': 15, 'Assembly': 13, 'Fortran': 10, 'PHP': 10, 'TypeScript': 9, 'C#': 9, 'R': 8, 'Go': 8, 'Swift': 5, 'Ruby': 5, 'Lisp': 5, 'Cobol': 5, 'Delphi': 5, 'Clojure': 4, 'Objective-C': 3, 'Matlab': 2, 'Julia': 2, 'Kotlin': 2, 'Rust': 1, 'Dart': 1, 'Lua': 1, 'Haskell': 1, 'Elixir': 1})\n"
     ]
    }
   ],
   "source": [
    "from collections import Counter\n",
    "langs_count = Counter()\n",
    "\n",
    "for langs in languages_known_by_person:\n",
    "    langs_count.update(langs)\n",
    "        \n",
    "print(langs_count)"
   ]
  },
  {
   "cell_type": "code",
   "execution_count": 6,
   "id": "984a3a9b",
   "metadata": {},
   "outputs": [
    {
     "name": "stdout",
     "output_type": "stream",
     "text": [
      "1: Python (82%)\n",
      "2: SQL (53%)\n",
      "3: JavaScript (47%)\n",
      "4: Java (47%)\n",
      "5: C (39%)\n",
      "6: C++ (30%)\n",
      "7: Visual Basic (25%)\n",
      "8: Perl (19%)\n",
      "9: Pascal (19%)\n",
      "10: Assembly (17%)\n",
      "11: Fortran (13%)\n",
      "12: PHP (13%)\n",
      "13: TypeScript (12%)\n",
      "14: C# (12%)\n",
      "15: R (10%)\n",
      "16: Go (10%)\n",
      "17: Swift (6%)\n",
      "18: Ruby (6%)\n",
      "19: Lisp (6%)\n",
      "20: Cobol (6%)\n",
      "21: Delphi (6%)\n",
      "22: Clojure (5%)\n",
      "23: Objective-C (4%)\n",
      "24: Matlab (3%)\n",
      "25: Julia (3%)\n",
      "26: Kotlin (3%)\n",
      "27: Rust (1%)\n",
      "28: Dart (1%)\n",
      "29: Lua (1%)\n",
      "30: Haskell (1%)\n",
      "31: Elixir (1%)\n"
     ]
    }
   ],
   "source": [
    "num_people = len(languages_known_by_person)\n",
    "for pos, (lang, count) in enumerate(langs_count.most_common(), start=1):\n",
    "    print(f\"{pos}: {lang} ({round(count / num_people * 100)}%)\")"
   ]
  }
 ],
 "metadata": {
  "jupytext": {
   "cell_metadata_filter": "-all",
   "formats": "auto:light,ipynb",
   "main_language": "python",
   "notebook_metadata_filter": "-all"
  },
  "kernelspec": {
   "display_name": "Python 3 (ipykernel)",
   "language": "python",
   "name": "python3"
  },
  "language_info": {
   "codemirror_mode": {
    "name": "ipython",
    "version": 3
   },
   "file_extension": ".py",
   "mimetype": "text/x-python",
   "name": "python",
   "nbconvert_exporter": "python",
   "pygments_lexer": "ipython3",
   "version": "3.11.4"
  }
 },
 "nbformat": 4,
 "nbformat_minor": 5
}
