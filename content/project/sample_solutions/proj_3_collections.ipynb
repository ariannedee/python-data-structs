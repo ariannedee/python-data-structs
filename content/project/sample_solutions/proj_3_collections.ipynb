{
 "cells": [
  {
   "cell_type": "markdown",
   "id": "2c0897ac",
   "metadata": {},
   "source": [
    "# Survey analysis\n",
    "Analyse the results from the [languages survey](https://forms.gle/5b3mZRVcgAsoNG1FA)"
   ]
  },
  {
   "cell_type": "code",
   "execution_count": 1,
   "id": "c7d40598",
   "metadata": {},
   "outputs": [],
   "source": [
    "all_langs = ['Python', 'Java', 'JavaScript', 'TypeScript', 'PHP', 'SQL', 'C', 'C++', 'C#',\n",
    "             'Ruby', 'R', 'Matlab', 'Go', 'Rust', 'Objective-C', 'Swift', 'Visual Basic',\n",
    "             'Perl', 'Cobol', 'Fortran', 'Lisp', 'Assembly', 'Kotlin', 'Dart', 'Scala',\n",
    "             'Lua', 'Delphi', 'Haskell', 'Julia', 'Clojure', 'Elixir', 'Pascal']"
   ]
  },
  {
   "cell_type": "markdown",
   "id": "270eddc7",
   "metadata": {},
   "source": [
    "## Load data"
   ]
  },
  {
   "cell_type": "code",
   "execution_count": 2,
   "id": "1615a5d2",
   "metadata": {},
   "outputs": [
    {
     "name": "stdout",
     "output_type": "stream",
     "text": [
      "[['Python', 'SQL'], ['Python'], ['Python'], ['Java', 'JavaScript', 'SQL', 'C', 'C++', 'Visual Basic', 'Perl', 'Cobol', 'Fortran', 'Assembly', 'Pascal'], ['Python', 'Perl'], ['JavaScript', 'TypeScript', 'PHP', 'SQL', 'C++', 'Visual Basic', 'Perl'], ['Python', 'Java', 'C++', 'Perl'], ['Python', 'Java', 'JavaScript', 'TypeScript', 'PHP', 'SQL', 'Ruby', 'R', 'Objective-C', 'Swift', 'Perl', 'Kotlin', 'Dart'], ['Python', 'Java', 'JavaScript', 'SQL', 'C', 'C++', 'Matlab', 'Visual Basic', 'Cobol', 'Fortran', 'Assembly'], ['Java', 'JavaScript'], ['Python', 'Java', 'JavaScript', 'SQL', 'C', 'C++'], ['Python', 'SQL', 'C', 'R'], ['Java', 'C++'], ['SQL', 'R'], ['Python', 'Java'], ['Ruby', 'Fortran', 'Lisp'], ['Python', 'Java', 'C#', 'Ruby', 'Visual Basic', 'Cobol', 'Pascal'], ['SQL'], ['Python', 'Java', 'JavaScript', 'C', 'Rust'], ['Python', 'JavaScript', 'Perl'], ['Java', 'SQL', 'C#'], ['Python', 'Java'], ['Python', 'JavaScript', 'SQL', 'C'], ['Python', 'SQL', 'C', 'C++'], ['Python', 'Java', 'JavaScript']]\n",
      "25\n"
     ]
    }
   ],
   "source": [
    "import csv\n",
    "\n",
    "num_attendees = 0\n",
    "with open('../data/Survey-2024-Jan.csv') as file:\n",
    "    file.readline()  # Ignore first line (header)\n",
    "    reader = csv.DictReader(file, fieldnames=('timestamp', 'languages', 'years'))  # list of dicts with keys passed into fieldnames\n",
    "    langs_known = [line['languages'].split(';') for line in reader]\n",
    "    num_attendees = len(langs_known)\n",
    "\n",
    "print(langs_known)\n",
    "print(num_attendees)"
   ]
  },
  {
   "cell_type": "markdown",
   "id": "22ce11fa",
   "metadata": {},
   "source": [
    "## Find number of languages known\n",
    "Print `\"{# known by class} / {# in list} languages known by this class (as %)\"`.\n",
    "\n",
    "E.g. **12/21 languages known by this class (57%)**"
   ]
  },
  {
   "cell_type": "code",
   "execution_count": 3,
   "id": "d2a4cc81",
   "metadata": {},
   "outputs": [
    {
     "name": "stdout",
     "output_type": "stream",
     "text": [
      "24 / 32 languages known by this class (75%)\n"
     ]
    }
   ],
   "source": [
    "unique_langs = {lang for langs in langs_known for lang in langs}\n",
    "num_unique = len(unique_langs)\n",
    "num_all = len(all_langs)\n",
    "print(f\"{num_unique} / {num_all} languages known by this class ({round(num_unique / num_all * 100)}%)\")"
   ]
  },
  {
   "cell_type": "markdown",
   "id": "4c18d280",
   "metadata": {},
   "source": [
    "## List languages not known by anyone in the class"
   ]
  },
  {
   "cell_type": "code",
   "execution_count": 4,
   "id": "cec2848a",
   "metadata": {},
   "outputs": [
    {
     "name": "stdout",
     "output_type": "stream",
     "text": [
      "Nobody knows Clojure, Delphi, Elixir, Go, Haskell, Julia, Lua, Scala\n"
     ]
    }
   ],
   "source": [
    "not_known = set(all_langs) - unique_langs\n",
    "sorted_not_known = sorted(list(not_known))\n",
    "print(f\"Nobody knows {', '.join(sorted_not_known)}\")"
   ]
  },
  {
   "cell_type": "markdown",
   "id": "164f4a1c",
   "metadata": {},
   "source": [
    "## Rank languages by most commonly known\n",
    "Print each language as `\"{position}: {language} ({percent_known}%)\"`, in order from most to least known\n",
    "\n",
    "e.g. **1: Python (93%)**"
   ]
  },
  {
   "cell_type": "code",
   "execution_count": 5,
   "id": "2a808013",
   "metadata": {},
   "outputs": [
    {
     "name": "stdout",
     "output_type": "stream",
     "text": [
      "defaultdict(<class 'int'>, {'Python': 17, 'SQL': 12, 'Java': 13, 'JavaScript': 10, 'C': 7, 'C++': 7, 'Visual Basic': 4, 'Perl': 6, 'Cobol': 3, 'Fortran': 3, 'Assembly': 2, 'Pascal': 2, 'TypeScript': 2, 'PHP': 2, 'Ruby': 3, 'R': 3, 'Objective-C': 1, 'Swift': 1, 'Kotlin': 1, 'Dart': 1, 'Matlab': 1, 'Lisp': 1, 'C#': 2, 'Rust': 1})\n"
     ]
    }
   ],
   "source": [
    "from collections import defaultdict\n",
    "langs_by_count = defaultdict(int)\n",
    "\n",
    "for langs in langs_known:\n",
    "    for lang in langs:\n",
    "        langs_by_count[lang] += 1\n",
    "\n",
    "print(langs_by_count)"
   ]
  },
  {
   "cell_type": "code",
   "execution_count": 6,
   "id": "f1899d7a",
   "metadata": {},
   "outputs": [
    {
     "data": {
      "text/plain": [
       "Counter({'Python': 17,\n",
       "         'Java': 13,\n",
       "         'SQL': 12,\n",
       "         'JavaScript': 10,\n",
       "         'C': 7,\n",
       "         'C++': 7,\n",
       "         'Perl': 6,\n",
       "         'Visual Basic': 4,\n",
       "         'Cobol': 3,\n",
       "         'Fortran': 3,\n",
       "         'Ruby': 3,\n",
       "         'R': 3,\n",
       "         'Assembly': 2,\n",
       "         'Pascal': 2,\n",
       "         'TypeScript': 2,\n",
       "         'PHP': 2,\n",
       "         'C#': 2,\n",
       "         'Objective-C': 1,\n",
       "         'Swift': 1,\n",
       "         'Kotlin': 1,\n",
       "         'Dart': 1,\n",
       "         'Matlab': 1,\n",
       "         'Lisp': 1,\n",
       "         'Rust': 1,\n",
       "         'Go': 0,\n",
       "         'Scala': 0,\n",
       "         'Lua': 0,\n",
       "         'Delphi': 0,\n",
       "         'Haskell': 0,\n",
       "         'Julia': 0,\n",
       "         'Clojure': 0,\n",
       "         'Elixir': 0})"
      ]
     },
     "execution_count": 6,
     "metadata": {},
     "output_type": "execute_result"
    }
   ],
   "source": [
    "from collections import Counter\n",
    "\n",
    "langs_by_count = Counter()\n",
    "for langs in langs_known:\n",
    "    langs_by_count.update(langs)\n",
    "\n",
    "langs_by_count.update(all_langs)\n",
    "langs_by_count.subtract(all_langs)\n",
    "\n",
    "langs_by_count"
   ]
  },
  {
   "cell_type": "code",
   "execution_count": 7,
   "id": "57f56ea0",
   "metadata": {
    "lines_to_next_cell": 2
   },
   "outputs": [
    {
     "name": "stdout",
     "output_type": "stream",
     "text": [
      "1: Python (68%)\n",
      "2: Java (52%)\n",
      "3: SQL (48%)\n",
      "4: JavaScript (40%)\n",
      "5: C (28%)\n",
      "6: C++ (28%)\n",
      "7: Perl (24%)\n",
      "8: Visual Basic (16%)\n",
      "9: Cobol (12%)\n",
      "10: Fortran (12%)\n",
      "11: Ruby (12%)\n",
      "12: R (12%)\n",
      "13: Assembly (8%)\n",
      "14: Pascal (8%)\n",
      "15: TypeScript (8%)\n",
      "16: PHP (8%)\n",
      "17: C# (8%)\n",
      "18: Objective-C (4%)\n",
      "19: Swift (4%)\n",
      "20: Kotlin (4%)\n",
      "21: Dart (4%)\n",
      "22: Matlab (4%)\n",
      "23: Lisp (4%)\n",
      "24: Rust (4%)\n",
      "25: Go (0%)\n",
      "26: Scala (0%)\n",
      "27: Lua (0%)\n",
      "28: Delphi (0%)\n",
      "29: Haskell (0%)\n",
      "30: Julia (0%)\n",
      "31: Clojure (0%)\n",
      "32: Elixir (0%)\n"
     ]
    }
   ],
   "source": [
    "for pos, (lang, count) in enumerate(langs_by_count.most_common(), start=1):\n",
    "    print(f\"{pos}: {lang} ({round(count / num_attendees * 100)}%)\")"
   ]
  }
 ],
 "metadata": {
  "jupytext": {
   "cell_metadata_filter": "-all",
   "formats": "auto:light,ipynb",
   "main_language": "python",
   "notebook_metadata_filter": "-all"
  },
  "kernelspec": {
   "display_name": "Python 3 (ipykernel)",
   "language": "python",
   "name": "python3"
  },
  "language_info": {
   "codemirror_mode": {
    "name": "ipython",
    "version": 3
   },
   "file_extension": ".py",
   "mimetype": "text/x-python",
   "name": "python",
   "nbconvert_exporter": "python",
   "pygments_lexer": "ipython3",
   "version": "3.11.4"
  }
 },
 "nbformat": 4,
 "nbformat_minor": 5
}
