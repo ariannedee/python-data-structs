{
 "cells": [
  {
   "cell_type": "markdown",
   "id": "c4ce8d5d",
   "metadata": {},
   "source": [
    "# Survey analysis\n",
    "Analyse the results from the [languages survey](https://forms.gle/5b3mZRVcgAsoNG1FA)"
   ]
  },
  {
   "cell_type": "code",
   "execution_count": 1,
   "id": "dbdcda8a",
   "metadata": {},
   "outputs": [],
   "source": [
    "all_langs = ['Python', 'Java', 'JavaScript', 'TypeScript', 'PHP', 'SQL', 'C', 'C++', 'C#',\n",
    "             'Ruby', 'R', 'Matlab', 'Go', 'Rust', 'Objective-C', 'Swift', 'Visual Basic',\n",
    "             'Perl', 'Cobol', 'Fortran', 'Lisp', 'Assembly', 'Kotlin', 'Dart', 'Scala',\n",
    "             'Lua', 'Delphi', 'Haskell', 'Julia', 'Clojure', 'Elixir', 'Pascal']"
   ]
  },
  {
   "cell_type": "markdown",
   "id": "4cd6ff36",
   "metadata": {},
   "source": [
    "## Load data"
   ]
  },
  {
   "cell_type": "code",
   "execution_count": 2,
   "id": "3777a962",
   "metadata": {},
   "outputs": [
    {
     "name": "stdout",
     "output_type": "stream",
     "text": [
      "27\n",
      "[['Python', 'C'], ['Python', 'JavaScript', 'C', 'Perl'], ['Python'], ['Python', 'SQL'], ['Python', 'Java', 'JavaScript', 'SQL', 'C', 'C++', 'Perl', 'Kotlin', 'Pascal'], ['Python', 'C'], ['C++'], ['Python', 'PHP', 'SQL', 'Visual Basic'], ['Python', 'JavaScript', 'SQL', 'R'], ['Python', 'Java', 'JavaScript', 'TypeScript', 'SQL', 'C', 'R', 'Perl', 'Lisp', 'Haskell'], ['Java', 'SQL', 'C', 'C#', 'Assembly'], ['Python', 'SQL'], ['Python', 'SQL', 'C', 'C++', 'Perl'], ['Python', 'SQL', 'C', 'C++', 'C#', 'Visual Basic', 'Pascal'], ['Java'], ['Python', 'Java', 'JavaScript', 'SQL', 'C'], ['Python', 'JavaScript', 'SQL'], ['C', 'C++'], ['Java', 'SQL'], ['Java', 'Kotlin'], ['Python', 'SQL', 'C++', 'Perl', 'Cobol', 'Pascal'], ['Python', 'SQL', 'C', 'C++', 'C#', 'Matlab', 'Pascal'], ['Python', 'SQL', 'Visual Basic'], ['Python', 'C', 'C++', 'C#', 'Matlab', 'Perl'], ['Python', 'PHP', 'SQL', 'Visual Basic'], ['Python', 'Java', 'C', 'C++', 'Perl'], ['Java', 'SQL', 'C++']]\n"
     ]
    }
   ],
   "source": [
    "import csv\n",
    "\n",
    "langs_entered = []\n",
    "\n",
    "with open('../data/Survey-2024-Mar.csv') as file:\n",
    "    file.readline()  # Ignore first line (header)\n",
    "    reader = csv.DictReader(file, fieldnames=('timestamp', 'languages', 'years'))  # list of dicts with keys passed into fieldnames\n",
    "    # langs_entered = [lang for line in reader for lang in line['languages'].split(';')]  # flattened list of langs known\n",
    "    entered_langs = [line['languages'].split(';') for line in reader]\n",
    "\n",
    "num_responses = len(entered_langs)\n",
    "print(num_responses)\n",
    "print(entered_langs)"
   ]
  },
  {
   "cell_type": "markdown",
   "id": "359f16df",
   "metadata": {},
   "source": [
    "## Find number of languages known\n",
    "Print `\"{# known by class} / {# in list} languages known by this class (as %)\"`.\n",
    "\n",
    "E.g. **12/21 languages known by this class (57%)**"
   ]
  },
  {
   "cell_type": "code",
   "execution_count": 3,
   "id": "e6f6ac48",
   "metadata": {
    "lines_to_next_cell": 2
   },
   "outputs": [
    {
     "name": "stdout",
     "output_type": "stream",
     "text": [
      "19 / 32 languages known by this class (59%)\n"
     ]
    }
   ],
   "source": [
    "langs_known = {lang for langs in entered_langs for lang in langs}\n",
    "num_known = len(langs_known)\n",
    "num_langs = len(all_langs)\n",
    "print(f\"{num_known} / {num_langs} languages known by this class ({round(num_known / num_langs * 100)}%)\")"
   ]
  },
  {
   "cell_type": "markdown",
   "id": "1337ca41",
   "metadata": {},
   "source": [
    "## List languages not known by anyone in the class"
   ]
  },
  {
   "cell_type": "code",
   "execution_count": 4,
   "id": "33f65e70",
   "metadata": {},
   "outputs": [
    {
     "name": "stdout",
     "output_type": "stream",
     "text": [
      "Clojure\n",
      "Dart\n",
      "Delphi\n",
      "Elixir\n",
      "Fortran\n",
      "Go\n",
      "Julia\n",
      "Lua\n",
      "Objective-C\n",
      "Ruby\n",
      "Rust\n",
      "Scala\n",
      "Swift\n"
     ]
    }
   ],
   "source": [
    "not_known = set(all_langs) - langs_known\n",
    "for lang in sorted(not_known):\n",
    "    print(lang)"
   ]
  },
  {
   "cell_type": "markdown",
   "id": "a503589b",
   "metadata": {},
   "source": [
    "## Rank languages by most commonly known\n",
    "Print each language as `\"{position}: {language} ({percent_known}%)\"`, in order from most to least known\n",
    "\n",
    "e.g. **1: Python (93%)**"
   ]
  },
  {
   "cell_type": "code",
   "execution_count": 5,
   "id": "5d8d72a7",
   "metadata": {},
   "outputs": [
    {
     "data": {
      "text/plain": [
       "Counter({'Python': 20,\n",
       "         'SQL': 17,\n",
       "         'C': 13,\n",
       "         'C++': 10,\n",
       "         'Java': 9,\n",
       "         'Perl': 7,\n",
       "         'JavaScript': 6,\n",
       "         'C#': 4,\n",
       "         'Visual Basic': 4,\n",
       "         'Pascal': 4,\n",
       "         'PHP': 2,\n",
       "         'R': 2,\n",
       "         'Matlab': 2,\n",
       "         'Kotlin': 2,\n",
       "         'TypeScript': 1,\n",
       "         'Cobol': 1,\n",
       "         'Lisp': 1,\n",
       "         'Assembly': 1,\n",
       "         'Haskell': 1,\n",
       "         'Ruby': 0,\n",
       "         'Go': 0,\n",
       "         'Rust': 0,\n",
       "         'Objective-C': 0,\n",
       "         'Swift': 0,\n",
       "         'Fortran': 0,\n",
       "         'Dart': 0,\n",
       "         'Scala': 0,\n",
       "         'Lua': 0,\n",
       "         'Delphi': 0,\n",
       "         'Julia': 0,\n",
       "         'Clojure': 0,\n",
       "         'Elixir': 0})"
      ]
     },
     "execution_count": 5,
     "metadata": {},
     "output_type": "execute_result"
    }
   ],
   "source": [
    "from collections import Counter\n",
    "\n",
    "langs_counter = Counter(all_langs)\n",
    "langs_counter.subtract(all_langs)\n",
    "\n",
    "for langs in entered_langs:\n",
    "    langs_counter.update(langs)\n",
    "\n",
    "langs_counter"
   ]
  },
  {
   "cell_type": "code",
   "execution_count": 7,
   "id": "9a441e0e",
   "metadata": {},
   "outputs": [
    {
     "name": "stdout",
     "output_type": "stream",
     "text": [
      "1: Python (74%)\n",
      "2: SQL (63%)\n",
      "3: C (48%)\n",
      "4: C++ (37%)\n",
      "5: Java (33%)\n",
      "6: Perl (26%)\n",
      "7: JavaScript (22%)\n",
      "8: C# (15%)\n",
      "9: Visual Basic (15%)\n",
      "10: Pascal (15%)\n",
      "11: PHP (7%)\n",
      "12: R (7%)\n",
      "13: Matlab (7%)\n",
      "14: Kotlin (7%)\n",
      "15: TypeScript (4%)\n",
      "16: Cobol (4%)\n",
      "17: Lisp (4%)\n",
      "18: Assembly (4%)\n",
      "19: Haskell (4%)\n",
      "20: Ruby (0%)\n",
      "21: Go (0%)\n",
      "22: Rust (0%)\n",
      "23: Objective-C (0%)\n",
      "24: Swift (0%)\n",
      "25: Fortran (0%)\n",
      "26: Dart (0%)\n",
      "27: Scala (0%)\n",
      "28: Lua (0%)\n",
      "29: Delphi (0%)\n",
      "30: Julia (0%)\n",
      "31: Clojure (0%)\n",
      "32: Elixir (0%)\n"
     ]
    }
   ],
   "source": [
    "for i, (lang, count) in enumerate(langs_counter.most_common(), start=1):\n",
    "     print(f\"{i}: {lang} ({round(count / num_responses * 100)}%)\")"
   ]
  },
  {
   "cell_type": "code",
   "execution_count": null,
   "id": "2aa2676e-a631-4d90-87c3-f1b0225b8e2c",
   "metadata": {},
   "outputs": [],
   "source": []
  }
 ],
 "metadata": {
  "jupytext": {
   "cell_metadata_filter": "-all",
   "formats": "auto:light,ipynb",
   "main_language": "python",
   "notebook_metadata_filter": "-all"
  },
  "kernelspec": {
   "display_name": "Python 3 (ipykernel)",
   "language": "python",
   "name": "python3"
  },
  "language_info": {
   "codemirror_mode": {
    "name": "ipython",
    "version": 3
   },
   "file_extension": ".py",
   "mimetype": "text/x-python",
   "name": "python",
   "nbconvert_exporter": "python",
   "pygments_lexer": "ipython3",
   "version": "3.11.4"
  }
 },
 "nbformat": 4,
 "nbformat_minor": 5
}
