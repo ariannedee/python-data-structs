{
 "cells": [
  {
   "cell_type": "markdown",
   "id": "fd700c46",
   "metadata": {},
   "source": [
    "# Survey analysis\n",
    "Analyse the results from the [languages survey](https://forms.gle/5b3mZRVcgAsoNG1FA)"
   ]
  },
  {
   "cell_type": "code",
   "execution_count": null,
   "id": "9e54fa12",
   "metadata": {},
   "outputs": [],
   "source": [
    "all_langs = ['Python', 'Java', 'JavaScript', 'TypeScript', 'PHP', 'SQL', 'C', 'C++', 'C#',\n",
    "             'Ruby', 'R', 'Matlab', 'Go', 'Rust', 'Objective-C', 'Swift', 'Visual Basic',\n",
    "             'Perl', 'Cobol', 'Fortran', 'Lisp', 'Assembly', 'Kotlin', 'Dart', 'Scala',\n",
    "             'Lua', 'Delphi', 'Haskell', 'Julia', 'Clojure', 'Elixir', 'Pascal']"
   ]
  },
  {
   "cell_type": "markdown",
   "id": "c10aec73",
   "metadata": {},
   "source": [
    "## Load data"
   ]
  },
  {
   "cell_type": "code",
   "execution_count": null,
   "id": "cb7efee0",
   "metadata": {},
   "outputs": [],
   "source": [
    "import csv\n",
    "\n",
    "responses = []\n",
    "\n",
    "with open('../data/Survey-2024-Jul.csv') as file:\n",
    "    file.readline()  # Ignore first line (header)\n",
    "    reader = csv.DictReader(file, fieldnames=(\n",
    "    'timestamp', 'languages', 'years'))  # list of dicts with keys passed into fieldnames\n",
    "    for line in reader:\n",
    "        langs = line['languages'].split(';')\n",
    "        responses.append(langs)\n",
    "\n",
    "print(responses)\n",
    "print(len(responses))"
   ]
  },
  {
   "cell_type": "markdown",
   "id": "9bc9bd8d",
   "metadata": {},
   "source": [
    "## Find number of languages known\n",
    "Print `\"{# known by class} / {# in list} languages known by this class (as %)\"`.\n",
    "\n",
    "E.g. **12/21 languages known by this class (57%)**"
   ]
  },
  {
   "cell_type": "code",
   "execution_count": null,
   "id": "57498e6d",
   "metadata": {
    "lines_to_next_cell": 2
   },
   "outputs": [],
   "source": [
    "langs_known = set()\n",
    "for response in responses:\n",
    "    langs_known.update(response)\n",
    "\n",
    "print(\n",
    "    f\"{len(langs_known)} / {len(all_langs)} languages known by this class ({round(len(langs_known) / len(all_langs) * 100)}%)\")"
   ]
  },
  {
   "cell_type": "markdown",
   "id": "c635bb38",
   "metadata": {},
   "source": [
    "## List languages not known by anyone in the class"
   ]
  },
  {
   "cell_type": "code",
   "execution_count": null,
   "id": "84e29eff",
   "metadata": {},
   "outputs": [],
   "source": [
    "not_known = set(all_langs) - langs_known\n",
    "print(\"Nobody knows:\")\n",
    "for lang in sorted(list(not_known)):\n",
    "    print(\"- \" + lang)"
   ]
  },
  {
   "cell_type": "markdown",
   "id": "ac63cb7e",
   "metadata": {},
   "source": [
    "## Rank languages by most commonly known\n",
    "Print each language as `\"{position}: {language} ({percent_known}%)\"`, in order from most to least known\n",
    "\n",
    "e.g. **1: Python (93%)**"
   ]
  },
  {
   "cell_type": "code",
   "execution_count": null,
   "id": "dd9c2fed",
   "metadata": {},
   "outputs": [],
   "source": [
    "langs_by_count = {}\n",
    "for lang in all_langs:\n",
    "    langs_by_count[lang] = 0\n",
    "\n",
    "for response in responses:\n",
    "    for lang in response:\n",
    "        langs_by_count[lang] += 1\n",
    "\n",
    "print(langs_by_count)"
   ]
  },
  {
   "cell_type": "code",
   "execution_count": null,
   "id": "6837af5e",
   "metadata": {},
   "outputs": [],
   "source": [
    "langs_count_list = list(langs_by_count.items())\n",
    "\n",
    "\n",
    "def tuple_sort(t):\n",
    "    return t[1]\n",
    "\n",
    "\n",
    "langs_count_list.sort(key=lambda t: t[1], reverse=True)\n",
    "print(langs_count_list)"
   ]
  },
  {
   "cell_type": "code",
   "execution_count": null,
   "id": "ae98a0dd",
   "metadata": {},
   "outputs": [],
   "source": [
    "for pos, (lang, count) in enumerate(langs_count_list, start=1):\n",
    "    print(f\"{pos}: {lang} ({round(count / len(responses) * 100)}%)\")"
   ]
  }
 ],
 "metadata": {
  "jupytext": {
   "cell_metadata_filter": "-all",
   "formats": "auto:light,ipynb",
   "main_language": "python",
   "notebook_metadata_filter": "-all"
  },
  "kernelspec": {
   "display_name": "Python 3 (ipykernel)",
   "language": "python",
   "name": "python3"
  },
  "language_info": {
   "codemirror_mode": {
    "name": "ipython",
    "version": 3
   },
   "file_extension": ".py",
   "mimetype": "text/x-python",
   "name": "python",
   "nbconvert_exporter": "python",
   "pygments_lexer": "ipython3",
   "version": "3.12.1"
  }
 },
 "nbformat": 4,
 "nbformat_minor": 5
}
