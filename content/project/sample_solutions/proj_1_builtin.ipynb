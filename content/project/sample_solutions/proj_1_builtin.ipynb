{
 "cells": [
  {
   "cell_type": "markdown",
   "id": "418ae846",
   "metadata": {},
   "source": [
    "# Survey analysis\n",
    "Analyse the results from the [languages survey](https://forms.gle/5b3mZRVcgAsoNG1FA)"
   ]
  },
  {
   "cell_type": "code",
   "execution_count": null,
   "id": "ae8310ba",
   "metadata": {},
   "outputs": [],
   "source": [
    "all_langs = ['Python', 'Java', 'JavaScript', 'TypeScript', 'PHP', 'SQL', 'C', 'C++', 'C#',\n",
    "             'Ruby', 'R', 'Matlab', 'Go', 'Rust', 'Objective-C', 'Swift', 'Visual Basic',\n",
    "             'Perl', 'Cobol', 'Fortran', 'Lisp', 'Assembly', 'Kotlin', 'Dart', 'Scala',\n",
    "             'Lua', 'Delphi', 'Haskell', 'Julia', 'Clojure', 'Elixir', 'Pascal']\n",
    "\n",
    "print(len(all_langs))"
   ]
  },
  {
   "cell_type": "markdown",
   "id": "47b8bb76",
   "metadata": {},
   "source": [
    "## Load data"
   ]
  },
  {
   "cell_type": "code",
   "execution_count": null,
   "id": "4247d90b",
   "metadata": {},
   "outputs": [],
   "source": [
    "import csv\n",
    "\n",
    "languages_known_by_person = []\n",
    "\n",
    "with open('data/Programming language survey.csv') as file:\n",
    "    file.readline()\n",
    "    reader = csv.DictReader(file, fieldnames=['timestamp', 'langs', 'years'])\n",
    "    for line in reader:\n",
    "        languages_known_by_person.append(line['langs'].split(', '))\n",
    "\n",
    "print(len(languages_known_by_person))\n",
    "print(languages_known_by_person[0])"
   ]
  },
  {
   "cell_type": "markdown",
   "id": "b66ae59d",
   "metadata": {},
   "source": [
    "## Find number of languages known\n",
    "Print `\"{# known by class} / {# in list} languages known by this class (as %)\"`.\n",
    "\n",
    "E.g. **12/21 languages known by this class (57%)**"
   ]
  },
  {
   "cell_type": "code",
   "execution_count": null,
   "id": "762f800b",
   "metadata": {},
   "outputs": [],
   "source": [
    "langs_known = set()\n",
    "for langs in languages_known_by_person:\n",
    "    langs_known.update(langs)\n",
    "\n",
    "print(\n",
    "    f\"{len(langs_known)} / {len(all_langs)} languages known by this class (as {round(len(langs_known) / len(all_langs) * 100)}%)\")"
   ]
  },
  {
   "cell_type": "markdown",
   "id": "7fa5ac41",
   "metadata": {},
   "source": [
    "## List languages not known by anyone in the class"
   ]
  },
  {
   "cell_type": "code",
   "execution_count": null,
   "id": "4112df63",
   "metadata": {},
   "outputs": [],
   "source": [
    "set(all_langs) - langs_known"
   ]
  },
  {
   "cell_type": "markdown",
   "id": "975095af",
   "metadata": {},
   "source": [
    "## Rank languages by most commonly known\n",
    "Print each language as `\"{position}: {language} ({percent_known}%)\"`, in order from most to least known\n",
    "\n",
    "e.g. **1: Python (93%)**"
   ]
  },
  {
   "cell_type": "code",
   "execution_count": null,
   "id": "8adcce0e",
   "metadata": {},
   "outputs": [],
   "source": [
    "langs_count = {}\n",
    "for langs in languages_known_by_person:\n",
    "    for lang in langs:\n",
    "        if lang not in langs_count:\n",
    "            langs_count[lang] = 0\n",
    "\n",
    "        langs_count[lang] += 1\n",
    "\n",
    "print(langs_count)"
   ]
  },
  {
   "cell_type": "code",
   "execution_count": null,
   "id": "685371b9",
   "metadata": {},
   "outputs": [],
   "source": [
    "langs_count_by_frequency = list(langs_count.items())\n",
    "\n",
    "langs_count_by_frequency.sort(key=lambda x: -x[1])\n",
    "langs_count_by_frequency"
   ]
  },
  {
   "cell_type": "code",
   "execution_count": null,
   "id": "dc593e01",
   "metadata": {},
   "outputs": [],
   "source": [
    "num_people = len(languages_known_by_person)\n",
    "for pos, (lang, count) in enumerate(langs_count_by_frequency, start=1):\n",
    "    print(f\"{pos}: {lang} ({round(count / num_people * 100)}%)\")"
   ]
  },
  {
   "cell_type": "code",
   "execution_count": null,
   "id": "a6786b1b",
   "metadata": {},
   "outputs": [],
   "source": []
  }
 ],
 "metadata": {
  "jupytext": {
   "cell_metadata_filter": "-all",
   "formats": "auto:light,ipynb",
   "main_language": "python",
   "notebook_metadata_filter": "-all"
  },
  "kernelspec": {
   "display_name": "Python 3 (ipykernel)",
   "language": "python",
   "name": "python3"
  },
  "language_info": {
   "codemirror_mode": {
    "name": "ipython",
    "version": 3
   },
   "file_extension": ".py",
   "mimetype": "text/x-python",
   "name": "python",
   "nbconvert_exporter": "python",
   "pygments_lexer": "ipython3",
   "version": "3.11.4"
  }
 },
 "nbformat": 4,
 "nbformat_minor": 5
}
