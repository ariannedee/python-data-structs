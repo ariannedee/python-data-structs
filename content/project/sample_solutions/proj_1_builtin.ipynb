{
 "cells": [
  {
   "cell_type": "markdown",
   "id": "9d86ef30",
   "metadata": {},
   "source": [
    "# Survey analysis\n",
    "Analyse the results from the [languages survey](https://forms.gle/5b3mZRVcgAsoNG1FA)"
   ]
  },
  {
   "cell_type": "code",
   "execution_count": null,
   "id": "801ca19d",
   "metadata": {},
   "outputs": [],
   "source": [
    "all_langs = ['Python', 'Java', 'JavaScript', 'TypeScript', 'PHP', 'SQL', 'C', 'C++', 'C#',\n",
    "             'Ruby', 'R', 'Matlab', 'Go', 'Rust', 'Objective-C', 'Swift', 'Visual Basic',\n",
    "             'Perl', 'Cobol', 'Fortran', 'Lisp', 'Assembly', 'Kotlin', 'Dart', 'Scala',\n",
    "             'Lua', 'Delphi', 'Haskell', 'Julia', 'Clojure', 'Elixir', 'Pascal']"
   ]
  },
  {
   "cell_type": "markdown",
   "id": "868dd80b",
   "metadata": {},
   "source": [
    "## Load data"
   ]
  },
  {
   "cell_type": "code",
   "execution_count": null,
   "id": "4ad9c4b4",
   "metadata": {},
   "outputs": [],
   "source": [
    "import csv\n",
    "from pprint import pprint\n",
    "\n",
    "language_responses = []\n",
    "num_responses = 0\n",
    "with open('../data/Survey-2024-Jul.csv') as file:\n",
    "    file.readline()  # Ignore first line (header)\n",
    "    reader = csv.DictReader(file, fieldnames=('timestamp', 'languages', 'years'))  # list of dicts with keys passed into fieldnames\n",
    "    for line in reader:\n",
    "        language_responses.extend(line['languages'].split(';'))\n",
    "        num_responses += 1\n",
    "\n",
    "print(language_responses[:10])\n",
    "print(num_responses)"
   ]
  },
  {
   "cell_type": "markdown",
   "id": "fbd49e64",
   "metadata": {},
   "source": [
    "## Find number of languages known\n",
    "Print `\"{# known by class} / {# in list} languages known by this class (as %)\"`.\n",
    "\n",
    "E.g. **12/21 languages known by this class (57%)**"
   ]
  },
  {
   "cell_type": "code",
   "execution_count": null,
   "id": "5734bef0",
   "metadata": {},
   "outputs": [],
   "source": [
    "langs_known = set(language_responses)\n",
    "print(f\"{len(langs_known)} / {len(all_langs)} languages known by this class ({round(len(langs_known)/len(all_langs) * 100)} %)\")"
   ]
  },
  {
   "cell_type": "markdown",
   "id": "b9824b6a",
   "metadata": {},
   "source": [
    "## List languages not known by anyone in the class"
   ]
  },
  {
   "cell_type": "code",
   "execution_count": null,
   "id": "d423f3bc",
   "metadata": {},
   "outputs": [],
   "source": [
    "set(all_langs) - langs_known"
   ]
  },
  {
   "cell_type": "markdown",
   "id": "39f83d3b",
   "metadata": {},
   "source": [
    "## Rank languages by most commonly known\n",
    "Print each language as `\"{position}: {language} ({percent_known}%)\"`, in order from most to least known\n",
    "\n",
    "e.g. **1: Python (93%)**"
   ]
  },
  {
   "cell_type": "code",
   "execution_count": null,
   "id": "e433e4bd",
   "metadata": {},
   "outputs": [],
   "source": [
    "langs_count = {}\n",
    "\n",
    "for lang in language_responses:\n",
    "    langs_count[lang] = langs_count.get(lang, 0) + 1\n",
    "\n",
    "pprint(langs_count)"
   ]
  },
  {
   "cell_type": "code",
   "execution_count": null,
   "id": "4a331dfe",
   "metadata": {},
   "outputs": [],
   "source": [
    "langs_count_list = list(langs_count.items())\n",
    "langs_count_list.sort(key=lambda t: -t[1])\n",
    "langs_count_list"
   ]
  },
  {
   "cell_type": "code",
   "execution_count": null,
   "id": "9e1f5feb",
   "metadata": {},
   "outputs": [],
   "source": [
    "for i, (lang, count) in enumerate(langs_count_list, start=1):\n",
    "    print(f\"{i}: {lang} ({round(count/num_responses * 100)}%)\")"
   ]
  }
 ],
 "metadata": {
  "jupytext": {
   "cell_metadata_filter": "-all",
   "formats": "auto:light,ipynb",
   "main_language": "python",
   "notebook_metadata_filter": "-all"
  },
  "kernelspec": {
   "display_name": "Python 3 (ipykernel)",
   "language": "python",
   "name": "python3"
  },
  "language_info": {
   "codemirror_mode": {
    "name": "ipython",
    "version": 3
   },
   "file_extension": ".py",
   "mimetype": "text/x-python",
   "name": "python",
   "nbconvert_exporter": "python",
   "pygments_lexer": "ipython3",
   "version": "3.11.4"
  }
 },
 "nbformat": 4,
 "nbformat_minor": 5
}
