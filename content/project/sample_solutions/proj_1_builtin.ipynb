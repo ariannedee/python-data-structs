{
 "cells": [
  {
   "cell_type": "markdown",
   "id": "86d92ddb",
   "metadata": {},
   "source": [
    "# Survey analysis\n",
    "Analyse the results from the [languages survey](https://forms.gle/5b3mZRVcgAsoNG1FA)"
   ]
  },
  {
   "cell_type": "code",
   "execution_count": 1,
   "id": "fcaea988",
   "metadata": {},
   "outputs": [],
   "source": [
    "all_langs = ['Python', 'Java', 'JavaScript', 'TypeScript', 'PHP', 'SQL', 'C', 'C++', 'C#',\n",
    "             'Ruby', 'R', 'Matlab', 'Go', 'Rust', 'Objective-C', 'Swift', 'Visual Basic',\n",
    "             'Perl', 'Cobol', 'Fortran', 'Lisp', 'Assembly', 'Kotlin', 'Dart', 'Scala',\n",
    "             'Lua', 'Delphi', 'Haskell', 'Julia', 'Clojure', 'Elixir', 'Pascal']"
   ]
  },
  {
   "cell_type": "markdown",
   "id": "663c3ff9",
   "metadata": {},
   "source": [
    "## Load data"
   ]
  },
  {
   "cell_type": "code",
   "execution_count": 2,
   "id": "120a7310",
   "metadata": {},
   "outputs": [
    {
     "name": "stdout",
     "output_type": "stream",
     "text": [
      "['Python', 'SQL', 'Python', 'C++', 'Python', 'SQL', 'C++', 'R', 'Matlab', 'Python', 'Java', 'Python', 'SQL', 'Perl', 'Python', 'Java', 'SQL', 'Python', 'Java', 'C', 'C++', 'Go', 'Cobol', 'JavaScript', 'Python', 'Python', 'Java', 'SQL', 'C', 'R', 'Python', 'Java', 'JavaScript', 'TypeScript', 'PHP', 'SQL', 'C', 'C++', 'C#', 'R', 'Go', 'Objective-C', 'Swift', 'Perl', 'Cobol', 'Assembly', 'Kotlin', 'Python', 'Java', 'JavaScript', 'PHP', 'SQL', 'C', 'C++', 'Cobol', 'Python', 'Java', 'JavaScript', 'TypeScript', 'SQL', 'Python', 'Python', 'SQL', 'Python', 'SQL', 'Python']\n",
      "19\n"
     ]
    }
   ],
   "source": [
    "import csv\n",
    "\n",
    "langs_known = []\n",
    "num_people = 0\n",
    "\n",
    "with open('../data/Survey-2024-May.csv') as file:\n",
    "    file.readline()  # Ignore first line (header)\n",
    "    reader = csv.DictReader(file, fieldnames=('timestamp', 'languages', 'years'))  # list of dicts with keys passed into fieldnames\n",
    "    for line in reader:\n",
    "        langs = line['languages'].split(';')\n",
    "        langs_known.extend(langs)\n",
    "        num_people += 1\n",
    "\n",
    "print(langs_known)\n",
    "print(num_people)"
   ]
  },
  {
   "cell_type": "markdown",
   "id": "7824b1a3",
   "metadata": {},
   "source": [
    "## Find number of languages known\n",
    "Print `\"{# known by class} / {# in list} languages known by this class (as %)\"`.\n",
    "\n",
    "E.g. **12/21 languages known by this class (57%)**"
   ]
  },
  {
   "cell_type": "code",
   "execution_count": 3,
   "id": "8cc00eda",
   "metadata": {
    "lines_to_next_cell": 2
   },
   "outputs": [
    {
     "data": {
      "text/plain": [
       "{'Assembly',\n",
       " 'C',\n",
       " 'C#',\n",
       " 'C++',\n",
       " 'Cobol',\n",
       " 'Go',\n",
       " 'Java',\n",
       " 'JavaScript',\n",
       " 'Kotlin',\n",
       " 'Matlab',\n",
       " 'Objective-C',\n",
       " 'PHP',\n",
       " 'Perl',\n",
       " 'Python',\n",
       " 'R',\n",
       " 'SQL',\n",
       " 'Swift',\n",
       " 'TypeScript'}"
      ]
     },
     "execution_count": 3,
     "metadata": {},
     "output_type": "execute_result"
    }
   ],
   "source": [
    "unique_langs_known = set(langs_known)\n",
    "unique_langs_known"
   ]
  },
  {
   "cell_type": "code",
   "execution_count": 4,
   "id": "b98f5d3b",
   "metadata": {},
   "outputs": [
    {
     "name": "stdout",
     "output_type": "stream",
     "text": [
      "18 / 32 languages known by this class (56.25%)\n"
     ]
    }
   ],
   "source": [
    "print(f\"{len(unique_langs_known)} / {len(all_langs)} languages known by this class ({len(unique_langs_known) / len(all_langs) * 100}%)\")"
   ]
  },
  {
   "cell_type": "markdown",
   "id": "f14acf80",
   "metadata": {},
   "source": [
    "## List languages not known by anyone in the class"
   ]
  },
  {
   "cell_type": "code",
   "execution_count": 5,
   "id": "9b63beff",
   "metadata": {},
   "outputs": [
    {
     "data": {
      "text/plain": [
       "{'Clojure',\n",
       " 'Dart',\n",
       " 'Delphi',\n",
       " 'Elixir',\n",
       " 'Fortran',\n",
       " 'Haskell',\n",
       " 'Julia',\n",
       " 'Lisp',\n",
       " 'Lua',\n",
       " 'Pascal',\n",
       " 'Ruby',\n",
       " 'Rust',\n",
       " 'Scala',\n",
       " 'Visual Basic'}"
      ]
     },
     "execution_count": 5,
     "metadata": {},
     "output_type": "execute_result"
    }
   ],
   "source": [
    "not_known = set(all_langs) - unique_langs_known\n",
    "not_known"
   ]
  },
  {
   "cell_type": "markdown",
   "id": "0a44b45c",
   "metadata": {},
   "source": [
    "## Rank languages by most commonly known\n",
    "Print each language as `\"{position}: {language} ({percent_known}%)\"`, in order from most to least known\n",
    "\n",
    "e.g. **1: Python (93%)**"
   ]
  },
  {
   "cell_type": "code",
   "execution_count": 6,
   "id": "b5287a30",
   "metadata": {},
   "outputs": [
    {
     "name": "stdout",
     "output_type": "stream",
     "text": [
      "{'Assembly': 1,\n",
      " 'C': 4,\n",
      " 'C#': 1,\n",
      " 'C++': 5,\n",
      " 'Cobol': 3,\n",
      " 'Go': 2,\n",
      " 'Java': 7,\n",
      " 'JavaScript': 4,\n",
      " 'Kotlin': 1,\n",
      " 'Matlab': 1,\n",
      " 'Objective-C': 1,\n",
      " 'PHP': 2,\n",
      " 'Perl': 2,\n",
      " 'Python': 16,\n",
      " 'R': 3,\n",
      " 'SQL': 10,\n",
      " 'Swift': 1,\n",
      " 'TypeScript': 2}\n"
     ]
    }
   ],
   "source": [
    "from pprint import pprint\n",
    "\n",
    "langs_count = {}\n",
    "for lang in langs_known:\n",
    "    if lang not in langs_count:\n",
    "        langs_count[lang] = 0\n",
    "    langs_count[lang] += 1\n",
    "\n",
    "pprint(langs_count)"
   ]
  },
  {
   "cell_type": "code",
   "execution_count": 7,
   "id": "dc6a1f61",
   "metadata": {},
   "outputs": [
    {
     "data": {
      "text/plain": [
       "[('Python', 16),\n",
       " ('SQL', 10),\n",
       " ('Java', 7),\n",
       " ('C++', 5),\n",
       " ('C', 4),\n",
       " ('JavaScript', 4),\n",
       " ('R', 3),\n",
       " ('Cobol', 3),\n",
       " ('Perl', 2),\n",
       " ('Go', 2),\n",
       " ('TypeScript', 2),\n",
       " ('PHP', 2),\n",
       " ('Matlab', 1),\n",
       " ('C#', 1),\n",
       " ('Objective-C', 1),\n",
       " ('Swift', 1),\n",
       " ('Assembly', 1),\n",
       " ('Kotlin', 1)]"
      ]
     },
     "execution_count": 7,
     "metadata": {},
     "output_type": "execute_result"
    }
   ],
   "source": [
    "lang_count_list = list(langs_count.items())\n",
    "lang_count_list.sort(key=lambda l: l[1], reverse=True)\n",
    "lang_count_list"
   ]
  },
  {
   "cell_type": "code",
   "execution_count": 8,
   "id": "07dae658",
   "metadata": {},
   "outputs": [
    {
     "name": "stdout",
     "output_type": "stream",
     "text": [
      "1: Python (84%)\n",
      "2: SQL (53%)\n",
      "3: Java (37%)\n",
      "4: C++ (26%)\n",
      "5: C (21%)\n",
      "6: JavaScript (21%)\n",
      "7: R (16%)\n",
      "8: Cobol (16%)\n",
      "9: Perl (11%)\n",
      "10: Go (11%)\n",
      "11: TypeScript (11%)\n",
      "12: PHP (11%)\n",
      "13: Matlab (5%)\n",
      "14: C# (5%)\n",
      "15: Objective-C (5%)\n",
      "16: Swift (5%)\n",
      "17: Assembly (5%)\n",
      "18: Kotlin (5%)\n"
     ]
    }
   ],
   "source": [
    "for pos, (lang, count) in enumerate(lang_count_list, start=1):\n",
    "    print(f\"{pos}: {lang} ({round(count / num_people * 100)}%)\")"
   ]
  }
 ],
 "metadata": {
  "jupytext": {
   "cell_metadata_filter": "-all",
   "formats": "auto:light,ipynb",
   "main_language": "python",
   "notebook_metadata_filter": "-all"
  },
  "kernelspec": {
   "display_name": "Python 3 (ipykernel)",
   "language": "python",
   "name": "python3"
  },
  "language_info": {
   "codemirror_mode": {
    "name": "ipython",
    "version": 3
   },
   "file_extension": ".py",
   "mimetype": "text/x-python",
   "name": "python",
   "nbconvert_exporter": "python",
   "pygments_lexer": "ipython3",
   "version": "3.12.1"
  }
 },
 "nbformat": 4,
 "nbformat_minor": 5
}
