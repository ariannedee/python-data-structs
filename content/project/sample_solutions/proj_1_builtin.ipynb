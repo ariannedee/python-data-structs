{
 "cells": [
  {
   "cell_type": "markdown",
   "id": "86d92ddb",
   "metadata": {},
   "source": [
    "# Survey analysis\n",
    "Analyse the results from the [languages survey](https://forms.gle/5b3mZRVcgAsoNG1FA)"
   ]
  },
  {
   "cell_type": "code",
   "execution_count": null,
   "id": "fcaea988",
   "metadata": {},
   "outputs": [],
   "source": [
    "all_langs = ['Python', 'Java', 'JavaScript', 'TypeScript', 'PHP', 'SQL', 'C', 'C++', 'C#',\n",
    "             'Ruby', 'R', 'Matlab', 'Go', 'Rust', 'Objective-C', 'Swift', 'Visual Basic',\n",
    "             'Perl', 'Cobol', 'Fortran', 'Lisp', 'Assembly', 'Kotlin', 'Dart', 'Scala',\n",
    "             'Lua', 'Delphi', 'Haskell', 'Julia', 'Clojure', 'Elixir', 'Pascal']"
   ]
  },
  {
   "cell_type": "markdown",
   "id": "663c3ff9",
   "metadata": {},
   "source": [
    "## Load data"
   ]
  },
  {
   "cell_type": "code",
   "execution_count": null,
   "id": "120a7310",
   "metadata": {},
   "outputs": [],
   "source": [
    "import csv\n",
    "\n",
    "langs_entered = []\n",
    "num_responses = 0\n",
    "\n",
    "with open('../data/Survey-2024-Mar.csv') as file:\n",
    "    file.readline()  # Ignore first line (header)\n",
    "    reader = csv.DictReader(file, fieldnames=('timestamp', 'languages', 'years'))  # list of dicts with keys passed into fieldnames\n",
    "    for line in reader:\n",
    "        langs_known = line['languages'].split(';')\n",
    "        langs_entered += langs_known\n",
    "        num_responses += 1\n",
    "\n",
    "print(num_responses)\n",
    "print(langs_entered)"
   ]
  },
  {
   "cell_type": "markdown",
   "id": "7824b1a3",
   "metadata": {},
   "source": [
    "## Find number of languages known\n",
    "Print `\"{# known by class} / {# in list} languages known by this class (as %)\"`.\n",
    "\n",
    "E.g. **12/21 languages known by this class (57%)**"
   ]
  },
  {
   "cell_type": "code",
   "execution_count": null,
   "id": "8cc00eda",
   "metadata": {
    "lines_to_next_cell": 2
   },
   "outputs": [],
   "source": [
    "langs_known = set(langs_entered)\n",
    "num_known = len(langs_known)\n",
    "num_langs = len(all_langs)\n",
    "print(f\"{num_known} / {num_langs} languages known by this class ({round(num_known / num_langs * 100)}%)\")"
   ]
  },
  {
   "cell_type": "markdown",
   "id": "f14acf80",
   "metadata": {},
   "source": [
    "## List languages not known by anyone in the class"
   ]
  },
  {
   "cell_type": "code",
   "execution_count": null,
   "id": "9b63beff",
   "metadata": {},
   "outputs": [],
   "source": [
    "not_known = set(all_langs) - langs_known\n",
    "for lang in sorted(not_known):\n",
    "    print(lang)"
   ]
  },
  {
   "cell_type": "markdown",
   "id": "0a44b45c",
   "metadata": {},
   "source": [
    "## Rank languages by most commonly known\n",
    "Print each language as `\"{position}: {language} ({percent_known}%)\"`, in order from most to least known\n",
    "\n",
    "e.g. **1: Python (93%)**"
   ]
  },
  {
   "cell_type": "code",
   "execution_count": null,
   "id": "b5287a30",
   "metadata": {},
   "outputs": [],
   "source": [
    "langs_by_count = {}\n",
    "\n",
    "for lang in langs_entered:\n",
    "    if lang not in langs_by_count:\n",
    "        langs_by_count[lang] = 0\n",
    "    langs_by_count[lang] += 1\n",
    "\n",
    "langs_by_count"
   ]
  },
  {
   "cell_type": "code",
   "execution_count": null,
   "id": "dc6a1f61",
   "metadata": {},
   "outputs": [],
   "source": [
    "langs_count_list = list(langs_by_count.items())\n",
    "sorted_langs_count = sorted(langs_count_list, key=lambda l: l[1], reverse=True)\n",
    "for i, (lang, count) in enumerate(sorted_langs_count, start=1):\n",
    "    print(f\"{i}: {lang} ({round(count / num_langs * 100)}%)\")"
   ]
  },
  {
   "cell_type": "code",
   "execution_count": null,
   "id": "07dae658",
   "metadata": {},
   "outputs": [],
   "source": []
  }
 ],
 "metadata": {
  "jupytext": {
   "cell_metadata_filter": "-all",
   "formats": "auto:light,ipynb",
   "main_language": "python",
   "notebook_metadata_filter": "-all"
  },
  "kernelspec": {
   "display_name": "Python 3 (ipykernel)",
   "language": "python",
   "name": "python3"
  },
  "language_info": {
   "codemirror_mode": {
    "name": "ipython",
    "version": 3
   },
   "file_extension": ".py",
   "mimetype": "text/x-python",
   "name": "python",
   "nbconvert_exporter": "python",
   "pygments_lexer": "ipython3",
   "version": "3.11.4"
  }
 },
 "nbformat": 4,
 "nbformat_minor": 5
}
