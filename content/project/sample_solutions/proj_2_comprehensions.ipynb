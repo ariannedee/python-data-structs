{
 "cells": [
  {
   "cell_type": "markdown",
   "id": "055c860b",
   "metadata": {},
   "source": [
    "# Survey analysis\n",
    "Analyse the results from the [languages survey](https://forms.gle/5b3mZRVcgAsoNG1FA)"
   ]
  },
  {
   "cell_type": "code",
   "execution_count": 1,
   "id": "9d0908cf",
   "metadata": {},
   "outputs": [],
   "source": [
    "all_langs = ['Python', 'Java', 'JavaScript', 'TypeScript', 'PHP', 'SQL', 'C', 'C++', 'C#',\n",
    "             'Ruby', 'R', 'Matlab', 'Go', 'Rust', 'Objective-C', 'Swift', 'Visual Basic',\n",
    "             'Perl', 'Cobol', 'Fortran', 'Lisp', 'Assembly', 'Kotlin', 'Dart', 'Scala',\n",
    "             'Lua', 'Delphi', 'Haskell', 'Julia', 'Clojure', 'Elixir', 'Pascal']"
   ]
  },
  {
   "cell_type": "markdown",
   "id": "b6e4473c",
   "metadata": {},
   "source": [
    "## Load data"
   ]
  },
  {
   "cell_type": "code",
   "execution_count": 2,
   "id": "7175f462",
   "metadata": {},
   "outputs": [
    {
     "name": "stdout",
     "output_type": "stream",
     "text": [
      "[['Python', 'Java', 'JavaScript', 'SQL', 'C', 'Ruby', 'R', 'Objective-C'], ['Python', 'JavaScript', 'SQL', 'R', 'Visual Basic'], ['Python', 'JavaScript', 'C', 'C++', 'Matlab'], ['Python'], ['Java'], ['Python', 'SQL'], ['Python', 'Java', 'Go', 'Perl', 'Elixir'], ['Python', 'Matlab', 'Perl', 'Lisp', 'Assembly'], ['Python', 'JavaScript', 'PHP', 'SQL', 'Go'], ['Python', 'Java', 'JavaScript', 'TypeScript'], ['Python'], ['Python', 'C', 'C++', 'Matlab'], ['Python', 'Java', 'JavaScript', 'C', 'C++', 'Ruby', 'R', 'Go', 'Perl', 'Fortran', 'Lisp', 'Assembly', 'Lua', 'Haskell', 'Pascal'], ['Python', 'Java', 'C++', 'C#', 'Go', 'Perl', 'Fortran', 'Assembly', 'Scala'], ['Python', 'Java', 'SQL', 'C', 'C++', 'C#', 'Visual Basic', 'Fortran', 'Lisp', 'Pascal'], ['SQL', 'Cobol'], ['Python', 'SQL', 'R'], ['Python', 'Java', 'C', 'Lua'], ['SQL'], ['JavaScript'], ['Python', 'Java'], ['Python', 'Java', 'JavaScript', 'SQL', 'C']]\n",
      "22\n"
     ]
    }
   ],
   "source": [
    "import csv\n",
    "\n",
    "with open('../data/Survey-2024-Jul.csv') as file:\n",
    "    file.readline()  # Ignore first line (header)\n",
    "    reader = csv.DictReader(file, fieldnames=(\n",
    "    'timestamp', 'languages', 'years'))  # list of dicts with keys passed into fieldnames\n",
    "    responses = [line['languages'].split(';') for line in reader]\n",
    "\n",
    "print(responses)\n",
    "print(len(responses))"
   ]
  },
  {
   "cell_type": "markdown",
   "id": "58290b58",
   "metadata": {},
   "source": [
    "## Find number of languages known\n",
    "Print `\"{# known by class} / {# in list} languages known by this class (as %)\"`.\n",
    "\n",
    "E.g. **12/21 languages known by this class (57%)**"
   ]
  },
  {
   "cell_type": "code",
   "execution_count": 3,
   "id": "33126e76",
   "metadata": {
    "lines_to_next_cell": 2
   },
   "outputs": [
    {
     "name": "stdout",
     "output_type": "stream",
     "text": [
      "25 / 32 languages known by this class (78%)\n"
     ]
    }
   ],
   "source": [
    "langs_known = {lang for langs in responses for lang in langs}\n",
    "\n",
    "print(\n",
    "    f\"{len(langs_known)} / {len(all_langs)} languages known by this class ({round(len(langs_known) / len(all_langs) * 100)}%)\")"
   ]
  },
  {
   "cell_type": "markdown",
   "id": "55fc2064",
   "metadata": {},
   "source": [
    "## List languages not known by anyone in the class"
   ]
  },
  {
   "cell_type": "code",
   "execution_count": 4,
   "id": "026956bf",
   "metadata": {},
   "outputs": [
    {
     "name": "stdout",
     "output_type": "stream",
     "text": [
      "Nobody knows:\n",
      "- Clojure\n",
      "- Dart\n",
      "- Delphi\n",
      "- Julia\n",
      "- Kotlin\n",
      "- Rust\n",
      "- Swift\n"
     ]
    }
   ],
   "source": [
    "not_known = set(all_langs) - langs_known\n",
    "print(\"Nobody knows:\")\n",
    "for lang in sorted(list(not_known)):\n",
    "    print(\"- \" + lang)"
   ]
  },
  {
   "cell_type": "markdown",
   "id": "2db4a188",
   "metadata": {},
   "source": [
    "## Rank languages by most commonly known\n",
    "Print each language as `\"{position}: {language} ({percent_known}%)\"`, in order from most to least known\n",
    "\n",
    "e.g. **1: Python (93%)**"
   ]
  },
  {
   "cell_type": "code",
   "execution_count": 5,
   "id": "90695a5c",
   "metadata": {},
   "outputs": [
    {
     "name": "stdout",
     "output_type": "stream",
     "text": [
      "{'Python': 18, 'Java': 10, 'JavaScript': 8, 'TypeScript': 1, 'PHP': 1, 'SQL': 9, 'C': 7, 'C++': 5, 'C#': 2, 'Ruby': 2, 'R': 4, 'Matlab': 3, 'Go': 4, 'Rust': 0, 'Objective-C': 1, 'Swift': 0, 'Visual Basic': 2, 'Perl': 4, 'Cobol': 1, 'Fortran': 3, 'Lisp': 3, 'Assembly': 3, 'Kotlin': 0, 'Dart': 0, 'Scala': 1, 'Lua': 2, 'Delphi': 0, 'Haskell': 1, 'Julia': 0, 'Clojure': 0, 'Elixir': 1, 'Pascal': 2}\n"
     ]
    }
   ],
   "source": [
    "langs_by_count = {lang: 0 for lang in all_langs}\n",
    "\n",
    "for response in responses:\n",
    "    for lang in response:\n",
    "        langs_by_count[lang] += 1\n",
    "\n",
    "print(langs_by_count)"
   ]
  },
  {
   "cell_type": "code",
   "execution_count": 6,
   "id": "25a6fa96",
   "metadata": {},
   "outputs": [
    {
     "name": "stdout",
     "output_type": "stream",
     "text": [
      "[('Python', 18), ('Java', 10), ('SQL', 9), ('JavaScript', 8), ('C', 7), ('C++', 5), ('R', 4), ('Go', 4), ('Perl', 4), ('Matlab', 3), ('Fortran', 3), ('Lisp', 3), ('Assembly', 3), ('C#', 2), ('Ruby', 2), ('Visual Basic', 2), ('Lua', 2), ('Pascal', 2), ('TypeScript', 1), ('PHP', 1), ('Objective-C', 1), ('Cobol', 1), ('Scala', 1), ('Haskell', 1), ('Elixir', 1), ('Rust', 0), ('Swift', 0), ('Kotlin', 0), ('Dart', 0), ('Delphi', 0), ('Julia', 0), ('Clojure', 0)]\n"
     ]
    }
   ],
   "source": [
    "langs_count_list = list(langs_by_count.items())\n",
    "\n",
    "langs_count_list.sort(key=lambda t: t[1], reverse=True)\n",
    "print(langs_count_list)"
   ]
  },
  {
   "cell_type": "code",
   "execution_count": 7,
   "id": "992a2033",
   "metadata": {},
   "outputs": [
    {
     "name": "stdout",
     "output_type": "stream",
     "text": [
      "1: Python (82%)\n",
      "2: Java (45%)\n",
      "3: SQL (41%)\n",
      "4: JavaScript (36%)\n",
      "5: C (32%)\n",
      "6: C++ (23%)\n",
      "7: R (18%)\n",
      "8: Go (18%)\n",
      "9: Perl (18%)\n",
      "10: Matlab (14%)\n",
      "11: Fortran (14%)\n",
      "12: Lisp (14%)\n",
      "13: Assembly (14%)\n",
      "14: C# (9%)\n",
      "15: Ruby (9%)\n",
      "16: Visual Basic (9%)\n",
      "17: Lua (9%)\n",
      "18: Pascal (9%)\n",
      "19: TypeScript (5%)\n",
      "20: PHP (5%)\n",
      "21: Objective-C (5%)\n",
      "22: Cobol (5%)\n",
      "23: Scala (5%)\n",
      "24: Haskell (5%)\n",
      "25: Elixir (5%)\n",
      "26: Rust (0%)\n",
      "27: Swift (0%)\n",
      "28: Kotlin (0%)\n",
      "29: Dart (0%)\n",
      "30: Delphi (0%)\n",
      "31: Julia (0%)\n",
      "32: Clojure (0%)\n"
     ]
    }
   ],
   "source": [
    "for pos, (lang, count) in enumerate(langs_count_list, start=1):\n",
    "    print(f\"{pos}: {lang} ({round(count / len(responses) * 100)}%)\")"
   ]
  }
 ],
 "metadata": {
  "jupytext": {
   "cell_metadata_filter": "-all",
   "formats": "auto:light,ipynb",
   "main_language": "python",
   "notebook_metadata_filter": "-all"
  },
  "kernelspec": {
   "display_name": "Python 3 (ipykernel)",
   "language": "python",
   "name": "python3"
  },
  "language_info": {
   "codemirror_mode": {
    "name": "ipython",
    "version": 3
   },
   "file_extension": ".py",
   "mimetype": "text/x-python",
   "name": "python",
   "nbconvert_exporter": "python",
   "pygments_lexer": "ipython3",
   "version": "3.12.1"
  }
 },
 "nbformat": 4,
 "nbformat_minor": 5
}
