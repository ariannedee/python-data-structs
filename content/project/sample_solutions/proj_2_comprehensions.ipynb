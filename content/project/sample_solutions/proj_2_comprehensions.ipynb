{
 "cells": [
  {
   "cell_type": "markdown",
   "id": "e078a990",
   "metadata": {},
   "source": [
    "# Survey analysis\n",
    "Analyse the results from the [languages survey](https://forms.gle/5b3mZRVcgAsoNG1FA)"
   ]
  },
  {
   "cell_type": "code",
   "execution_count": 1,
   "id": "5792707b",
   "metadata": {},
   "outputs": [],
   "source": [
    "all_langs = ['Python', 'Java', 'JavaScript', 'TypeScript', 'PHP', 'SQL', 'C', 'C++', 'C#',\n",
    "             'Ruby', 'R', 'Matlab', 'Go', 'Rust', 'Objective-C', 'Swift', 'Visual Basic',\n",
    "             'Perl', 'Cobol', 'Fortran', 'Lisp', 'Assembly', 'Kotlin', 'Dart', 'Scala',\n",
    "             'Lua', 'Delphi', 'Haskell', 'Julia', 'Clojure', 'Elixir', 'Pascal']"
   ]
  },
  {
   "cell_type": "markdown",
   "id": "307d9910",
   "metadata": {},
   "source": [
    "## Load data"
   ]
  },
  {
   "cell_type": "code",
   "execution_count": 2,
   "id": "678479dd",
   "metadata": {},
   "outputs": [
    {
     "name": "stdout",
     "output_type": "stream",
     "text": [
      "27\n",
      "[['Python', 'C'], ['Python', 'JavaScript', 'C', 'Perl'], ['Python'], ['Python', 'SQL'], ['Python', 'Java', 'JavaScript', 'SQL', 'C', 'C++', 'Perl', 'Kotlin', 'Pascal'], ['Python', 'C'], ['C++'], ['Python', 'PHP', 'SQL', 'Visual Basic'], ['Python', 'JavaScript', 'SQL', 'R'], ['Python', 'Java', 'JavaScript', 'TypeScript', 'SQL', 'C', 'R', 'Perl', 'Lisp', 'Haskell'], ['Java', 'SQL', 'C', 'C#', 'Assembly'], ['Python', 'SQL'], ['Python', 'SQL', 'C', 'C++', 'Perl'], ['Python', 'SQL', 'C', 'C++', 'C#', 'Visual Basic', 'Pascal'], ['Java'], ['Python', 'Java', 'JavaScript', 'SQL', 'C'], ['Python', 'JavaScript', 'SQL'], ['C', 'C++'], ['Java', 'SQL'], ['Java', 'Kotlin'], ['Python', 'SQL', 'C++', 'Perl', 'Cobol', 'Pascal'], ['Python', 'SQL', 'C', 'C++', 'C#', 'Matlab', 'Pascal'], ['Python', 'SQL', 'Visual Basic'], ['Python', 'C', 'C++', 'C#', 'Matlab', 'Perl'], ['Python', 'PHP', 'SQL', 'Visual Basic'], ['Python', 'Java', 'C', 'C++', 'Perl'], ['Java', 'SQL', 'C++']]\n"
     ]
    }
   ],
   "source": [
    "import csv\n",
    "\n",
    "langs_entered = []\n",
    "\n",
    "with open('../data/Survey-2024-Mar.csv') as file:\n",
    "    file.readline()  # Ignore first line (header)\n",
    "    reader = csv.DictReader(file, fieldnames=('timestamp', 'languages', 'years'))  # list of dicts with keys passed into fieldnames\n",
    "    # langs_entered = [lang for line in reader for lang in line['languages'].split(';')]  # flattened list of langs known\n",
    "    entered_langs = [line['languages'].split(';') for line in reader]\n",
    "\n",
    "num_responses = len(entered_langs)\n",
    "print(num_responses)\n",
    "print(entered_langs)"
   ]
  },
  {
   "cell_type": "markdown",
   "id": "1ee0cbbb",
   "metadata": {},
   "source": [
    "## Find number of languages known\n",
    "Print `\"{# known by class} / {# in list} languages known by this class (as %)\"`.\n",
    "\n",
    "E.g. **12/21 languages known by this class (57%)**"
   ]
  },
  {
   "cell_type": "code",
   "execution_count": 3,
   "id": "987cda60",
   "metadata": {
    "lines_to_next_cell": 2
   },
   "outputs": [
    {
     "name": "stdout",
     "output_type": "stream",
     "text": [
      "19 / 32 languages known by this class (59%)\n"
     ]
    }
   ],
   "source": [
    "langs_known = {lang for langs in entered_langs for lang in langs}\n",
    "num_known = len(langs_known)\n",
    "num_langs = len(all_langs)\n",
    "print(f\"{num_known} / {num_langs} languages known by this class ({round(num_known / num_langs * 100)}%)\")"
   ]
  },
  {
   "cell_type": "markdown",
   "id": "39ce9232",
   "metadata": {},
   "source": [
    "## List languages not known by anyone in the class"
   ]
  },
  {
   "cell_type": "code",
   "execution_count": 4,
   "id": "58329f87",
   "metadata": {},
   "outputs": [
    {
     "name": "stdout",
     "output_type": "stream",
     "text": [
      "Clojure\n",
      "Dart\n",
      "Delphi\n",
      "Elixir\n",
      "Fortran\n",
      "Go\n",
      "Julia\n",
      "Lua\n",
      "Objective-C\n",
      "Ruby\n",
      "Rust\n",
      "Scala\n",
      "Swift\n"
     ]
    }
   ],
   "source": [
    "not_known = set(all_langs) - langs_known\n",
    "for lang in sorted(not_known):\n",
    "    print(lang)"
   ]
  },
  {
   "cell_type": "markdown",
   "id": "3866e571",
   "metadata": {},
   "source": [
    "## Rank languages by most commonly known\n",
    "Print each language as `\"{position}: {language} ({percent_known}%)\"`, in order from most to least known\n",
    "\n",
    "e.g. **1: Python (93%)**"
   ]
  },
  {
   "cell_type": "code",
   "execution_count": 5,
   "id": "c6a6ea24",
   "metadata": {},
   "outputs": [
    {
     "data": {
      "text/plain": [
       "{'Python': 20,\n",
       " 'Java': 9,\n",
       " 'JavaScript': 6,\n",
       " 'TypeScript': 1,\n",
       " 'PHP': 2,\n",
       " 'SQL': 17,\n",
       " 'C': 13,\n",
       " 'C++': 10,\n",
       " 'C#': 4,\n",
       " 'Ruby': 0,\n",
       " 'R': 2,\n",
       " 'Matlab': 2,\n",
       " 'Go': 0,\n",
       " 'Rust': 0,\n",
       " 'Objective-C': 0,\n",
       " 'Swift': 0,\n",
       " 'Visual Basic': 4,\n",
       " 'Perl': 7,\n",
       " 'Cobol': 1,\n",
       " 'Fortran': 0,\n",
       " 'Lisp': 1,\n",
       " 'Assembly': 1,\n",
       " 'Kotlin': 2,\n",
       " 'Dart': 0,\n",
       " 'Scala': 0,\n",
       " 'Lua': 0,\n",
       " 'Delphi': 0,\n",
       " 'Haskell': 1,\n",
       " 'Julia': 0,\n",
       " 'Clojure': 0,\n",
       " 'Elixir': 0,\n",
       " 'Pascal': 4}"
      ]
     },
     "execution_count": 5,
     "metadata": {},
     "output_type": "execute_result"
    }
   ],
   "source": [
    "langs_by_count = {lang: 0 for lang in all_langs}\n",
    "\n",
    "for langs in entered_langs:\n",
    "    for lang in langs:\n",
    "        langs_by_count[lang] += 1\n",
    "\n",
    "langs_by_count"
   ]
  },
  {
   "cell_type": "code",
   "execution_count": 6,
   "id": "959af012",
   "metadata": {},
   "outputs": [
    {
     "name": "stdout",
     "output_type": "stream",
     "text": [
      "1: Python (74%)\n",
      "2: SQL (63%)\n",
      "3: C (48%)\n",
      "4: C++ (37%)\n",
      "5: Java (33%)\n",
      "6: Perl (26%)\n",
      "7: JavaScript (22%)\n",
      "8: C# (15%)\n",
      "9: Visual Basic (15%)\n",
      "10: Pascal (15%)\n",
      "11: PHP (7%)\n",
      "12: R (7%)\n",
      "13: Matlab (7%)\n",
      "14: Kotlin (7%)\n",
      "15: TypeScript (4%)\n",
      "16: Cobol (4%)\n",
      "17: Lisp (4%)\n",
      "18: Assembly (4%)\n",
      "19: Haskell (4%)\n",
      "20: Ruby (0%)\n",
      "21: Go (0%)\n",
      "22: Rust (0%)\n",
      "23: Objective-C (0%)\n",
      "24: Swift (0%)\n",
      "25: Fortran (0%)\n",
      "26: Dart (0%)\n",
      "27: Scala (0%)\n",
      "28: Lua (0%)\n",
      "29: Delphi (0%)\n",
      "30: Julia (0%)\n",
      "31: Clojure (0%)\n",
      "32: Elixir (0%)\n"
     ]
    }
   ],
   "source": [
    "langs_count_list = list(langs_by_count.items())\n",
    "sorted_langs_count = sorted(langs_count_list, key=lambda l: l[1], reverse=True)\n",
    "for i, (lang, count) in enumerate(sorted_langs_count, start=1):\n",
    "    print(f\"{i}: {lang} ({round(count / num_responses * 100)}%)\")"
   ]
  },
  {
   "cell_type": "code",
   "execution_count": null,
   "id": "949832e2-874d-4d64-9fe4-fdf7377099bc",
   "metadata": {},
   "outputs": [],
   "source": []
  }
 ],
 "metadata": {
  "jupytext": {
   "cell_metadata_filter": "-all",
   "formats": "auto:light,ipynb",
   "main_language": "python",
   "notebook_metadata_filter": "-all"
  },
  "kernelspec": {
   "display_name": "Python 3 (ipykernel)",
   "language": "python",
   "name": "python3"
  },
  "language_info": {
   "codemirror_mode": {
    "name": "ipython",
    "version": 3
   },
   "file_extension": ".py",
   "mimetype": "text/x-python",
   "name": "python",
   "nbconvert_exporter": "python",
   "pygments_lexer": "ipython3",
   "version": "3.11.4"
  }
 },
 "nbformat": 4,
 "nbformat_minor": 5
}
