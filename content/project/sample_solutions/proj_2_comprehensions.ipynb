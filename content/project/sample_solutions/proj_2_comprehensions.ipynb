{
 "cells": [
  {
   "cell_type": "markdown",
   "id": "36e8e1e1",
   "metadata": {},
   "source": [
    "# Survey analysis\n",
    "Analyse the results from the [languages survey](https://forms.gle/5b3mZRVcgAsoNG1FA)"
   ]
  },
  {
   "cell_type": "code",
   "execution_count": 1,
   "id": "2f5f7868",
   "metadata": {},
   "outputs": [],
   "source": [
    "all_langs = ['Python', 'Java', 'JavaScript', 'TypeScript', 'PHP', 'SQL', 'C', 'C++', 'C#',\n",
    "             'Ruby', 'R', 'Matlab', 'Go', 'Rust', 'Objective-C', 'Swift', 'Visual Basic',\n",
    "             'Perl', 'Cobol', 'Fortran', 'Lisp', 'Assembly', 'Kotlin', 'Dart', 'Scala',\n",
    "             'Lua', 'Delphi', 'Haskell', 'Julia', 'Clojure', 'Elixir', 'Pascal']"
   ]
  },
  {
   "cell_type": "markdown",
   "id": "e25475b2",
   "metadata": {},
   "source": [
    "## Load data"
   ]
  },
  {
   "cell_type": "code",
   "execution_count": 2,
   "id": "d705108a",
   "metadata": {},
   "outputs": [
    {
     "name": "stdout",
     "output_type": "stream",
     "text": [
      "[['Python', 'SQL'], ['Python'], ['Python'], ['Java', 'JavaScript', 'SQL', 'C', 'C++', 'Visual Basic', 'Perl', 'Cobol', 'Fortran', 'Assembly', 'Pascal'], ['Python', 'Perl'], ['JavaScript', 'TypeScript', 'PHP', 'SQL', 'C++', 'Visual Basic', 'Perl'], ['Python', 'Java', 'C++', 'Perl'], ['Python', 'Java', 'JavaScript', 'TypeScript', 'PHP', 'SQL', 'Ruby', 'R', 'Objective-C', 'Swift', 'Perl', 'Kotlin', 'Dart'], ['Python', 'Java', 'JavaScript', 'SQL', 'C', 'C++', 'Matlab', 'Visual Basic', 'Cobol', 'Fortran', 'Assembly'], ['Java', 'JavaScript'], ['Python', 'Java', 'JavaScript', 'SQL', 'C', 'C++'], ['Python', 'SQL', 'C', 'R'], ['Java', 'C++'], ['SQL', 'R'], ['Python', 'Java'], ['Ruby', 'Fortran', 'Lisp'], ['Python', 'Java', 'C#', 'Ruby', 'Visual Basic', 'Cobol', 'Pascal'], ['SQL'], ['Python', 'Java', 'JavaScript', 'C', 'Rust'], ['Python', 'JavaScript', 'Perl'], ['Java', 'SQL', 'C#'], ['Python', 'Java'], ['Python', 'JavaScript', 'SQL', 'C'], ['Python', 'SQL', 'C', 'C++'], ['Python', 'Java', 'JavaScript']]\n",
      "25\n"
     ]
    }
   ],
   "source": [
    "import csv\n",
    "\n",
    "num_attendees = 0\n",
    "with open('../data/Survey-2024-Jan.csv') as file:\n",
    "    file.readline()  # Ignore first line (header)\n",
    "    reader = csv.DictReader(file, fieldnames=('timestamp', 'languages', 'years'))  # list of dicts with keys passed into fieldnames\n",
    "    langs_known = [line['languages'].split(';') for line in reader]\n",
    "    num_attendees = len(langs_known)\n",
    "\n",
    "print(langs_known)\n",
    "print(num_attendees)"
   ]
  },
  {
   "cell_type": "markdown",
   "id": "dd26dbe8",
   "metadata": {},
   "source": [
    "## Find number of languages known\n",
    "Print `\"{# known by class} / {# in list} languages known by this class (as %)\"`.\n",
    "\n",
    "E.g. **12/21 languages known by this class (57%)**"
   ]
  },
  {
   "cell_type": "code",
   "execution_count": 3,
   "id": "1aa078a0",
   "metadata": {},
   "outputs": [
    {
     "name": "stdout",
     "output_type": "stream",
     "text": [
      "24 / 32 languages known by this class (75%)\n"
     ]
    }
   ],
   "source": [
    "unique_langs = {lang for langs in langs_known for lang in langs}\n",
    "num_unique = len(unique_langs)\n",
    "num_all = len(all_langs)\n",
    "print(f\"{num_unique} / {num_all} languages known by this class ({round(num_unique / num_all * 100)}%)\")"
   ]
  },
  {
   "cell_type": "markdown",
   "id": "1bf39f5f",
   "metadata": {},
   "source": [
    "## List languages not known by anyone in the class"
   ]
  },
  {
   "cell_type": "code",
   "execution_count": 4,
   "id": "5adf9055",
   "metadata": {},
   "outputs": [
    {
     "name": "stdout",
     "output_type": "stream",
     "text": [
      "Nobody knows Clojure, Delphi, Elixir, Go, Haskell, Julia, Lua, Scala\n"
     ]
    }
   ],
   "source": [
    "not_known = set(all_langs) - unique_langs\n",
    "sorted_not_known = sorted(list(not_known))\n",
    "print(f\"Nobody knows {', '.join(sorted_not_known)}\")"
   ]
  },
  {
   "cell_type": "markdown",
   "id": "88124d97",
   "metadata": {},
   "source": [
    "## Rank languages by most commonly known\n",
    "Print each language as `\"{position}: {language} ({percent_known}%)\"`, in order from most to least known\n",
    "\n",
    "e.g. **1: Python (93%)**"
   ]
  },
  {
   "cell_type": "code",
   "execution_count": 5,
   "id": "e72aaa3e",
   "metadata": {},
   "outputs": [
    {
     "name": "stdout",
     "output_type": "stream",
     "text": [
      "{'Python': 17, 'Java': 13, 'JavaScript': 10, 'TypeScript': 2, 'PHP': 2, 'SQL': 12, 'C': 7, 'C++': 7, 'C#': 2, 'Ruby': 3, 'R': 3, 'Matlab': 1, 'Go': 0, 'Rust': 1, 'Objective-C': 1, 'Swift': 1, 'Visual Basic': 4, 'Perl': 6, 'Cobol': 3, 'Fortran': 3, 'Lisp': 1, 'Assembly': 2, 'Kotlin': 1, 'Dart': 1, 'Scala': 0, 'Lua': 0, 'Delphi': 0, 'Haskell': 0, 'Julia': 0, 'Clojure': 0, 'Elixir': 0, 'Pascal': 2}\n"
     ]
    }
   ],
   "source": [
    "flattened_langs = [lang for langs in langs_known for lang in langs]\n",
    "langs_by_count = {lang: flattened_langs.count(lang) for lang in all_langs}\n",
    "\n",
    "print(langs_by_count)"
   ]
  },
  {
   "cell_type": "code",
   "execution_count": 6,
   "id": "2531a0f0-e36f-41ea-888d-31552bdbbbb6",
   "metadata": {},
   "outputs": [
    {
     "data": {
      "text/plain": [
       "[('Python', 17),\n",
       " ('Java', 13),\n",
       " ('SQL', 12),\n",
       " ('JavaScript', 10),\n",
       " ('C', 7),\n",
       " ('C++', 7),\n",
       " ('Perl', 6),\n",
       " ('Visual Basic', 4),\n",
       " ('Ruby', 3),\n",
       " ('R', 3),\n",
       " ('Cobol', 3),\n",
       " ('Fortran', 3),\n",
       " ('TypeScript', 2),\n",
       " ('PHP', 2),\n",
       " ('C#', 2),\n",
       " ('Assembly', 2),\n",
       " ('Pascal', 2),\n",
       " ('Matlab', 1),\n",
       " ('Rust', 1),\n",
       " ('Objective-C', 1),\n",
       " ('Swift', 1),\n",
       " ('Lisp', 1),\n",
       " ('Kotlin', 1),\n",
       " ('Dart', 1),\n",
       " ('Go', 0),\n",
       " ('Scala', 0),\n",
       " ('Lua', 0),\n",
       " ('Delphi', 0),\n",
       " ('Haskell', 0),\n",
       " ('Julia', 0),\n",
       " ('Clojure', 0),\n",
       " ('Elixir', 0)]"
      ]
     },
     "execution_count": 6,
     "metadata": {},
     "output_type": "execute_result"
    }
   ],
   "source": [
    "langs_by_count_list = list(langs_by_count.items())\n",
    "langs_by_count_list.sort(key=lambda t: -t[1])\n",
    "langs_by_count_list"
   ]
  },
  {
   "cell_type": "code",
   "execution_count": 7,
   "id": "6c5353d4-5237-488d-9b8e-9fe32b5a7bd7",
   "metadata": {
    "lines_to_next_cell": 2
   },
   "outputs": [
    {
     "name": "stdout",
     "output_type": "stream",
     "text": [
      "1: Python (68%)\n",
      "2: Java (52%)\n",
      "3: SQL (48%)\n",
      "4: JavaScript (40%)\n",
      "5: C (28%)\n",
      "6: C++ (28%)\n",
      "7: Perl (24%)\n",
      "8: Visual Basic (16%)\n",
      "9: Ruby (12%)\n",
      "10: R (12%)\n",
      "11: Cobol (12%)\n",
      "12: Fortran (12%)\n",
      "13: TypeScript (8%)\n",
      "14: PHP (8%)\n",
      "15: C# (8%)\n",
      "16: Assembly (8%)\n",
      "17: Pascal (8%)\n",
      "18: Matlab (4%)\n",
      "19: Rust (4%)\n",
      "20: Objective-C (4%)\n",
      "21: Swift (4%)\n",
      "22: Lisp (4%)\n",
      "23: Kotlin (4%)\n",
      "24: Dart (4%)\n",
      "25: Go (0%)\n",
      "26: Scala (0%)\n",
      "27: Lua (0%)\n",
      "28: Delphi (0%)\n",
      "29: Haskell (0%)\n",
      "30: Julia (0%)\n",
      "31: Clojure (0%)\n",
      "32: Elixir (0%)\n"
     ]
    }
   ],
   "source": [
    "for pos, (lang, count) in enumerate(langs_by_count_list, start=1):\n",
    "    print(f\"{pos}: {lang} ({round(count / num_attendees * 100)}%)\")"
   ]
  }
 ],
 "metadata": {
  "jupytext": {
   "cell_metadata_filter": "-all",
   "formats": "auto:light,ipynb",
   "main_language": "python",
   "notebook_metadata_filter": "-all"
  },
  "kernelspec": {
   "display_name": "Python 3 (ipykernel)",
   "language": "python",
   "name": "python3"
  },
  "language_info": {
   "codemirror_mode": {
    "name": "ipython",
    "version": 3
   },
   "file_extension": ".py",
   "mimetype": "text/x-python",
   "name": "python",
   "nbconvert_exporter": "python",
   "pygments_lexer": "ipython3",
   "version": "3.11.4"
  }
 },
 "nbformat": 4,
 "nbformat_minor": 5
}
