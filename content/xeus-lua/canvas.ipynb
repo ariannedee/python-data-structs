{
  "metadata": {
    "orig_nbformat": 4,
    "language_info": {
      "file_extension": ".lua",
      "mimetype": "text/x-luasrc",
      "name": "lua",
      "version": "14.0.0"
    },
    "kernelspec": {
      "name": "Lua",
      "display_name": "Lua",
      "language": "lua"
    }
  },
  "nbformat_minor": 4,
  "nbformat": 4,
  "cells": [
    {
      "cell_type": "code",
      "source": "canvas = ilua.canvas.canvas()\nilua.display.display(canvas)\ncanvas:cache()\nfor var=1,100 do\n    canvas:begin_path()\n    canvas:move_to(canvas:rand_coord())\n    for s=1,10 do\n        canvas:line_to(canvas:rand_coord())\n    end\n    canvas.fill_style = canvas:rand_color()\n    canvas:fill()\nend\ncanvas:flush()",
      "metadata": {
        "trusted": true
      },
      "execution_count": null,
      "outputs": []
    }
  ]
}